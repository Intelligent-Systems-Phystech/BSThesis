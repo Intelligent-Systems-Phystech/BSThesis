{
 "cells": [
  {
   "cell_type": "markdown",
   "metadata": {},
   "source": [
    "качаем Glove, хороший список моделей тут:"
   ]
  },
  {
   "cell_type": "markdown",
   "metadata": {},
   "source": [
    "https://github.com/3Top/word2vec-api"
   ]
  },
  {
   "cell_type": "code",
   "execution_count": 1,
   "metadata": {
    "collapsed": false
   },
   "outputs": [
    {
     "name": "stdout",
     "output_type": "stream",
     "text": [
      "--2017-03-07 17:24:12--  http://nlp.stanford.edu/data/glove.6B.zip\n",
      "Resolving nlp.stanford.edu (nlp.stanford.edu)... 171.64.67.140\n",
      "Connecting to nlp.stanford.edu (nlp.stanford.edu)|171.64.67.140|:80... connected.\n",
      "HTTP request sent, awaiting response... 200 OK\n",
      "Length: 862182613 (822M) [application/zip]\n",
      "Saving to: ‘glove.6B.zip.6’\n",
      "\n",
      "glove.6B.zip.6        0%[                    ] 274.36K  21.8KB/s    eta 8h 22m ^C\n"
     ]
    }
   ],
   "source": [
    "!wget http://nlp.stanford.edu/data/glove.6B.zip"
   ]
  },
  {
   "cell_type": "code",
   "execution_count": 3,
   "metadata": {
    "collapsed": false,
    "scrolled": true
   },
   "outputs": [
    {
     "name": "stdout",
     "output_type": "stream",
     "text": [
      "Archive:  glove.6B.zip\n",
      "  inflating: glove.6B.50d.txt        fchmod (file attributes) error: Operation not permitted\n",
      " (warning) cannot set modif./access times\n",
      "          Operation not permitted\n",
      "  inflating: glove.6B.100d.txt       ^C\n"
     ]
    }
   ],
   "source": [
    "!unzip glove.6B.zip"
   ]
  },
  {
   "cell_type": "markdown",
   "metadata": {
    "collapsed": false
   },
   "source": [
    "используем convert.py из  https://raw.githubusercontent.com/jroakes/glove-to-word2vec/master/convert.py\n",
    "По умолчанию он конвертирует модель размерности 300, мы попробуем размерность 50"
   ]
  },
  {
   "cell_type": "code",
   "execution_count": 4,
   "metadata": {
    "collapsed": false
   },
   "outputs": [
    {
     "name": "stdout",
     "output_type": "stream",
     "text": [
      "[('zealand', 0.9207794666290283), ('australian', 0.8780614733695984), ('britain', 0.8478989005088806), ('africa', 0.8332697153091431), ('england', 0.8085248470306396), ('united', 0.8037459850311279), ('canada', 0.7994688153266907), ('south', 0.7845566868782043), ('scotland', 0.7658650875091553), ('wales', 0.7653419971466064)]\r\n",
      "0.886033768342\r\n"
     ]
    }
   ],
   "source": [
    "!python convert.py"
   ]
  },
  {
   "cell_type": "code",
   "execution_count": 5,
   "metadata": {
    "collapsed": false
   },
   "outputs": [],
   "source": [
    "import gensim\n",
    "w2v = gensim.models.KeyedVectors.load_word2vec_format('./glove_model2.txt', binary=False)"
   ]
  },
  {
   "cell_type": "markdown",
   "metadata": {},
   "source": [
    "используем центроид вместо неизвестных слов"
   ]
  },
  {
   "cell_type": "code",
   "execution_count": 16,
   "metadata": {
    "collapsed": false
   },
   "outputs": [
    {
     "name": "stdout",
     "output_type": "stream",
     "text": [
      "(50,)\n"
     ]
    }
   ],
   "source": [
    "import numpy  as np\n",
    "centroid = np.mean(w2v.syn0, axis=0)\n",
    "print(centroid.shape)"
   ]
  },
  {
   "cell_type": "markdown",
   "metadata": {
    "collapsed": false
   },
   "source": [
    "Качаем архив из http://alt.qcri.org/semeval2015/task2/data/uploads/sts2015-en-post.zip   "
   ]
  },
  {
   "cell_type": "markdown",
   "metadata": {},
   "source": [
    "Создаем сразу выборки как для RNN, так и для baseline в статье (нужно убедиться что мы все напрогали правильно и RNN работает лучше базовых алгоритмов)"
   ]
  },
  {
   "cell_type": "code",
   "execution_count": 6,
   "metadata": {
    "collapsed": true
   },
   "outputs": [],
   "source": [
    "from collections import Counter\n",
    "def cosine_tokens(tokens1, tokens2):\n",
    "    c1 = Counter(tokens1)\n",
    "    c2 = Counter(tokens2)\n",
    "    intersection = set(c1.keys()) & set(c2.keys())\n",
    "    numerator = sum([c1[x] * c2[x] for x in intersection])\n",
    "    sum1 = sum([c1[x]**2 for x in c1.keys()])\n",
    "    sum2 = sum([c2[x]**2 for x in c2.keys()])\n",
    "    denominator = np.sqrt(sum1) * np.sqrt(sum2)\n",
    "    if not denominator:\n",
    "        return 0.0\n",
    "    else:\n",
    "        return float(numerator) / denominator\n",
    "    "
   ]
  },
  {
   "cell_type": "code",
   "execution_count": 7,
   "metadata": {
    "collapsed": true
   },
   "outputs": [],
   "source": [
    "def jaccard(tokens1, tokens2):\n",
    "    set1 = set(tokens1)\n",
    "    set2 = set(tokens2)\n",
    "    return float(len(set1 | set2))/(len(set1) + len(set2) - len(set1&set2))"
   ]
  },
  {
   "cell_type": "code",
   "execution_count": 19,
   "metadata": {
    "collapsed": false
   },
   "outputs": [],
   "source": [
    "from scipy.spatial.distance import cosine\n",
    "import numpy as np\n",
    "import re\n",
    "filename = 'text.clean'\n",
    "X,Y = [],[]\n",
    "X_base = []\n",
    "with open(filename) as inp:    \n",
    "    for line in inp:    \n",
    "        sublines = line.split('\\t')\n",
    "        score = int(np.round(float(sublines[0])).astype(np.uint))\n",
    "        vectors = []\n",
    "        tokens = []\n",
    "        for subline in [sublines[4],sublines[5]]:\n",
    "            subline = re.sub('[^a-z\\s]+', ' ', subline.lower())\n",
    "            tokens.append([t for t in subline.split()])\n",
    "            vectors.append([w2v[t] if t in w2v.vocab else centroid for t in tokens[-1] ])\n",
    "        if len(vectors[0])==0 :\n",
    "            vectors[0].append(centroid)\n",
    "        if len(vectors[1])==0:\n",
    "            vectors[1].append(centroid)\n",
    "        X.append(vectors[0])\n",
    "        X.append(vectors[1])\n",
    "        X_base.append([cosine(np.mean(vectors[0], axis=0),np.mean(vectors[1],axis=0)), cosine_tokens(tokens[0], tokens[1]),\n",
    "                      jaccard(tokens[0], tokens[1])])\n",
    "        Y.append(score)\n",
    "idx = np.arange(len(Y))\n",
    "np.random.shuffle(idx)\n",
    "\n",
    "X_base = [X_base[i] for i in idx]\n",
    "Y = [Y[i] for i in idx]\n",
    "X_new = []\n",
    "for i in idx:\n",
    "    X_new.append(X[2*i])\n",
    "    X_new.append(X[2*i+1])\n",
    "np.save('semeval_x', X_new)\n",
    "np.save('semeval_x_baseline', X_base)\n",
    "np.save('semeval_y', Y)"
   ]
  }
 ],
 "metadata": {
  "kernelspec": {
   "display_name": "Python 3",
   "language": "python",
   "name": "python3"
  },
  "language_info": {
   "codemirror_mode": {
    "name": "ipython",
    "version": 3
   },
   "file_extension": ".py",
   "mimetype": "text/x-python",
   "name": "python",
   "nbconvert_exporter": "python",
   "pygments_lexer": "ipython3",
   "version": "3.6.0"
  }
 },
 "nbformat": 4,
 "nbformat_minor": 0
}
