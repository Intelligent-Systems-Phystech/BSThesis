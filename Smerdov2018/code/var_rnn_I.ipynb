{
 "cells": [
  {
   "cell_type": "markdown",
   "metadata": {},
   "source": [
    "Базовый эксперимент с RNN, с вариационным выводом\n",
    "\n",
    "В качестве априоного рассматривается распредедение $\\mathcal{N}(\\mathbf{0}, 1000\\mathbf{I})$,\n",
    "в качестве вариационного --- $\\mathcal{N}(\\mathbf{m}, \\beta \\mathbf{I})$."
   ]
  },
  {
   "cell_type": "code",
   "execution_count": 1,
   "metadata": {
    "collapsed": false
   },
   "outputs": [
    {
     "name": "stderr",
     "output_type": "stream",
     "text": [
      "WARNING (theano.sandbox.cuda): The cuda backend is deprecated and will be removed in the next release (v0.10).  Please switch to the gpuarray backend. You can get more information about how to switch at this URL:\n",
      " https://github.com/Theano/Theano/wiki/Converting-to-the-new-gpu-back-end%28gpuarray%29\n",
      "\n",
      "Using gpu device 0: GeForce GT 740M (CNMeM is disabled, cuDNN not available)\n"
     ]
    }
   ],
   "source": [
    "import numpy as np\n",
    "import theano\n",
    "import theano.tensor as T\n",
    "import pandas as pd\n",
    "from sklearn.metrics import f1_score\n",
    "from collections import OrderedDict\n",
    "import matplotlib.pyplot as plt\n",
    "import matplotlib as mpl\n",
    "%matplotlib inline\n",
    "import seaborn as sns\n",
    "# sns.set(rc={\"figure.figsize\": (8, 6.5)})\n",
    "sns.set(rc={\"figure.figsize\": (12, 10.8)})\n",
    "from sklearn.externals import joblib\n",
    "if theano.config.device == 'gpu':\n",
    "    from theano.sandbox.rng_mrg import MRG_RandomStreams as RandomStreams\n",
    "else:\n",
    "    from theano.tensor.shared_randomstreams import RandomStreams"
   ]
  },
  {
   "cell_type": "code",
   "execution_count": 2,
   "metadata": {
    "collapsed": true
   },
   "outputs": [],
   "source": [
    "fx = theano.config.floatX\n",
    "suffix = 'I_I'\n",
    "\n",
    "plt.style.use('classic')\n",
    "mpl.rcParams['savefig.format'] = 'pdf'\n",
    "\n",
    "border = 20"
   ]
  },
  {
   "cell_type": "markdown",
   "metadata": {},
   "source": [
    "# Подготовка к обучению, создание функций."
   ]
  },
  {
   "cell_type": "markdown",
   "metadata": {},
   "source": [
    "Делим выборку в отношении 85%/15%."
   ]
  },
  {
   "cell_type": "code",
   "execution_count": 3,
   "metadata": {
    "collapsed": false
   },
   "outputs": [],
   "source": [
    "X = np.load('semeval_x.npy')\n",
    "Y= np.load('semeval_y.npy').astype(np.int32)\n",
    "\n",
    "part = int(len(Y)*0.85)\n",
    "\n",
    "max_len = max([len(x) for x in X])\n",
    "X_masked1,X_masked2  = np.zeros((Y.shape[0], max_len, 50)).astype(fx),np.zeros((Y.shape[0], max_len, 50)).astype(fx)\n",
    "Mask1, Mask2 = np.zeros((Y.shape[0], max_len)).astype(fx), np.zeros((Y.shape[0], max_len)).astype(fx)\n",
    "for i in range(X.shape[0]//2):\n",
    "    X_masked1[i, :len(X[2*i])] = X[2*i]\n",
    "    X_masked2[i, :len(X[2*i+1])] = X[2*i+1]\n",
    "    Mask1[i,  :len(X[2*i])] = 1.0\n",
    "    Mask2[i,  :len(X[2*i+1])] = 1.0\n",
    "    \n",
    "X_train1, X_test1=X_masked1[:part],  X_masked1[part:],\n",
    "X_train2, X_test2 = X_masked2[:part],X_masked2[part:]\n",
    "\n",
    "M_train1, M_test1= Mask1[:part], Mask1[part:],\n",
    "M_train2, M_test2  = Mask2[:part],Mask2[part:]\n",
    "Y_train,  Y_test = Y[:part], Y[part:]"
   ]
  },
  {
   "cell_type": "markdown",
   "metadata": {},
   "source": [
    "Инициализируем переменные:"
   ]
  },
  {
   "cell_type": "code",
   "execution_count": 4,
   "metadata": {
    "collapsed": false
   },
   "outputs": [],
   "source": [
    "prior_log_sigma = theano.shared((np.log(10)).astype(fx))\n",
    "prior_mu = theano.shared(np.array(0.0).astype(fx))\n",
    "var_log_sigma = theano.shared((np.log(0.1)).astype(fx))\n",
    "\n",
    "lr = theano.shared(np.array(0.05).astype(fx))\n",
    "hidden_size = 50\n",
    "input_size = 50"
   ]
  },
  {
   "cell_type": "markdown",
   "metadata": {},
   "source": [
    "Создание входных тензоров.\n",
    "\n",
    "Для каждой группы параметров из модели создаем переменную <название группы>_mean. В терминах Graves - наше вариационное распределение выглядит как:\n",
    "Q([W_mean, U_mean, b_mean, ...], $e^\\text{var_log_sigma}$)\n",
    "\n",
    "Использовани логарифма в отклонении помогает избежать возможных переполнений и пр."
   ]
  },
  {
   "cell_type": "markdown",
   "metadata": {},
   "source": [
    "Все параметры будут храниться в больших shared-тензорах и потом делиться на несколько частей, соответствующих матрицам и векторам. Для упрощения дальнейших записей сразу оговорим размеры матриц и векторов. Для каждого из них будем выделять соответствующий кусок в большом тензоре при помощи различных длин."
   ]
  },
  {
   "cell_type": "code",
   "execution_count": 5,
   "metadata": {
    "collapsed": false
   },
   "outputs": [],
   "source": [
    "shape_W = (input_size,hidden_size)\n",
    "shape_U = (hidden_size,hidden_size)\n",
    "shape_b = (hidden_size)\n",
    "shape_h0 = (hidden_size)\n",
    "shape_W_softmax = (2*hidden_size,6)\n",
    "shape_b_softmax = (6)\n",
    "\n",
    "len_W = shape_W[0]*shape_W[1]; len_W_start = 0\n",
    "len_U = shape_U[0]*shape_U[1]; len_U_start = len_W_start + len_W\n",
    "len_b = shape_b; len_b_start = len_U_start + len_U\n",
    "len_h0 = shape_h0; len_h0_start = len_b_start + len_b\n",
    "len_W_softmax = shape_W_softmax[0]*shape_W_softmax[1]; len_W_softmax_start = len_h0_start + len_h0\n",
    "len_b_softmax = shape_b_softmax; len_b_softmax_start = len_W_softmax_start + len_W_softmax\n",
    "\n",
    "len_flatten = len_W + len_U + len_b + len_h0 + len_W_softmax + len_b_softmax"
   ]
  },
  {
   "cell_type": "markdown",
   "metadata": {},
   "source": [
    "Суммарное число параметров"
   ]
  },
  {
   "cell_type": "code",
   "execution_count": 6,
   "metadata": {
    "collapsed": false
   },
   "outputs": [
    {
     "data": {
      "text/plain": [
       "5706"
      ]
     },
     "execution_count": 6,
     "metadata": {},
     "output_type": "execute_result"
    }
   ],
   "source": [
    "len_flatten"
   ]
  },
  {
   "cell_type": "markdown",
   "metadata": {},
   "source": [
    "Создаём переменную mask_tensor, которая определяет, какие веса будут участвовать в обучении. Также создаём indexes_tensor, хранящий индексы ненулевых элементво mask_tensor."
   ]
  },
  {
   "cell_type": "code",
   "execution_count": 7,
   "metadata": {
    "collapsed": false
   },
   "outputs": [],
   "source": [
    "mask_tensor = theano.shared(np.ones(len_flatten,dtype=fx))\n",
    "indexes_tensor = mask_tensor.nonzero()[0]"
   ]
  },
  {
   "cell_type": "code",
   "execution_count": 8,
   "metadata": {
    "collapsed": true
   },
   "outputs": [],
   "source": [
    "W_mask = mask_tensor[len_W_start:len_W_start+len_W].reshape(shape_W)\n",
    "U_mask = mask_tensor[len_U_start:len_U_start+len_U].reshape(shape_U)\n",
    "b_mask = mask_tensor[len_b_start:len_b_start+len_b]\n",
    "h0_mask = mask_tensor[len_h0_start:len_h0_start+len_h0]\n",
    "softmax_W_mask = mask_tensor[len_W_softmax_start:len_W_softmax_start+len_W_softmax].reshape(shape_W_softmax)\n",
    "softmax_b_mask = mask_tensor[len_b_softmax_start:len_b_softmax_start+len_b_softmax]"
   ]
  },
  {
   "cell_type": "markdown",
   "metadata": {},
   "source": [
    "Аналогично создаём переменную mean_tensor, хранящую средние значения."
   ]
  },
  {
   "cell_type": "code",
   "execution_count": 9,
   "metadata": {
    "collapsed": true
   },
   "outputs": [],
   "source": [
    "mean_tensor = theano.shared(np.zeros(len_flatten,dtype=fx))"
   ]
  },
  {
   "cell_type": "code",
   "execution_count": 10,
   "metadata": {
    "collapsed": false
   },
   "outputs": [],
   "source": [
    "W_mean = mean_tensor[len_W_start:len_W_start+len_W].reshape(shape_W)\n",
    "U_mean = mean_tensor[len_U_start:len_U_start+len_U].reshape(shape_U)\n",
    "b_mean = mean_tensor[len_b_start:len_b_start+len_b]\n",
    "h0_mean = mean_tensor[len_h0_start:len_h0_start+len_h0]\n",
    "softmax_W_mean = mean_tensor[len_W_softmax_start:len_W_softmax_start+len_W_softmax].reshape(shape_W_softmax)\n",
    "softmax_b_mean = mean_tensor[len_b_softmax_start:len_b_softmax_start+len_b_softmax]"
   ]
  },
  {
   "cell_type": "code",
   "execution_count": 11,
   "metadata": {
    "collapsed": true
   },
   "outputs": [],
   "source": [
    "# mask_tensor.set_value(np.ones(len_flatten,dtype=fx))\n",
    "# mean_tensor.set_value(np.ones(len_flatten,dtype=fx))"
   ]
  },
  {
   "cell_type": "markdown",
   "metadata": {},
   "source": [
    "В mean_masked_tensor хранятся невырезанные веса. Эта переменная удобна для записи дальнейших формул."
   ]
  },
  {
   "cell_type": "code",
   "execution_count": 12,
   "metadata": {
    "collapsed": true
   },
   "outputs": [],
   "source": [
    "mean_masked_tensor = mean_tensor[indexes_tensor]"
   ]
  },
  {
   "cell_type": "markdown",
   "metadata": {},
   "source": [
    "Число параметров N_params."
   ]
  },
  {
   "cell_type": "code",
   "execution_count": 13,
   "metadata": {
    "collapsed": false
   },
   "outputs": [],
   "source": [
    "N_params = mean_masked_tensor.shape[0].astype('int32')"
   ]
  },
  {
   "cell_type": "code",
   "execution_count": 14,
   "metadata": {
    "collapsed": false
   },
   "outputs": [
    {
     "data": {
      "text/plain": [
       "array(5706, dtype=int32)"
      ]
     },
     "execution_count": 14,
     "metadata": {},
     "output_type": "execute_result"
    }
   ],
   "source": [
    "N_params.eval()"
   ]
  },
  {
   "cell_type": "code",
   "execution_count": 15,
   "metadata": {
    "collapsed": false
   },
   "outputs": [],
   "source": [
    "X_tensor1, X_tensor2 = T.tensor3(), T.tensor3()\n",
    "Mask_matrix1, Mask_matrix2 = T.matrix(), T.matrix()\n",
    "Y_vector = T.ivector()"
   ]
  },
  {
   "cell_type": "markdown",
   "metadata": {},
   "source": [
    "Сэмплируем параметры.\n",
    "\n",
    "Теперь все наши параметры имеют на одну размерность больше (размер батча $\\times$ старые размерности).\n",
    "С точки зрения технической реализации, единственное, что нам придется изменить --- это заменить перемножение матриц T.dot на перемножение тензоров T.batched_dot."
   ]
  },
  {
   "cell_type": "markdown",
   "metadata": {},
   "source": [
    "Учитываем маски домножением на mask. Обнуление весов в mean будет дальше."
   ]
  },
  {
   "cell_type": "code",
   "execution_count": 16,
   "metadata": {
    "collapsed": false
   },
   "outputs": [],
   "source": [
    "srng = RandomStreams()\n",
    "W = srng.normal((X_tensor1.shape[0],input_size, hidden_size))*T.exp(var_log_sigma)*W_mask + W_mean\n",
    "U = srng.normal((X_tensor1.shape[0],hidden_size, hidden_size))*T.exp(var_log_sigma)*U_mask + U_mean\n",
    "b = srng.normal((X_tensor1.shape[0], hidden_size))*T.exp(var_log_sigma)*b_mask + b_mean\n",
    "h0 = srng.normal((X_tensor1.shape[0],  hidden_size))*T.exp(var_log_sigma)*h0_mask + h0_mean\n",
    "softmax_W = srng.normal((X_tensor1.shape[0],2*hidden_size,6))*T.exp(var_log_sigma)*softmax_W_mask +softmax_W_mean\n",
    "softmax_b = srng.normal((X_tensor1.shape[0],6))*T.exp(var_log_sigma)*softmax_b_mask + softmax_b_mean"
   ]
  },
  {
   "cell_type": "markdown",
   "metadata": {},
   "source": [
    "Создаём детерминированные батчи для предсказаний:"
   ]
  },
  {
   "cell_type": "code",
   "execution_count": 17,
   "metadata": {
    "collapsed": false
   },
   "outputs": [],
   "source": [
    "W_mean_batch = T.zeros((X_tensor1.shape[0],input_size, hidden_size),dtype=fx) + W_mean\n",
    "U_mean_batch = T.zeros((X_tensor1.shape[0],hidden_size, hidden_size),dtype=fx) + U_mean\n",
    "b_mean_batch = T.zeros((X_tensor1.shape[0],hidden_size),dtype=fx) + b_mean\n",
    "h0_mean_batch = T.zeros((X_tensor1.shape[0],hidden_size),dtype=fx) + h0_mean\n",
    "softmax_W_mean_batch = T.zeros((X_tensor1.shape[0],2*hidden_size,6),dtype=fx) + softmax_W_mean\n",
    "softmax_b_mean_batch = T.zeros((X_tensor1.shape[0],6),dtype=fx) + softmax_b_mean"
   ]
  },
  {
   "cell_type": "markdown",
   "metadata": {},
   "source": [
    "Один шаг кодирования:\n",
    "    $$h_i = \\text{tanh}(\\mathbf{XW} + \\mathbf{h_{i-1}U} + \\mathbf{b}) $$\n",
    "    \n",
    "XW уже перемножено для оптимизации."
   ]
  },
  {
   "cell_type": "code",
   "execution_count": 18,
   "metadata": {
    "collapsed": false
   },
   "outputs": [],
   "source": [
    "def encode_step(XW_matrix, hidden, U, b):\n",
    "    return T.tanh(XW_matrix  + T.batched_dot(hidden, U) + b)"
   ]
  },
  {
   "cell_type": "markdown",
   "metadata": {},
   "source": [
    "Обертка кодирования с учетом маски."
   ]
  },
  {
   "cell_type": "code",
   "execution_count": 19,
   "metadata": {
    "collapsed": true
   },
   "outputs": [],
   "source": [
    "def masked_step(XW, hidden, mask, U, b):\n",
    "    hid_new = encode_step(XW, hidden, U, b)\n",
    "    mask_axis = T.tile(mask, (XW.shape[1], 1)).T\n",
    "    hid_out = T.switch(mask_axis, hid_new, hidden)\n",
    "    return hid_out"
   ]
  },
  {
   "cell_type": "markdown",
   "metadata": {},
   "source": [
    "Построение модели."
   ]
  },
  {
   "cell_type": "code",
   "execution_count": 20,
   "metadata": {
    "collapsed": false
   },
   "outputs": [],
   "source": [
    "XW1 = T.batched_dot(X_tensor1, W)\n",
    "XW2 = T.batched_dot(X_tensor2, W)\n",
    "\n",
    "hiddens1, hiddens2 = [h0], [h0]\n",
    "for i in range(max_len):\n",
    "    hiddens1.append(masked_step(XW1[:,i,:], hiddens1[-1], Mask_matrix1[:,i], U, b))\n",
    "    hiddens2.append(masked_step(XW2[:,i,:], hiddens2[-1], Mask_matrix2[:,i], U, b))\n",
    "output = T.nnet.softmax(T.batched_dot(T.concatenate([hiddens1[-1], hiddens2[-1]], axis=1 ), softmax_W)+softmax_b)"
   ]
  },
  {
   "cell_type": "code",
   "execution_count": 21,
   "metadata": {
    "collapsed": false
   },
   "outputs": [],
   "source": [
    "softmax_cost = -T.sum(T.log(output)[T.arange(Y_vector.shape[0]), Y_vector])*X_train1.shape[0]/X_tensor1.shape[0]"
   ]
  },
  {
   "cell_type": "markdown",
   "metadata": {},
   "source": [
    "Аналогично создаём детерминированные версии для предсказания:"
   ]
  },
  {
   "cell_type": "code",
   "execution_count": 22,
   "metadata": {
    "collapsed": false
   },
   "outputs": [],
   "source": [
    "XW1_det = T.batched_dot(X_tensor1, W_mean_batch)\n",
    "XW2_det = T.batched_dot(X_tensor2, W_mean_batch)\n",
    "\n",
    "hiddens1_det, hiddens2_det = [h0_mean_batch], [h0_mean_batch]\n",
    "for i in range(max_len):\n",
    "    hiddens1_det.append(masked_step(XW1_det[:,i,:], hiddens1_det[-1], Mask_matrix1[:,i], U_mean_batch,\\\n",
    "                                        b_mean_batch))\n",
    "    hiddens2_det.append(masked_step(XW2_det[:,i,:], hiddens2_det[-1], Mask_matrix2[:,i], U_mean_batch,\\\n",
    "                                        b_mean_batch))\n",
    "output_det = T.nnet.softmax(T.batched_dot(T.concatenate([hiddens1_det[-1], hiddens2_det[-1]], axis=1 ),\\\n",
    "                                          softmax_W_mean_batch)+softmax_b_mean_batch)"
   ]
  },
  {
   "cell_type": "markdown",
   "metadata": {},
   "source": [
    "Расстояние KL для двух гауссовых распределений.\n",
    "\n",
    "Смотри русскую вики, в их терминах нулевой индекс соответствует вариационному распределению,\n",
    "первый индекс - априорному"
   ]
  },
  {
   "cell_type": "code",
   "execution_count": 23,
   "metadata": {
    "collapsed": false
   },
   "outputs": [],
   "source": [
    "KLD = N_params * (prior_log_sigma - var_log_sigma) + \\\n",
    "    T.dot(prior_mu- mean_masked_tensor,(prior_mu-mean_masked_tensor).T)/(2*T.exp(2*prior_log_sigma)) + \\\n",
    "    N_params * (T.exp(2*var_log_sigma) - T.exp(2*prior_log_sigma)) /(2*T.exp(2*prior_log_sigma))"
   ]
  },
  {
   "cell_type": "code",
   "execution_count": 24,
   "metadata": {
    "collapsed": false
   },
   "outputs": [],
   "source": [
    "cost = softmax_cost + KLD"
   ]
  },
  {
   "cell_type": "markdown",
   "metadata": {},
   "source": [
    "Код adagrad из lasagne с учётом масок. Производные по выброшенным весам умножаются на ноль."
   ]
  },
  {
   "cell_type": "code",
   "execution_count": 25,
   "metadata": {
    "collapsed": true
   },
   "outputs": [],
   "source": [
    "def lasagne_adagrad_with_mask(loss, params, mask, learning_rate=1.0, epsilon=1e-6):   \n",
    "    grads = [T.grad(loss,p) for p in params]\n",
    "    grads[0] = grads[0] * mask_tensor\n",
    "    updates = OrderedDict()\n",
    "\n",
    "    for param, grad in zip(params, grads):\n",
    "        value = param.get_value(borrow=True)\n",
    "#         value = param.eval() # added by Anton\n",
    "        accu = theano.shared(np.zeros(value.shape, dtype=value.dtype),\n",
    "                             broadcastable=param.broadcastable)\n",
    "        accu_new = accu + grad ** 2\n",
    "        updates[accu] = accu_new\n",
    "        updates[param] = param - (learning_rate * grad /\n",
    "                                  T.sqrt(accu_new + epsilon))\n",
    "\n",
    "    return updates"
   ]
  },
  {
   "cell_type": "markdown",
   "metadata": {},
   "source": [
    "Компиляция"
   ]
  },
  {
   "cell_type": "code",
   "execution_count": 26,
   "metadata": {
    "collapsed": true
   },
   "outputs": [],
   "source": [
    "evidence_fn = theano.function([X_tensor1, X_tensor2, Mask_matrix1, Mask_matrix2,  Y_vector],cost)"
   ]
  },
  {
   "cell_type": "code",
   "execution_count": 27,
   "metadata": {
    "collapsed": false
   },
   "outputs": [
    {
     "data": {
      "text/plain": [
       "array(36790.499228134155)"
      ]
     },
     "execution_count": 27,
     "metadata": {},
     "output_type": "execute_result"
    }
   ],
   "source": [
    "evidence_fn(X_train1,X_train2,M_train1,M_train2,Y_train)"
   ]
  },
  {
   "cell_type": "code",
   "execution_count": 28,
   "metadata": {
    "collapsed": false,
    "scrolled": true
   },
   "outputs": [],
   "source": [
    "params_to_optimize  = [mean_tensor,var_log_sigma]\n",
    "train_fn = theano.function([X_tensor1, X_tensor2, Mask_matrix1, Mask_matrix2,  Y_vector], cost,  \n",
    "    updates=lasagne_adagrad_with_mask(cost, params_to_optimize, mask_tensor, learning_rate=lr), \n",
    "    on_unused_input='ignore')\n",
    "predict_fn_det = theano.function([X_tensor1, X_tensor2, Mask_matrix1, Mask_matrix2], output_det, \\\n",
    "    on_unused_input='ignore')"
   ]
  },
  {
   "cell_type": "markdown",
   "metadata": {},
   "source": [
    "# Обучение"
   ]
  },
  {
   "cell_type": "markdown",
   "metadata": {},
   "source": [
    "Подготовка к запуску оптимизации. Создаём словарь, который будет хранить самые успешные параметры модели и списки с историями обучения."
   ]
  },
  {
   "cell_type": "code",
   "execution_count": 29,
   "metadata": {
    "collapsed": true
   },
   "outputs": [],
   "source": [
    "best_params = dict()\n",
    "\n",
    "history_evidence = []\n",
    "history_score_test = []\n",
    "history_score_train = []"
   ]
  },
  {
   "cell_type": "markdown",
   "metadata": {},
   "source": [
    "Создаём специальную функцию для перезапуска обучения. В ней инициализируем матрицы небольшими случайными числами."
   ]
  },
  {
   "cell_type": "code",
   "execution_count": 30,
   "metadata": {
    "collapsed": true
   },
   "outputs": [],
   "source": [
    "def reset_params():\n",
    "    k = 0.001\n",
    "    prior_log_sigma.set_value(-2)\n",
    "    var_log_sigma.set_value(-2)\n",
    "    prior_mu.set_value(0)\n",
    "    mean_tensor.set_value((np.random.randn(len_flatten)*k* np.exp(var_log_sigma.eval())).astype(fx))\n",
    "    best_params.update({'mean_tensor':mean_tensor.get_value()})\n",
    "    best_params.update({'var_log_sigma':var_log_sigma.get_value()})\n",
    "    \n",
    "    history_evidence.clear()\n",
    "    history_score_test.clear()\n",
    "    history_score_train.clear()"
   ]
  },
  {
   "cell_type": "code",
   "execution_count": 31,
   "metadata": {
    "collapsed": false
   },
   "outputs": [],
   "source": [
    "def reset_masks():\n",
    "    mask_tensor.set_value(np.ones(len_flatten, dtype=fx))"
   ]
  },
  {
   "cell_type": "code",
   "execution_count": 32,
   "metadata": {
    "collapsed": false
   },
   "outputs": [],
   "source": [
    "reset_params()\n",
    "reset_masks()"
   ]
  },
  {
   "cell_type": "markdown",
   "metadata": {},
   "source": [
    "Специальная функция для пересчёта априорного распределения."
   ]
  },
  {
   "cell_type": "code",
   "execution_count": 33,
   "metadata": {
    "collapsed": true
   },
   "outputs": [],
   "source": [
    "def update_alpha():\n",
    "    pls = prior_log_sigma.eval(); vls = var_log_sigma.eval()\n",
    "    pm = np.array(prior_mu.eval()).reshape(1)[0]; Np = N_params.eval()\n",
    "    \n",
    "    prior_mu.set_value(np.mean(mean_masked_tensor.eval()).astype(fx))\n",
    "    prior_log_sigma.set_value(0.5*np.log((np.exp(2*vls) + np.dot(pm - mean_masked_tensor.eval(),\\\n",
    "         (pm - mean_masked_tensor.eval()).T)/Np).astype(fx)))"
   ]
  },
  {
   "cell_type": "markdown",
   "metadata": {},
   "source": [
    "Настаиваем параметры запуска модели."
   ]
  },
  {
   "cell_type": "code",
   "execution_count": 34,
   "metadata": {
    "collapsed": false
   },
   "outputs": [],
   "source": [
    "n_epoches = 500\n",
    "batch_size = 100\n",
    "esr = 20 # early stopping rounds\n",
    "lr.set_value(0.01)\n",
    "average_method = 'weighted'"
   ]
  },
  {
   "cell_type": "markdown",
   "metadata": {},
   "source": [
    "Валидация считается на всем train и test на каждой эпохе для последующего построения графика. Ранняя остановка делается на основе ошибки на тренировочной выборке."
   ]
  },
  {
   "cell_type": "code",
   "execution_count": 35,
   "metadata": {
    "collapsed": false
   },
   "outputs": [],
   "source": [
    "def train(n_epoches = n_epoches, early_stopping_rounds = 6, batch_size = batch_size, lr_value = None,\\\n",
    "        average_method = 'macro',history_evidence=history_evidence,history_score_test=history_score_test,\\\n",
    "        history_score_train=history_score_train,border=border):\n",
    "    if lr_value!=None: lr.set_value(lr_value) # чтобы задавать lr извне\n",
    "    best_score_train = 0; esr_counter = 0; best_epoch = 0; best_score_test = 0 # для ранней остановки\n",
    "    best_evidence = 1000000000\n",
    "    for epoch in range(n_epoches):\n",
    "        batch_results = []\n",
    "        train_ids = np.arange(X_train1.shape[0])\n",
    "        np.random.shuffle(train_ids) # рандомизация батчей\n",
    "        for batch_start in range(0, X_train1.shape[0] + batch_size,  batch_size):\n",
    "            batch_ids = train_ids[batch_start:min(X_train1.shape[0], batch_start + batch_size)]\n",
    "            if len(batch_ids)==0: break\n",
    "            x1, x2 = X_train1[batch_ids], X_train2[batch_ids]\n",
    "            m1, m2 = M_train1[batch_ids], M_train2[batch_ids]\n",
    "            y = Y_train[batch_ids]\n",
    "            batch_results.append(train_fn(x1,x2, m1, m2, y))\n",
    "            update_alpha()\n",
    "\n",
    "        evidence = np.mean(batch_results)\n",
    "        history_evidence.append(evidence)\n",
    "\n",
    "        print('Epoch =',epoch,'Evidence = ', np.round(evidence,0), '| pls =',np.round(prior_log_sigma.eval(),2),\\\n",
    "              '| vls =', np.round(var_log_sigma.eval(),2),'| mu =', np.round(prior_mu.eval(),5))\n",
    "        \n",
    "        y_pred_test = np.argmax(predict_fn_det(X_test1, X_test2, M_test1, M_test2), axis=1)\n",
    "        y_pred_train = np.argmax(predict_fn_det(X_train1, X_train2, M_train1, M_train2), axis=1)\n",
    "        score_test = f1_score(Y_test, y_pred_test, average=average_method)\n",
    "        score_train = f1_score(Y_train, y_pred_train, average=average_method)\n",
    "        \n",
    "        history_score_test.append(score_test); history_score_train.append(score_train)\n",
    "        print('Train_score =',np.round(score_train,3),'| Test_score =',np.round(score_test,3))\n",
    "        if (evidence < best_evidence - border): esr_counter = 0\n",
    "        else: esr_counter+=1\n",
    "        if (evidence < best_evidence): # для ранней остановки\n",
    "            best_evidence = evidence\n",
    "            best_score_train = score_train\n",
    "            best_score_test = score_test\n",
    "            best_epoch = epoch\n",
    "            best_params.update({'mean_tensor':mean_tensor.get_value()})\n",
    "            best_params.update({'var_log_sigma':var_log_sigma.get_value()})\n",
    "        if (esr_counter >= early_stopping_rounds):\n",
    "            print('Early Stopping')\n",
    "            return best_evidence, best_score_train, best_score_test, best_epoch\n",
    "        elif (epoch==n_epoches-1): return best_evidence, best_score_train, best_score_test, best_epoch"
   ]
  },
  {
   "cell_type": "code",
   "execution_count": 37,
   "metadata": {
    "collapsed": false,
    "scrolled": true
   },
   "outputs": [
    {
     "name": "stdout",
     "output_type": "stream",
     "text": [
      "Epoch = 0 Evidence =  13536.0 | pls = -2.13 | vls = -2.15 | mu = -0.00023\n",
      "Train_score = 0.19 | Test_score = 0.166\n",
      "Epoch = 1 Evidence =  12700.0 | pls = -2.17 | vls = -2.2 | mu = -0.00034\n",
      "Train_score = 0.247 | Test_score = 0.228\n",
      "Epoch = 2 Evidence =  12445.0 | pls = -2.21 | vls = -2.24 | mu = -0.00058\n"
     ]
    },
    {
     "name": "stderr",
     "output_type": "stream",
     "text": [
      "/home/asm/anaconda3/lib/python3.6/site-packages/sklearn/metrics/classification.py:1113: UndefinedMetricWarning: F-score is ill-defined and being set to 0.0 in labels with no predicted samples.\n",
      "  'precision', 'predicted', average, warn_for)\n"
     ]
    },
    {
     "name": "stdout",
     "output_type": "stream",
     "text": [
      "Train_score = 0.253 | Test_score = 0.241\n",
      "Epoch = 3 Evidence =  12220.0 | pls = -2.24 | vls = -2.28 | mu = -0.00063\n",
      "Train_score = 0.262 | Test_score = 0.251\n",
      "Epoch = 4 Evidence =  12155.0 | pls = -2.26 | vls = -2.3 | mu = -0.00066\n",
      "Train_score = 0.268 | Test_score = 0.247\n",
      "Epoch = 5 Evidence =  12038.0 | pls = -2.28 | vls = -2.33 | mu = -0.00059\n",
      "Train_score = 0.274 | Test_score = 0.257\n",
      "Epoch = 6 Evidence =  11974.0 | pls = -2.3 | vls = -2.35 | mu = -0.00068\n",
      "Train_score = 0.284 | Test_score = 0.261\n",
      "Epoch = 7 Evidence =  11915.0 | pls = -2.32 | vls = -2.37 | mu = -0.0007\n",
      "Train_score = 0.286 | Test_score = 0.257\n",
      "Epoch = 8 Evidence =  11802.0 | pls = -2.34 | vls = -2.38 | mu = -0.00072\n",
      "Train_score = 0.289 | Test_score = 0.265\n",
      "Epoch = 9 Evidence =  11783.0 | pls = -2.35 | vls = -2.4 | mu = -0.00071\n",
      "Train_score = 0.287 | Test_score = 0.256\n",
      "Epoch = 10 Evidence =  11768.0 | pls = -2.36 | vls = -2.41 | mu = -0.00074\n",
      "Train_score = 0.295 | Test_score = 0.28\n",
      "Epoch = 11 Evidence =  11768.0 | pls = -2.38 | vls = -2.43 | mu = -0.00077\n",
      "Train_score = 0.294 | Test_score = 0.266\n",
      "Epoch = 12 Evidence =  11740.0 | pls = -2.39 | vls = -2.44 | mu = -0.00079\n",
      "Train_score = 0.301 | Test_score = 0.278\n",
      "Epoch = 13 Evidence =  11589.0 | pls = -2.4 | vls = -2.45 | mu = -0.00082\n",
      "Train_score = 0.299 | Test_score = 0.279\n",
      "Epoch = 14 Evidence =  11646.0 | pls = -2.41 | vls = -2.46 | mu = -0.00079\n",
      "Train_score = 0.302 | Test_score = 0.278\n",
      "Epoch = 15 Evidence =  11660.0 | pls = -2.42 | vls = -2.48 | mu = -0.00077\n",
      "Train_score = 0.299 | Test_score = 0.277\n",
      "Epoch = 16 Evidence =  11602.0 | pls = -2.43 | vls = -2.49 | mu = -0.00078\n",
      "Train_score = 0.311 | Test_score = 0.283\n",
      "Epoch = 17 Evidence =  11585.0 | pls = -2.44 | vls = -2.5 | mu = -0.00077\n",
      "Train_score = 0.31 | Test_score = 0.29\n",
      "Epoch = 18 Evidence =  11587.0 | pls = -2.45 | vls = -2.51 | mu = -0.00079\n",
      "Train_score = 0.308 | Test_score = 0.279\n",
      "Epoch = 19 Evidence =  11577.0 | pls = -2.46 | vls = -2.52 | mu = -0.00083\n",
      "Train_score = 0.316 | Test_score = 0.302\n",
      "Epoch = 20 Evidence =  11593.0 | pls = -2.47 | vls = -2.53 | mu = -0.00086\n",
      "Train_score = 0.311 | Test_score = 0.288\n",
      "Epoch = 21 Evidence =  11460.0 | pls = -2.47 | vls = -2.53 | mu = -0.00087\n",
      "Train_score = 0.314 | Test_score = 0.293\n",
      "Epoch = 22 Evidence =  11526.0 | pls = -2.48 | vls = -2.54 | mu = -0.00086\n",
      "Train_score = 0.317 | Test_score = 0.296\n",
      "Epoch = 23 Evidence =  11503.0 | pls = -2.49 | vls = -2.55 | mu = -0.00089\n",
      "Train_score = 0.314 | Test_score = 0.296\n",
      "Epoch = 24 Evidence =  11445.0 | pls = -2.5 | vls = -2.56 | mu = -0.00088\n",
      "Train_score = 0.314 | Test_score = 0.296\n",
      "Epoch = 25 Evidence =  11493.0 | pls = -2.5 | vls = -2.57 | mu = -0.00092\n",
      "Train_score = 0.315 | Test_score = 0.294\n",
      "Epoch = 26 Evidence =  11507.0 | pls = -2.51 | vls = -2.57 | mu = -0.00096\n",
      "Train_score = 0.321 | Test_score = 0.305\n",
      "Epoch = 27 Evidence =  11461.0 | pls = -2.52 | vls = -2.58 | mu = -0.00096\n",
      "Train_score = 0.315 | Test_score = 0.295\n",
      "Epoch = 28 Evidence =  11497.0 | pls = -2.52 | vls = -2.59 | mu = -0.00096\n",
      "Train_score = 0.322 | Test_score = 0.304\n",
      "Epoch = 29 Evidence =  11420.0 | pls = -2.53 | vls = -2.59 | mu = -0.00096\n",
      "Train_score = 0.32 | Test_score = 0.299\n",
      "Epoch = 30 Evidence =  11452.0 | pls = -2.53 | vls = -2.6 | mu = -0.00097\n",
      "Train_score = 0.318 | Test_score = 0.304\n",
      "Epoch = 31 Evidence =  11372.0 | pls = -2.54 | vls = -2.61 | mu = -0.00097\n",
      "Train_score = 0.32 | Test_score = 0.3\n",
      "Epoch = 32 Evidence =  11386.0 | pls = -2.54 | vls = -2.61 | mu = -0.00096\n",
      "Train_score = 0.319 | Test_score = 0.3\n",
      "Epoch = 33 Evidence =  11403.0 | pls = -2.55 | vls = -2.62 | mu = -0.00097\n",
      "Train_score = 0.321 | Test_score = 0.303\n",
      "Epoch = 34 Evidence =  11439.0 | pls = -2.56 | vls = -2.63 | mu = -0.00099\n",
      "Train_score = 0.319 | Test_score = 0.301\n",
      "Epoch = 35 Evidence =  11395.0 | pls = -2.56 | vls = -2.63 | mu = -0.00099\n",
      "Train_score = 0.323 | Test_score = 0.306\n",
      "Epoch = 36 Evidence =  11383.0 | pls = -2.57 | vls = -2.64 | mu = -0.00099\n",
      "Train_score = 0.325 | Test_score = 0.311\n",
      "Epoch = 37 Evidence =  11419.0 | pls = -2.57 | vls = -2.64 | mu = -0.001\n",
      "Train_score = 0.321 | Test_score = 0.305\n",
      "Epoch = 38 Evidence =  11412.0 | pls = -2.58 | vls = -2.65 | mu = -0.00101\n",
      "Train_score = 0.324 | Test_score = 0.309\n",
      "Epoch = 39 Evidence =  11384.0 | pls = -2.58 | vls = -2.65 | mu = -0.00104\n",
      "Train_score = 0.321 | Test_score = 0.303\n",
      "Epoch = 40 Evidence =  11388.0 | pls = -2.58 | vls = -2.66 | mu = -0.00105\n",
      "Train_score = 0.324 | Test_score = 0.304\n",
      "Epoch = 41 Evidence =  11396.0 | pls = -2.59 | vls = -2.66 | mu = -0.00106\n",
      "Train_score = 0.325 | Test_score = 0.306\n",
      "Epoch = 42 Evidence =  11315.0 | pls = -2.59 | vls = -2.67 | mu = -0.00108\n",
      "Train_score = 0.324 | Test_score = 0.303\n",
      "Epoch = 43 Evidence =  11385.0 | pls = -2.6 | vls = -2.67 | mu = -0.0011\n",
      "Train_score = 0.325 | Test_score = 0.305\n",
      "Epoch = 44 Evidence =  11401.0 | pls = -2.6 | vls = -2.68 | mu = -0.00109\n",
      "Train_score = 0.328 | Test_score = 0.312\n",
      "Epoch = 45 Evidence =  11398.0 | pls = -2.61 | vls = -2.68 | mu = -0.00111\n",
      "Train_score = 0.331 | Test_score = 0.312\n",
      "Epoch = 46 Evidence =  11355.0 | pls = -2.61 | vls = -2.69 | mu = -0.00112\n",
      "Train_score = 0.329 | Test_score = 0.322\n",
      "Epoch = 47 Evidence =  11346.0 | pls = -2.61 | vls = -2.69 | mu = -0.00113\n",
      "Train_score = 0.328 | Test_score = 0.318\n",
      "Epoch = 48 Evidence =  11334.0 | pls = -2.62 | vls = -2.7 | mu = -0.00113\n",
      "Train_score = 0.329 | Test_score = 0.312\n",
      "Epoch = 49 Evidence =  11302.0 | pls = -2.62 | vls = -2.7 | mu = -0.00111\n",
      "Train_score = 0.327 | Test_score = 0.312\n",
      "Epoch = 50 Evidence =  11346.0 | pls = -2.62 | vls = -2.7 | mu = -0.00115\n",
      "Train_score = 0.326 | Test_score = 0.317\n",
      "Epoch = 51 Evidence =  11346.0 | pls = -2.63 | vls = -2.71 | mu = -0.00116\n",
      "Train_score = 0.325 | Test_score = 0.308\n",
      "Epoch = 52 Evidence =  11312.0 | pls = -2.63 | vls = -2.71 | mu = -0.00115\n",
      "Train_score = 0.327 | Test_score = 0.313\n",
      "Epoch = 53 Evidence =  11243.0 | pls = -2.63 | vls = -2.71 | mu = -0.00114\n",
      "Train_score = 0.327 | Test_score = 0.311\n",
      "Epoch = 54 Evidence =  11318.0 | pls = -2.64 | vls = -2.72 | mu = -0.00115\n",
      "Train_score = 0.329 | Test_score = 0.312\n",
      "Epoch = 55 Evidence =  11349.0 | pls = -2.64 | vls = -2.72 | mu = -0.00117\n",
      "Train_score = 0.327 | Test_score = 0.314\n",
      "Epoch = 56 Evidence =  11311.0 | pls = -2.64 | vls = -2.73 | mu = -0.00119\n",
      "Train_score = 0.325 | Test_score = 0.309\n",
      "Epoch = 57 Evidence =  11277.0 | pls = -2.65 | vls = -2.73 | mu = -0.00118\n",
      "Train_score = 0.328 | Test_score = 0.309\n",
      "Epoch = 58 Evidence =  11312.0 | pls = -2.65 | vls = -2.73 | mu = -0.00118\n",
      "Train_score = 0.331 | Test_score = 0.309\n",
      "Epoch = 59 Evidence =  11371.0 | pls = -2.65 | vls = -2.74 | mu = -0.00117\n",
      "Train_score = 0.332 | Test_score = 0.317\n",
      "Epoch = 60 Evidence =  11333.0 | pls = -2.66 | vls = -2.74 | mu = -0.00117\n",
      "Train_score = 0.329 | Test_score = 0.316\n",
      "Epoch = 61 Evidence =  11301.0 | pls = -2.66 | vls = -2.74 | mu = -0.00117\n",
      "Train_score = 0.331 | Test_score = 0.316\n",
      "Epoch = 62 Evidence =  11365.0 | pls = -2.66 | vls = -2.75 | mu = -0.00115\n",
      "Train_score = 0.333 | Test_score = 0.314\n",
      "Epoch = 63 Evidence =  11257.0 | pls = -2.66 | vls = -2.75 | mu = -0.00116\n",
      "Train_score = 0.323 | Test_score = 0.307\n",
      "Epoch = 64 Evidence =  11282.0 | pls = -2.67 | vls = -2.75 | mu = -0.00116\n",
      "Train_score = 0.323 | Test_score = 0.302\n",
      "Epoch = 65 Evidence =  11285.0 | pls = -2.67 | vls = -2.76 | mu = -0.00116\n",
      "Train_score = 0.324 | Test_score = 0.305\n",
      "Epoch = 66 Evidence =  11341.0 | pls = -2.67 | vls = -2.76 | mu = -0.00117\n",
      "Train_score = 0.327 | Test_score = 0.309\n",
      "Epoch = 67 Evidence =  11264.0 | pls = -2.67 | vls = -2.76 | mu = -0.00117\n",
      "Train_score = 0.327 | Test_score = 0.309\n",
      "Epoch = 68 Evidence =  11294.0 | pls = -2.68 | vls = -2.76 | mu = -0.00118\n",
      "Train_score = 0.333 | Test_score = 0.31\n",
      "Epoch = 69 Evidence =  11267.0 | pls = -2.68 | vls = -2.77 | mu = -0.00118\n",
      "Train_score = 0.326 | Test_score = 0.304\n",
      "Epoch = 70 Evidence =  11265.0 | pls = -2.68 | vls = -2.77 | mu = -0.00118\n",
      "Train_score = 0.328 | Test_score = 0.308\n",
      "Epoch = 71 Evidence =  11308.0 | pls = -2.68 | vls = -2.77 | mu = -0.0012\n",
      "Train_score = 0.328 | Test_score = 0.305\n",
      "Epoch = 72 Evidence =  11254.0 | pls = -2.69 | vls = -2.77 | mu = -0.0012\n",
      "Train_score = 0.325 | Test_score = 0.306\n",
      "Epoch = 73 Evidence =  11345.0 | pls = -2.69 | vls = -2.78 | mu = -0.00121\n",
      "Train_score = 0.326 | Test_score = 0.307\n",
      "Early Stopping\n"
     ]
    }
   ],
   "source": [
    "evidence_unprunned, score_unprunned_train, score_unprunned_test, best_unprunned_epoch =\\\n",
    "    train(n_epoches, esr, batch_size, average_method = average_method)"
   ]
  },
  {
   "cell_type": "code",
   "execution_count": null,
   "metadata": {
    "collapsed": true
   },
   "outputs": [],
   "source": [
    "# score_unprunned, tmp = train(n_epoches, esr, batch_size, average_method = average_method)"
   ]
  },
  {
   "cell_type": "markdown",
   "metadata": {},
   "source": [
    "Функции сохранения и загрузки весов пригодятся при прунинге"
   ]
  },
  {
   "cell_type": "code",
   "execution_count": 37,
   "metadata": {
    "collapsed": true
   },
   "outputs": [],
   "source": [
    "def save_weights():\n",
    "    np.save('Weights/mean_tensor_'+suffix+'.npy',best_params['mean_tensor'])\n",
    "    np.save('Weights/var_log_sigma_'+suffix+'.npy',best_params['var_log_sigma'])"
   ]
  },
  {
   "cell_type": "code",
   "execution_count": 38,
   "metadata": {
    "collapsed": false
   },
   "outputs": [],
   "source": [
    "def load_weights():\n",
    "    mean_tensor.set_value(np.load('Weights/mean_tensor_'+suffix+'.npy'))\n",
    "    var_log_sigma.set_value(np.load('Weights/var_log_sigma_'+suffix+'.npy'))\n",
    "    mask_tensor.set_value(np.ones(len_flatten, dtype=fx))\n",
    "    update_alpha()"
   ]
  },
  {
   "cell_type": "code",
   "execution_count": 40,
   "metadata": {
    "collapsed": false
   },
   "outputs": [
    {
     "data": {
      "text/plain": [
       "['Weights/history_evidence_I_I']"
      ]
     },
     "execution_count": 40,
     "metadata": {},
     "output_type": "execute_result"
    }
   ],
   "source": [
    "from sklearn.externals import joblib\n",
    "joblib.dump(history_evidence,'Weights/history_evidence_'+suffix)"
   ]
  },
  {
   "cell_type": "markdown",
   "metadata": {},
   "source": [
    "Сохраняем значения весов:"
   ]
  },
  {
   "cell_type": "code",
   "execution_count": 41,
   "metadata": {
    "collapsed": false
   },
   "outputs": [],
   "source": [
    "save_weights()"
   ]
  },
  {
   "cell_type": "markdown",
   "metadata": {},
   "source": [
    "# Анализ результатов обучения"
   ]
  },
  {
   "cell_type": "markdown",
   "metadata": {},
   "source": [
    "Графики обучения до прунинга"
   ]
  },
  {
   "cell_type": "code",
   "execution_count": 85,
   "metadata": {
    "collapsed": false,
    "scrolled": false
   },
   "outputs": [
    {
     "data": {
      "image/png": "[encoded data removed]",
      "text/plain": [
       "<matplotlib.figure.Figure at 0x7f23960eac18>"
      ]
     },
     "metadata": {},
     "output_type": "display_data"
    }
   ],
   "source": [
    "plt.plot(history_evidence)\n",
    "plt.legend(['-Evidence'])\n",
    "plt.xlabel('N_epoch')\n",
    "plt.ylabel('-Evidence')\n",
    "plt.savefig('Pictures/Evidence_unprunned_'+suffix)\n",
    "plt.tight_layout()"
   ]
  },
  {
   "cell_type": "code",
   "execution_count": 80,
   "metadata": {
    "collapsed": false,
    "scrolled": false
   },
   "outputs": [
    {
     "data": {
      "image/png": "[encoded data removed]",
      "text/plain": [
       "<matplotlib.figure.Figure at 0x7f2396459e10>"
      ]
     },
     "metadata": {},
     "output_type": "display_data"
    }
   ],
   "source": [
    "plt.plot(history_score_train)\n",
    "plt.plot(history_score_test)\n",
    "plt.legend(['Train','Test'],loc='lower right')\n",
    "plt.xlabel('N_epoch')\n",
    "plt.ylabel('F1-measure')\n",
    "plt.savefig('Pictures/Train_test_score_unprunned_'+suffix)"
   ]
  },
  {
   "cell_type": "markdown",
   "metadata": {},
   "source": [
    "Загружаем значения весов:"
   ]
  },
  {
   "cell_type": "code",
   "execution_count": 200,
   "metadata": {
    "collapsed": false
   },
   "outputs": [
    {
     "ename": "RuntimeError",
     "evalue": "(\"Cuda error 'unspecified launch failure' while copying 5706 data element to device memory. str ptr=0x149d3420. dst ptr=0x5023d6800\", 'Container name \"None\"')",
     "output_type": "error",
     "traceback": [
      "\u001b[0;31m---------------------------------------------------------------------------\u001b[0m",
      "\u001b[0;31mRuntimeError\u001b[0m                              Traceback (most recent call last)",
      "\u001b[0;32m<ipython-input-200-4ffcfc16239d>\u001b[0m in \u001b[0;36m<module>\u001b[0;34m()\u001b[0m\n\u001b[0;32m----> 1\u001b[0;31m \u001b[0mload_weights\u001b[0m\u001b[0;34m(\u001b[0m\u001b[0;34m)\u001b[0m\u001b[0;34m\u001b[0m\u001b[0m\n\u001b[0m",
      "\u001b[0;32m<ipython-input-38-67443b5e04d3>\u001b[0m in \u001b[0;36mload_weights\u001b[0;34m()\u001b[0m\n\u001b[1;32m      1\u001b[0m \u001b[0;32mdef\u001b[0m \u001b[0mload_weights\u001b[0m\u001b[0;34m(\u001b[0m\u001b[0;34m)\u001b[0m\u001b[0;34m:\u001b[0m\u001b[0;34m\u001b[0m\u001b[0m\n\u001b[0;32m----> 2\u001b[0;31m     \u001b[0mmean_tensor\u001b[0m\u001b[0;34m.\u001b[0m\u001b[0mset_value\u001b[0m\u001b[0;34m(\u001b[0m\u001b[0mnp\u001b[0m\u001b[0;34m.\u001b[0m\u001b[0mload\u001b[0m\u001b[0;34m(\u001b[0m\u001b[0;34m'Weights/mean_tensor_'\u001b[0m\u001b[0;34m+\u001b[0m\u001b[0msuffix\u001b[0m\u001b[0;34m+\u001b[0m\u001b[0;34m'.npy'\u001b[0m\u001b[0;34m)\u001b[0m\u001b[0;34m)\u001b[0m\u001b[0;34m\u001b[0m\u001b[0m\n\u001b[0m\u001b[1;32m      3\u001b[0m     \u001b[0mvar_log_sigma\u001b[0m\u001b[0;34m.\u001b[0m\u001b[0mset_value\u001b[0m\u001b[0;34m(\u001b[0m\u001b[0mnp\u001b[0m\u001b[0;34m.\u001b[0m\u001b[0mload\u001b[0m\u001b[0;34m(\u001b[0m\u001b[0;34m'Weights/var_log_sigma_'\u001b[0m\u001b[0;34m+\u001b[0m\u001b[0msuffix\u001b[0m\u001b[0;34m+\u001b[0m\u001b[0;34m'.npy'\u001b[0m\u001b[0;34m)\u001b[0m\u001b[0;34m)\u001b[0m\u001b[0;34m\u001b[0m\u001b[0m\n\u001b[1;32m      4\u001b[0m     \u001b[0mmask_tensor\u001b[0m\u001b[0;34m.\u001b[0m\u001b[0mset_value\u001b[0m\u001b[0;34m(\u001b[0m\u001b[0mnp\u001b[0m\u001b[0;34m.\u001b[0m\u001b[0mones\u001b[0m\u001b[0;34m(\u001b[0m\u001b[0mlen_flatten\u001b[0m\u001b[0;34m,\u001b[0m \u001b[0mdtype\u001b[0m\u001b[0;34m=\u001b[0m\u001b[0mfx\u001b[0m\u001b[0;34m)\u001b[0m\u001b[0;34m)\u001b[0m\u001b[0;34m\u001b[0m\u001b[0m\n\u001b[1;32m      5\u001b[0m     \u001b[0mupdate_alpha\u001b[0m\u001b[0;34m(\u001b[0m\u001b[0;34m)\u001b[0m\u001b[0;34m\u001b[0m\u001b[0m\n",
      "\u001b[0;32m/home/asm/anaconda3/lib/python3.6/site-packages/theano/sandbox/cuda/var.py\u001b[0m in \u001b[0;36mset_value\u001b[0;34m(self, value, borrow)\u001b[0m\n\u001b[1;32m    100\u001b[0m                 \u001b[0;31m# in case this is a cuda_ndarray, we copy it\u001b[0m\u001b[0;34m\u001b[0m\u001b[0;34m\u001b[0m\u001b[0m\n\u001b[1;32m    101\u001b[0m                 \u001b[0mvalue\u001b[0m \u001b[0;34m=\u001b[0m \u001b[0mcopy\u001b[0m\u001b[0;34m.\u001b[0m\u001b[0mdeepcopy\u001b[0m\u001b[0;34m(\u001b[0m\u001b[0mvalue\u001b[0m\u001b[0;34m)\u001b[0m\u001b[0;34m\u001b[0m\u001b[0m\n\u001b[0;32m--> 102\u001b[0;31m         \u001b[0mself\u001b[0m\u001b[0;34m.\u001b[0m\u001b[0mcontainer\u001b[0m\u001b[0;34m.\u001b[0m\u001b[0mvalue\u001b[0m \u001b[0;34m=\u001b[0m \u001b[0mvalue\u001b[0m  \u001b[0;31m# this will copy a numpy ndarray\u001b[0m\u001b[0;34m\u001b[0m\u001b[0m\n\u001b[0m\u001b[1;32m    103\u001b[0m \u001b[0;34m\u001b[0m\u001b[0m\n\u001b[1;32m    104\u001b[0m     \u001b[0;32mdef\u001b[0m \u001b[0m__getitem__\u001b[0m\u001b[0;34m(\u001b[0m\u001b[0mself\u001b[0m\u001b[0;34m,\u001b[0m \u001b[0;34m*\u001b[0m\u001b[0margs\u001b[0m\u001b[0;34m)\u001b[0m\u001b[0;34m:\u001b[0m\u001b[0;34m\u001b[0m\u001b[0m\n",
      "\u001b[0;32m/home/asm/anaconda3/lib/python3.6/site-packages/theano/gof/link.py\u001b[0m in \u001b[0;36m__set__\u001b[0;34m(self, value)\u001b[0m\n\u001b[1;32m    475\u001b[0m                 self.storage[0] = self.type.filter_inplace(value,\n\u001b[1;32m    476\u001b[0m                                                            \u001b[0mself\u001b[0m\u001b[0;34m.\u001b[0m\u001b[0mstorage\u001b[0m\u001b[0;34m[\u001b[0m\u001b[0;36m0\u001b[0m\u001b[0;34m]\u001b[0m\u001b[0;34m,\u001b[0m\u001b[0;34m\u001b[0m\u001b[0m\n\u001b[0;32m--> 477\u001b[0;31m                                                            **kwargs)\n\u001b[0m\u001b[1;32m    478\u001b[0m             \u001b[0;32melse\u001b[0m\u001b[0;34m:\u001b[0m\u001b[0;34m\u001b[0m\u001b[0m\n\u001b[1;32m    479\u001b[0m                 \u001b[0mself\u001b[0m\u001b[0;34m.\u001b[0m\u001b[0mstorage\u001b[0m\u001b[0;34m[\u001b[0m\u001b[0;36m0\u001b[0m\u001b[0;34m]\u001b[0m \u001b[0;34m=\u001b[0m \u001b[0mself\u001b[0m\u001b[0;34m.\u001b[0m\u001b[0mtype\u001b[0m\u001b[0;34m.\u001b[0m\u001b[0mfilter\u001b[0m\u001b[0;34m(\u001b[0m\u001b[0mvalue\u001b[0m\u001b[0;34m,\u001b[0m \u001b[0;34m**\u001b[0m\u001b[0mkwargs\u001b[0m\u001b[0;34m)\u001b[0m\u001b[0;34m\u001b[0m\u001b[0m\n",
      "\u001b[0;32m/home/asm/anaconda3/lib/python3.6/site-packages/theano/sandbox/cuda/type.py\u001b[0m in \u001b[0;36mfilter_inplace\u001b[0;34m(self, data, old_data, strict, allow_downcast)\u001b[0m\n\u001b[1;32m    118\u001b[0m                 \u001b[0;32mif\u001b[0m \u001b[0mup_dtype\u001b[0m \u001b[0;34m==\u001b[0m \u001b[0mself\u001b[0m\u001b[0;34m.\u001b[0m\u001b[0mdtype\u001b[0m\u001b[0;34m:\u001b[0m\u001b[0;34m\u001b[0m\u001b[0m\n\u001b[1;32m    119\u001b[0m                     return cuda.filter(data, self.broadcastable,\n\u001b[0;32m--> 120\u001b[0;31m                                        strict, old_data)\n\u001b[0m\u001b[1;32m    121\u001b[0m                 \u001b[0;32melse\u001b[0m\u001b[0;34m:\u001b[0m\u001b[0;34m\u001b[0m\u001b[0m\n\u001b[1;32m    122\u001b[0m                     raise TypeError(\n",
      "\u001b[0;31mRuntimeError\u001b[0m: (\"Cuda error 'unspecified launch failure' while copying 5706 data element to device memory. str ptr=0x149d3420. dst ptr=0x5023d6800\", 'Container name \"None\"')"
     ]
    }
   ],
   "source": [
    "load_weights()"
   ]
  },
  {
   "cell_type": "markdown",
   "metadata": {},
   "source": [
    "Подсчитываем значение bits для каждого веса матрицы W и U:"
   ]
  },
  {
   "cell_type": "code",
   "execution_count": 40,
   "metadata": {
    "collapsed": true
   },
   "outputs": [],
   "source": [
    "bits_W = T.switch(W_mask,(prior_log_sigma - var_log_sigma) + ((W_mean-prior_mu)**2 + np.exp(2*var_log_sigma)\\\n",
    "                              - np.exp(2*prior_log_sigma))/(2*np.exp(2*prior_log_sigma)),0)\n",
    "bits_U = T.switch(U_mask,(prior_log_sigma - var_log_sigma) + ((U_mean-prior_mu)**2 + np.exp(2*var_log_sigma)\\\n",
    "                              - np.exp(2*prior_log_sigma))/(2*np.exp(2*prior_log_sigma)),0)"
   ]
  },
  {
   "cell_type": "markdown",
   "metadata": {},
   "source": [
    "Вычисляем Bits/weight для полной сети:"
   ]
  },
  {
   "cell_type": "code",
   "execution_count": 41,
   "metadata": {
    "collapsed": false
   },
   "outputs": [
    {
     "data": {
      "text/plain": [
       "array(0.0813770663371188)"
      ]
     },
     "execution_count": 41,
     "metadata": {},
     "output_type": "execute_result"
    }
   ],
   "source": [
    "bit_per_weight_unprunned = (KLD/N_params).eval()\n",
    "bit_per_weight_unprunned"
   ]
  },
  {
   "cell_type": "markdown",
   "metadata": {},
   "source": [
    "Визуалицируем значения bits для матриц W и U с помощью тепловых карт."
   ]
  },
  {
   "cell_type": "code",
   "execution_count": 100,
   "metadata": {
    "collapsed": false,
    "scrolled": false
   },
   "outputs": [
    {
     "data": {
      "image/png": "[encoded data removed]",
      "text/plain": [
       "<matplotlib.figure.Figure at 0x7f239f2627f0>"
      ]
     },
     "metadata": {},
     "output_type": "display_data"
    }
   ],
   "source": [
    "ax = sns.heatmap(bits_W.eval())\n",
    "ax.axes.get_xaxis().set_visible(False); ax.axes.get_yaxis().set_visible(False)\n",
    "plt.title('Bits/weight, W')\n",
    "plt.savefig('Pictures/bits_W_unprunned_'+suffix)"
   ]
  },
  {
   "cell_type": "code",
   "execution_count": 101,
   "metadata": {
    "collapsed": false,
    "scrolled": false
   },
   "outputs": [
    {
     "data": {
      "image/png": "[encoded data removed]",
      "text/plain": [
       "<matplotlib.figure.Figure at 0x7f23975c4518>"
      ]
     },
     "metadata": {},
     "output_type": "display_data"
    }
   ],
   "source": [
    "ax = sns.heatmap(bits_U.eval())\n",
    "ax.axes.get_xaxis().set_visible(False); ax.axes.get_yaxis().set_visible(False)\n",
    "plt.title('Bits/weight, U')\n",
    "plt.savefig('Pictures/bits_U_unprunned_'+suffix)"
   ]
  },
  {
   "cell_type": "markdown",
   "metadata": {},
   "source": [
    "Смотрим на распределение самих весов."
   ]
  },
  {
   "cell_type": "code",
   "execution_count": 102,
   "metadata": {
    "collapsed": false,
    "scrolled": false
   },
   "outputs": [
    {
     "data": {
      "image/png": "[encoded data removed]",
      "text/plain": [
       "<matplotlib.figure.Figure at 0x7f2397f59d30>"
      ]
     },
     "metadata": {},
     "output_type": "display_data"
    }
   ],
   "source": [
    "ax = sns.heatmap(W_mean.eval())\n",
    "ax.axes.get_xaxis().set_visible(False); ax.axes.get_yaxis().set_visible(False)\n",
    "plt.title('Weights, W')\n",
    "plt.savefig('Pictures/W_matrix_unprunned_'+suffix)"
   ]
  },
  {
   "cell_type": "code",
   "execution_count": 103,
   "metadata": {
    "collapsed": false,
    "scrolled": false
   },
   "outputs": [
    {
     "data": {
      "image/png": "[encoded data removed]",
      "text/plain": [
       "<matplotlib.figure.Figure at 0x7f2397cfd3c8>"
      ]
     },
     "metadata": {},
     "output_type": "display_data"
    }
   ],
   "source": [
    "ax = sns.heatmap(U_mean.eval())\n",
    "ax.axes.get_xaxis().set_visible(False); ax.axes.get_yaxis().set_visible(False)\n",
    "plt.title('Weights, U')\n",
    "plt.savefig('Pictures/U_matrix_unprunned_'+suffix)"
   ]
  },
  {
   "cell_type": "markdown",
   "metadata": {},
   "source": [
    "# Прунинг."
   ]
  },
  {
   "cell_type": "markdown",
   "metadata": {},
   "source": [
    "Функция, которая по W_mean и var_log_sigma возвращает маску весов."
   ]
  },
  {
   "cell_type": "code",
   "execution_count": 42,
   "metadata": {
    "collapsed": true
   },
   "outputs": [],
   "source": [
    "def pruning_mask(mean_tensor, ld, var_log_sigma):\n",
    "    mask = T.abs_(mean_tensor/T.exp(var_log_sigma)).eval() >= ld\n",
    "    return mask"
   ]
  },
  {
   "cell_type": "markdown",
   "metadata": {},
   "source": [
    "Запоминаем исходное число параметров."
   ]
  },
  {
   "cell_type": "code",
   "execution_count": 43,
   "metadata": {
    "collapsed": true
   },
   "outputs": [],
   "source": [
    "N_params_unprunned = N_params.eval()"
   ]
  },
  {
   "cell_type": "markdown",
   "metadata": {},
   "source": [
    "График зависимости доли оставшихся весов в зависимости от параметра $\\lambda$."
   ]
  },
  {
   "cell_type": "code",
   "execution_count": 199,
   "metadata": {
    "collapsed": false
   },
   "outputs": [
    {
     "ename": "RuntimeError",
     "evalue": "error (unspecified launch failure)copying data to host\nApply node that caused the error: HostFromGpu(GpuElemwise{Composite{Abs((i0 / i1))},no_inplace}.0)\nToposort index: 4\nInputs types: [CudaNdarrayType(float32, vector)]\nInputs shapes: [(5706,)]\nInputs strides: [(1,)]\nInputs values: ['not shown']\nOutputs clients: [['output']]\n\nHINT: Re-running with most Theano optimization disabled could give you a back-trace of when this node was created. This can be done with by setting the Theano flag 'optimizer=fast_compile'. If that does not work, Theano optimizations can be disabled with 'optimizer=None'.\nHINT: Use the Theano flag 'exception_verbosity=high' for a debugprint and storage map footprint of this apply node.",
     "output_type": "error",
     "traceback": [
      "\u001b[0;31m---------------------------------------------------------------------------\u001b[0m",
      "\u001b[0;31mRuntimeError\u001b[0m                              Traceback (most recent call last)",
      "\u001b[0;32m/home/asm/anaconda3/lib/python3.6/site-packages/theano/compile/function_module.py\u001b[0m in \u001b[0;36m__call__\u001b[0;34m(self, *args, **kwargs)\u001b[0m\n\u001b[1;32m    883\u001b[0m             \u001b[0moutputs\u001b[0m \u001b[0;34m=\u001b[0m\u001b[0;31m\\\u001b[0m\u001b[0;34m\u001b[0m\u001b[0m\n\u001b[0;32m--> 884\u001b[0;31m                 \u001b[0mself\u001b[0m\u001b[0;34m.\u001b[0m\u001b[0mfn\u001b[0m\u001b[0;34m(\u001b[0m\u001b[0;34m)\u001b[0m \u001b[0;32mif\u001b[0m \u001b[0moutput_subset\u001b[0m \u001b[0;32mis\u001b[0m \u001b[0;32mNone\u001b[0m \u001b[0;32melse\u001b[0m\u001b[0;31m\\\u001b[0m\u001b[0;34m\u001b[0m\u001b[0m\n\u001b[0m\u001b[1;32m    885\u001b[0m                 \u001b[0mself\u001b[0m\u001b[0;34m.\u001b[0m\u001b[0mfn\u001b[0m\u001b[0;34m(\u001b[0m\u001b[0moutput_subset\u001b[0m\u001b[0;34m=\u001b[0m\u001b[0moutput_subset\u001b[0m\u001b[0;34m)\u001b[0m\u001b[0;34m\u001b[0m\u001b[0m\n",
      "\u001b[0;31mRuntimeError\u001b[0m: error (unspecified launch failure)copying data to host",
      "\nDuring handling of the above exception, another exception occurred:\n",
      "\u001b[0;31mRuntimeError\u001b[0m                              Traceback (most recent call last)",
      "\u001b[0;32m<ipython-input-199-84812263b5ec>\u001b[0m in \u001b[0;36m<module>\u001b[0;34m()\u001b[0m\n\u001b[1;32m      1\u001b[0m \u001b[0mx_range\u001b[0m \u001b[0;34m=\u001b[0m \u001b[0mnp\u001b[0m\u001b[0;34m.\u001b[0m\u001b[0mlinspace\u001b[0m\u001b[0;34m(\u001b[0m\u001b[0;36m0\u001b[0m\u001b[0;34m,\u001b[0m\u001b[0;36m1.5\u001b[0m\u001b[0;34m,\u001b[0m\u001b[0;36m100\u001b[0m\u001b[0;34m)\u001b[0m\u001b[0;34m\u001b[0m\u001b[0m\n\u001b[0;32m----> 2\u001b[0;31m \u001b[0my\u001b[0m \u001b[0;34m=\u001b[0m \u001b[0;34m[\u001b[0m\u001b[0mpruning_mask\u001b[0m\u001b[0;34m(\u001b[0m\u001b[0mmean_tensor\u001b[0m\u001b[0;34m,\u001b[0m\u001b[0mld\u001b[0m\u001b[0;34m,\u001b[0m\u001b[0mvar_log_sigma\u001b[0m\u001b[0;34m)\u001b[0m\u001b[0;34m.\u001b[0m\u001b[0msum\u001b[0m\u001b[0;34m(\u001b[0m\u001b[0;34m)\u001b[0m\u001b[0;34m/\u001b[0m\u001b[0mN_params\u001b[0m\u001b[0;34m.\u001b[0m\u001b[0meval\u001b[0m\u001b[0;34m(\u001b[0m\u001b[0;34m)\u001b[0m \u001b[0;32mfor\u001b[0m \u001b[0mld\u001b[0m \u001b[0;32min\u001b[0m \u001b[0mx_range\u001b[0m\u001b[0;34m]\u001b[0m\u001b[0;34m\u001b[0m\u001b[0m\n\u001b[0m\u001b[1;32m      3\u001b[0m \u001b[0mplt\u001b[0m\u001b[0;34m.\u001b[0m\u001b[0mplot\u001b[0m\u001b[0;34m(\u001b[0m\u001b[0mx_range\u001b[0m\u001b[0;34m,\u001b[0m\u001b[0my\u001b[0m\u001b[0;34m)\u001b[0m\u001b[0;34m\u001b[0m\u001b[0m\n\u001b[1;32m      4\u001b[0m \u001b[0mplt\u001b[0m\u001b[0;34m.\u001b[0m\u001b[0mxlabel\u001b[0m\u001b[0;34m(\u001b[0m\u001b[0;34m'$\\lambda$'\u001b[0m\u001b[0;34m)\u001b[0m\u001b[0;34m\u001b[0m\u001b[0m\n\u001b[1;32m      5\u001b[0m \u001b[0mplt\u001b[0m\u001b[0;34m.\u001b[0m\u001b[0mylabel\u001b[0m\u001b[0;34m(\u001b[0m\u001b[0;34m'Proportion of weights'\u001b[0m\u001b[0;34m)\u001b[0m\u001b[0;34m\u001b[0m\u001b[0m\n",
      "\u001b[0;32m<ipython-input-199-84812263b5ec>\u001b[0m in \u001b[0;36m<listcomp>\u001b[0;34m(.0)\u001b[0m\n\u001b[1;32m      1\u001b[0m \u001b[0mx_range\u001b[0m \u001b[0;34m=\u001b[0m \u001b[0mnp\u001b[0m\u001b[0;34m.\u001b[0m\u001b[0mlinspace\u001b[0m\u001b[0;34m(\u001b[0m\u001b[0;36m0\u001b[0m\u001b[0;34m,\u001b[0m\u001b[0;36m1.5\u001b[0m\u001b[0;34m,\u001b[0m\u001b[0;36m100\u001b[0m\u001b[0;34m)\u001b[0m\u001b[0;34m\u001b[0m\u001b[0m\n\u001b[0;32m----> 2\u001b[0;31m \u001b[0my\u001b[0m \u001b[0;34m=\u001b[0m \u001b[0;34m[\u001b[0m\u001b[0mpruning_mask\u001b[0m\u001b[0;34m(\u001b[0m\u001b[0mmean_tensor\u001b[0m\u001b[0;34m,\u001b[0m\u001b[0mld\u001b[0m\u001b[0;34m,\u001b[0m\u001b[0mvar_log_sigma\u001b[0m\u001b[0;34m)\u001b[0m\u001b[0;34m.\u001b[0m\u001b[0msum\u001b[0m\u001b[0;34m(\u001b[0m\u001b[0;34m)\u001b[0m\u001b[0;34m/\u001b[0m\u001b[0mN_params\u001b[0m\u001b[0;34m.\u001b[0m\u001b[0meval\u001b[0m\u001b[0;34m(\u001b[0m\u001b[0;34m)\u001b[0m \u001b[0;32mfor\u001b[0m \u001b[0mld\u001b[0m \u001b[0;32min\u001b[0m \u001b[0mx_range\u001b[0m\u001b[0;34m]\u001b[0m\u001b[0;34m\u001b[0m\u001b[0m\n\u001b[0m\u001b[1;32m      3\u001b[0m \u001b[0mplt\u001b[0m\u001b[0;34m.\u001b[0m\u001b[0mplot\u001b[0m\u001b[0;34m(\u001b[0m\u001b[0mx_range\u001b[0m\u001b[0;34m,\u001b[0m\u001b[0my\u001b[0m\u001b[0;34m)\u001b[0m\u001b[0;34m\u001b[0m\u001b[0m\n\u001b[1;32m      4\u001b[0m \u001b[0mplt\u001b[0m\u001b[0;34m.\u001b[0m\u001b[0mxlabel\u001b[0m\u001b[0;34m(\u001b[0m\u001b[0;34m'$\\lambda$'\u001b[0m\u001b[0;34m)\u001b[0m\u001b[0;34m\u001b[0m\u001b[0m\n\u001b[1;32m      5\u001b[0m \u001b[0mplt\u001b[0m\u001b[0;34m.\u001b[0m\u001b[0mylabel\u001b[0m\u001b[0;34m(\u001b[0m\u001b[0;34m'Proportion of weights'\u001b[0m\u001b[0;34m)\u001b[0m\u001b[0;34m\u001b[0m\u001b[0m\n",
      "\u001b[0;32m<ipython-input-42-f4e8bdce9c67>\u001b[0m in \u001b[0;36mpruning_mask\u001b[0;34m(mean_tensor, ld, var_log_sigma)\u001b[0m\n\u001b[1;32m      1\u001b[0m \u001b[0;32mdef\u001b[0m \u001b[0mpruning_mask\u001b[0m\u001b[0;34m(\u001b[0m\u001b[0mmean_tensor\u001b[0m\u001b[0;34m,\u001b[0m \u001b[0mld\u001b[0m\u001b[0;34m,\u001b[0m \u001b[0mvar_log_sigma\u001b[0m\u001b[0;34m)\u001b[0m\u001b[0;34m:\u001b[0m\u001b[0;34m\u001b[0m\u001b[0m\n\u001b[0;32m----> 2\u001b[0;31m     \u001b[0mmask\u001b[0m \u001b[0;34m=\u001b[0m \u001b[0mT\u001b[0m\u001b[0;34m.\u001b[0m\u001b[0mabs_\u001b[0m\u001b[0;34m(\u001b[0m\u001b[0mmean_tensor\u001b[0m\u001b[0;34m/\u001b[0m\u001b[0mT\u001b[0m\u001b[0;34m.\u001b[0m\u001b[0mexp\u001b[0m\u001b[0;34m(\u001b[0m\u001b[0mvar_log_sigma\u001b[0m\u001b[0;34m)\u001b[0m\u001b[0;34m)\u001b[0m\u001b[0;34m.\u001b[0m\u001b[0meval\u001b[0m\u001b[0;34m(\u001b[0m\u001b[0;34m)\u001b[0m \u001b[0;34m>=\u001b[0m \u001b[0mld\u001b[0m\u001b[0;34m\u001b[0m\u001b[0m\n\u001b[0m\u001b[1;32m      3\u001b[0m     \u001b[0;32mreturn\u001b[0m \u001b[0mmask\u001b[0m\u001b[0;34m\u001b[0m\u001b[0m\n",
      "\u001b[0;32m/home/asm/anaconda3/lib/python3.6/site-packages/theano/gof/graph.py\u001b[0m in \u001b[0;36meval\u001b[0;34m(self, inputs_to_values)\u001b[0m\n\u001b[1;32m    517\u001b[0m         \u001b[0margs\u001b[0m \u001b[0;34m=\u001b[0m \u001b[0;34m[\u001b[0m\u001b[0minputs_to_values\u001b[0m\u001b[0;34m[\u001b[0m\u001b[0mparam\u001b[0m\u001b[0;34m]\u001b[0m \u001b[0;32mfor\u001b[0m \u001b[0mparam\u001b[0m \u001b[0;32min\u001b[0m \u001b[0minputs\u001b[0m\u001b[0;34m]\u001b[0m\u001b[0;34m\u001b[0m\u001b[0m\n\u001b[1;32m    518\u001b[0m \u001b[0;34m\u001b[0m\u001b[0m\n\u001b[0;32m--> 519\u001b[0;31m         \u001b[0mrval\u001b[0m \u001b[0;34m=\u001b[0m \u001b[0mself\u001b[0m\u001b[0;34m.\u001b[0m\u001b[0m_fn_cache\u001b[0m\u001b[0;34m[\u001b[0m\u001b[0minputs\u001b[0m\u001b[0;34m]\u001b[0m\u001b[0;34m(\u001b[0m\u001b[0;34m*\u001b[0m\u001b[0margs\u001b[0m\u001b[0;34m)\u001b[0m\u001b[0;34m\u001b[0m\u001b[0m\n\u001b[0m\u001b[1;32m    520\u001b[0m \u001b[0;34m\u001b[0m\u001b[0m\n\u001b[1;32m    521\u001b[0m         \u001b[0;32mreturn\u001b[0m \u001b[0mrval\u001b[0m\u001b[0;34m\u001b[0m\u001b[0m\n",
      "\u001b[0;32m/home/asm/anaconda3/lib/python3.6/site-packages/theano/compile/function_module.py\u001b[0m in \u001b[0;36m__call__\u001b[0;34m(self, *args, **kwargs)\u001b[0m\n\u001b[1;32m    896\u001b[0m                     \u001b[0mnode\u001b[0m\u001b[0;34m=\u001b[0m\u001b[0mself\u001b[0m\u001b[0;34m.\u001b[0m\u001b[0mfn\u001b[0m\u001b[0;34m.\u001b[0m\u001b[0mnodes\u001b[0m\u001b[0;34m[\u001b[0m\u001b[0mself\u001b[0m\u001b[0;34m.\u001b[0m\u001b[0mfn\u001b[0m\u001b[0;34m.\u001b[0m\u001b[0mposition_of_error\u001b[0m\u001b[0;34m]\u001b[0m\u001b[0;34m,\u001b[0m\u001b[0;34m\u001b[0m\u001b[0m\n\u001b[1;32m    897\u001b[0m                     \u001b[0mthunk\u001b[0m\u001b[0;34m=\u001b[0m\u001b[0mthunk\u001b[0m\u001b[0;34m,\u001b[0m\u001b[0;34m\u001b[0m\u001b[0m\n\u001b[0;32m--> 898\u001b[0;31m                     storage_map=getattr(self.fn, 'storage_map', None))\n\u001b[0m\u001b[1;32m    899\u001b[0m             \u001b[0;32melse\u001b[0m\u001b[0;34m:\u001b[0m\u001b[0;34m\u001b[0m\u001b[0m\n\u001b[1;32m    900\u001b[0m                 \u001b[0;31m# old-style linkers raise their own exceptions\u001b[0m\u001b[0;34m\u001b[0m\u001b[0;34m\u001b[0m\u001b[0m\n",
      "\u001b[0;32m/home/asm/anaconda3/lib/python3.6/site-packages/theano/gof/link.py\u001b[0m in \u001b[0;36mraise_with_op\u001b[0;34m(node, thunk, exc_info, storage_map)\u001b[0m\n\u001b[1;32m    323\u001b[0m         \u001b[0;31m# extra long error message in that case.\u001b[0m\u001b[0;34m\u001b[0m\u001b[0;34m\u001b[0m\u001b[0m\n\u001b[1;32m    324\u001b[0m         \u001b[0;32mpass\u001b[0m\u001b[0;34m\u001b[0m\u001b[0m\n\u001b[0;32m--> 325\u001b[0;31m     \u001b[0mreraise\u001b[0m\u001b[0;34m(\u001b[0m\u001b[0mexc_type\u001b[0m\u001b[0;34m,\u001b[0m \u001b[0mexc_value\u001b[0m\u001b[0;34m,\u001b[0m \u001b[0mexc_trace\u001b[0m\u001b[0;34m)\u001b[0m\u001b[0;34m\u001b[0m\u001b[0m\n\u001b[0m\u001b[1;32m    326\u001b[0m \u001b[0;34m\u001b[0m\u001b[0m\n\u001b[1;32m    327\u001b[0m \u001b[0;34m\u001b[0m\u001b[0m\n",
      "\u001b[0;32m/home/asm/anaconda3/lib/python3.6/site-packages/six.py\u001b[0m in \u001b[0;36mreraise\u001b[0;34m(tp, value, tb)\u001b[0m\n\u001b[1;32m    683\u001b[0m             \u001b[0mvalue\u001b[0m \u001b[0;34m=\u001b[0m \u001b[0mtp\u001b[0m\u001b[0;34m(\u001b[0m\u001b[0;34m)\u001b[0m\u001b[0;34m\u001b[0m\u001b[0m\n\u001b[1;32m    684\u001b[0m         \u001b[0;32mif\u001b[0m \u001b[0mvalue\u001b[0m\u001b[0;34m.\u001b[0m\u001b[0m__traceback__\u001b[0m \u001b[0;32mis\u001b[0m \u001b[0;32mnot\u001b[0m \u001b[0mtb\u001b[0m\u001b[0;34m:\u001b[0m\u001b[0;34m\u001b[0m\u001b[0m\n\u001b[0;32m--> 685\u001b[0;31m             \u001b[0;32mraise\u001b[0m \u001b[0mvalue\u001b[0m\u001b[0;34m.\u001b[0m\u001b[0mwith_traceback\u001b[0m\u001b[0;34m(\u001b[0m\u001b[0mtb\u001b[0m\u001b[0;34m)\u001b[0m\u001b[0;34m\u001b[0m\u001b[0m\n\u001b[0m\u001b[1;32m    686\u001b[0m         \u001b[0;32mraise\u001b[0m \u001b[0mvalue\u001b[0m\u001b[0;34m\u001b[0m\u001b[0m\n\u001b[1;32m    687\u001b[0m \u001b[0;34m\u001b[0m\u001b[0m\n",
      "\u001b[0;32m/home/asm/anaconda3/lib/python3.6/site-packages/theano/compile/function_module.py\u001b[0m in \u001b[0;36m__call__\u001b[0;34m(self, *args, **kwargs)\u001b[0m\n\u001b[1;32m    882\u001b[0m         \u001b[0;32mtry\u001b[0m\u001b[0;34m:\u001b[0m\u001b[0;34m\u001b[0m\u001b[0m\n\u001b[1;32m    883\u001b[0m             \u001b[0moutputs\u001b[0m \u001b[0;34m=\u001b[0m\u001b[0;31m\\\u001b[0m\u001b[0;34m\u001b[0m\u001b[0m\n\u001b[0;32m--> 884\u001b[0;31m                 \u001b[0mself\u001b[0m\u001b[0;34m.\u001b[0m\u001b[0mfn\u001b[0m\u001b[0;34m(\u001b[0m\u001b[0;34m)\u001b[0m \u001b[0;32mif\u001b[0m \u001b[0moutput_subset\u001b[0m \u001b[0;32mis\u001b[0m \u001b[0;32mNone\u001b[0m \u001b[0;32melse\u001b[0m\u001b[0;31m\\\u001b[0m\u001b[0;34m\u001b[0m\u001b[0m\n\u001b[0m\u001b[1;32m    885\u001b[0m                 \u001b[0mself\u001b[0m\u001b[0;34m.\u001b[0m\u001b[0mfn\u001b[0m\u001b[0;34m(\u001b[0m\u001b[0moutput_subset\u001b[0m\u001b[0;34m=\u001b[0m\u001b[0moutput_subset\u001b[0m\u001b[0;34m)\u001b[0m\u001b[0;34m\u001b[0m\u001b[0m\n\u001b[1;32m    886\u001b[0m         \u001b[0;32mexcept\u001b[0m \u001b[0mException\u001b[0m\u001b[0;34m:\u001b[0m\u001b[0;34m\u001b[0m\u001b[0m\n",
      "\u001b[0;31mRuntimeError\u001b[0m: error (unspecified launch failure)copying data to host\nApply node that caused the error: HostFromGpu(GpuElemwise{Composite{Abs((i0 / i1))},no_inplace}.0)\nToposort index: 4\nInputs types: [CudaNdarrayType(float32, vector)]\nInputs shapes: [(5706,)]\nInputs strides: [(1,)]\nInputs values: ['not shown']\nOutputs clients: [['output']]\n\nHINT: Re-running with most Theano optimization disabled could give you a back-trace of when this node was created. This can be done with by setting the Theano flag 'optimizer=fast_compile'. If that does not work, Theano optimizations can be disabled with 'optimizer=None'.\nHINT: Use the Theano flag 'exception_verbosity=high' for a debugprint and storage map footprint of this apply node."
     ]
    }
   ],
   "source": [
    "x_range = np.linspace(0,1.5,100)\n",
    "y = [pruning_mask(mean_tensor,ld,var_log_sigma).sum()/N_params.eval() for ld in x_range]\n",
    "plt.plot(x_range,y)\n",
    "plt.xlabel('$\\lambda$')\n",
    "plt.ylabel('Proportion of weights')\n",
    "plt.title('Scalar variance')\n",
    "plt.savefig('Pictures/Portion_of_pruned_weights_on_lambda_'+suffix+'.pdf')"
   ]
  },
  {
   "cell_type": "code",
   "execution_count": 115,
   "metadata": {
    "collapsed": false
   },
   "outputs": [
    {
     "data": {
      "text/plain": [
       "['History/lambda_I_I']"
      ]
     },
     "execution_count": 115,
     "metadata": {},
     "output_type": "execute_result"
    }
   ],
   "source": [
    "joblib.dump(y,'History/lambda_'+suffix)"
   ]
  },
  {
   "cell_type": "code",
   "execution_count": 46,
   "metadata": {
    "collapsed": true
   },
   "outputs": [],
   "source": [
    "z1 = joblib.load('History/lambda_I_I')\n",
    "z2 = joblib.load('History/lambda_D_I')"
   ]
  },
  {
   "cell_type": "code",
   "execution_count": 47,
   "metadata": {
    "collapsed": false
   },
   "outputs": [
    {
     "data": {
      "text/plain": [
       "[<matplotlib.lines.Line2D at 0x7f14715c0cf8>]"
      ]
     },
     "execution_count": 47,
     "metadata": {},
     "output_type": "execute_result"
    },
    {
     "data": {
      "image/png": "[encoded data removed]",
      "text/plain": [
       "<matplotlib.figure.Figure at 0x7f14715c04e0>"
      ]
     },
     "metadata": {},
     "output_type": "display_data"
    }
   ],
   "source": [
    "plt.plot(x_range,z1)\n",
    "plt.plot(x_range,z2)"
   ]
  },
  {
   "cell_type": "markdown",
   "metadata": {},
   "source": [
    "Список различных вариантов для прунинга."
   ]
  },
  {
   "cell_type": "code",
   "execution_count": 120,
   "metadata": {
    "collapsed": false
   },
   "outputs": [],
   "source": [
    "# ld_list = np.linspace(0.1,1.2,12)"
   ]
  },
  {
   "cell_type": "code",
   "execution_count": 48,
   "metadata": {
    "collapsed": true
   },
   "outputs": [],
   "source": [
    "ld_list = [0.05,0.1,0.2,0.4,0.6,0.8,1,1.2,1.4]"
   ]
  },
  {
   "cell_type": "markdown",
   "metadata": {},
   "source": [
    "Сначала заполняем данные для полной сети."
   ]
  },
  {
   "cell_type": "code",
   "execution_count": 49,
   "metadata": {
    "collapsed": false
   },
   "outputs": [],
   "source": [
    "unprunned_result = pd.Series(name='unprunned')\n",
    "unprunned_result['Lambda'] = 0\n",
    "unprunned_result['Weights_number'] = N_params_unprunned\n",
    "unprunned_result['Portion_of_weights'] = 1\n",
    "# unprunned_result['Initial_score'] = score_unprunned_test # 0.311083\n",
    "# unprunned_result['Retrain_score'] = score_unprunned_test # 0.311083\n",
    "unprunned_result['Initial_score'] = 0.311083\n",
    "unprunned_result['Retrain_score'] = 0.311083\n",
    "unprunned_result['Retrain_epochs'] = 0\n",
    "unprunned_result['Bits/weight'] = bit_per_weight_unprunned\n",
    "# unprunned_result['Initial_evidence'] = evidence_unprunned\n",
    "# unprunned_result['Retrain_evidence'] = evidence_unprunned\n",
    "unprunned_result['Initial_evidence'] = 11243.4\n",
    "unprunned_result['Retrain_evidence'] = 11243.4"
   ]
  },
  {
   "cell_type": "markdown",
   "metadata": {},
   "source": [
    "# Дообучение"
   ]
  },
  {
   "cell_type": "markdown",
   "metadata": {},
   "source": [
    "Параметры дообучения. Создаём таблицу result_df, в которую записываются результаты. Создаём словари, которые будут хранить историю обучения."
   ]
  },
  {
   "cell_type": "code",
   "execution_count": 50,
   "metadata": {
    "collapsed": true
   },
   "outputs": [],
   "source": [
    "n_epoches = 200\n",
    "esr = 20\n",
    "batch_size = 100\n",
    "lr.set_value(0.01)\n",
    "history_evidence_ld = dict()\n",
    "history_score_test_ld = dict()\n",
    "history_score_train_ld = dict()\n",
    "params_ld = dict()\n",
    "n_iter = 2\n",
    "\n",
    "result_df = pd.DataFrame()\n",
    "result_df = result_df.append(unprunned_result)\n",
    "\n",
    "average_method = 'weighted'"
   ]
  },
  {
   "cell_type": "code",
   "execution_count": 51,
   "metadata": {
    "collapsed": false
   },
   "outputs": [
    {
     "data": {
      "text/html": [
       "<div>\n",
       "<table border=\"1\" class=\"dataframe\">\n",
       "  <thead>\n",
       "    <tr style=\"text-align: right;\">\n",
       "      <th></th>\n",
       "      <th>Lambda</th>\n",
       "      <th>Weights_number</th>\n",
       "      <th>Portion_of_weights</th>\n",
       "      <th>Initial_evidence</th>\n",
       "      <th>Retrain_evidence</th>\n",
       "      <th>Initial_score</th>\n",
       "      <th>Retrain_score</th>\n",
       "      <th>Retrain_epochs</th>\n",
       "      <th>Bits/weight</th>\n",
       "    </tr>\n",
       "  </thead>\n",
       "  <tbody>\n",
       "    <tr>\n",
       "      <th>unprunned</th>\n",
       "      <td>0.0</td>\n",
       "      <td>5706</td>\n",
       "      <td>1.0</td>\n",
       "      <td>11243.4</td>\n",
       "      <td>11243.4</td>\n",
       "      <td>0.311083</td>\n",
       "      <td>0.311083</td>\n",
       "      <td>0.0</td>\n",
       "      <td>0.0813770663371188</td>\n",
       "    </tr>\n",
       "  </tbody>\n",
       "</table>\n",
       "</div>"
      ],
      "text/plain": [
       "           Lambda Weights_number  Portion_of_weights  Initial_evidence  \\\n",
       "unprunned     0.0           5706                 1.0           11243.4   \n",
       "\n",
       "           Retrain_evidence  Initial_score  Retrain_score  Retrain_epochs  \\\n",
       "unprunned           11243.4       0.311083       0.311083             0.0   \n",
       "\n",
       "                  Bits/weight  \n",
       "unprunned  0.0813770663371188  "
      ]
     },
     "execution_count": 51,
     "metadata": {},
     "output_type": "execute_result"
    }
   ],
   "source": [
    "result_df[['Lambda','Weights_number','Portion_of_weights','Initial_evidence','Retrain_evidence','Initial_score',\\\n",
    "           'Retrain_score','Retrain_epochs','Bits/weight']]"
   ]
  },
  {
   "cell_type": "markdown",
   "metadata": {},
   "source": [
    "Дообучаем сеть для каждого lambda, запоминаем всю историю."
   ]
  },
  {
   "cell_type": "code",
   "execution_count": 65,
   "metadata": {
    "collapsed": false,
    "scrolled": true
   },
   "outputs": [
    {
     "name": "stdout",
     "output_type": "stream",
     "text": [
      "N_params = 4959\n"
     ]
    },
    {
     "name": "stderr",
     "output_type": "stream",
     "text": [
      "/home/asm/anaconda3/lib/python3.6/site-packages/sklearn/metrics/classification.py:1113: UndefinedMetricWarning: F-score is ill-defined and being set to 0.0 in labels with no predicted samples.\n",
      "  'precision', 'predicted', average, warn_for)\n"
     ]
    },
    {
     "name": "stdout",
     "output_type": "stream",
     "text": [
      "initial_score = 0.312359283848\n",
      "Epoch = 0 Evidence =  11251.0 | pls = -2.63 | vls = -2.72 | mu = -0.0013\n",
      "Train_score = 0.331 | Test_score = 0.32\n",
      "Epoch = 1 Evidence =  11162.0 | pls = -2.63 | vls = -2.73 | mu = -0.00131\n",
      "Train_score = 0.331 | Test_score = 0.318\n",
      "Epoch = 2 Evidence =  11261.0 | pls = -2.64 | vls = -2.73 | mu = -0.00132\n",
      "Train_score = 0.329 | Test_score = 0.312\n",
      "Epoch = 3 Evidence =  11272.0 | pls = -2.64 | vls = -2.74 | mu = -0.00132\n",
      "Train_score = 0.329 | Test_score = 0.311\n",
      "Epoch = 4 Evidence =  11273.0 | pls = -2.65 | vls = -2.75 | mu = -0.00133\n",
      "Train_score = 0.332 | Test_score = 0.314\n",
      "Epoch = 5 Evidence =  11197.0 | pls = -2.65 | vls = -2.75 | mu = -0.00135\n",
      "Train_score = 0.33 | Test_score = 0.311\n",
      "Epoch = 6 Evidence =  11215.0 | pls = -2.66 | vls = -2.75 | mu = -0.00136\n",
      "Train_score = 0.33 | Test_score = 0.31\n",
      "Epoch = 7 Evidence =  11237.0 | pls = -2.66 | vls = -2.76 | mu = -0.00138\n",
      "Train_score = 0.328 | Test_score = 0.31\n",
      "Epoch = 8 Evidence =  11202.0 | pls = -2.66 | vls = -2.76 | mu = -0.00139\n",
      "Train_score = 0.329 | Test_score = 0.305\n",
      "Epoch = 9 Evidence =  11226.0 | pls = -2.67 | vls = -2.77 | mu = -0.00141\n",
      "Train_score = 0.33 | Test_score = 0.311\n",
      "Epoch = 10 Evidence =  11244.0 | pls = -2.67 | vls = -2.77 | mu = -0.00143\n",
      "Train_score = 0.334 | Test_score = 0.313\n",
      "Epoch = 11 Evidence =  11250.0 | pls = -2.68 | vls = -2.78 | mu = -0.00143\n",
      "Train_score = 0.334 | Test_score = 0.316\n",
      "Epoch = 12 Evidence =  11261.0 | pls = -2.68 | vls = -2.78 | mu = -0.00143\n",
      "Train_score = 0.331 | Test_score = 0.312\n",
      "Epoch = 13 Evidence =  11220.0 | pls = -2.68 | vls = -2.78 | mu = -0.00142\n",
      "Train_score = 0.33 | Test_score = 0.309\n",
      "Epoch = 14 Evidence =  11277.0 | pls = -2.69 | vls = -2.79 | mu = -0.00144\n",
      "Train_score = 0.327 | Test_score = 0.307\n",
      "Epoch = 15 Evidence =  11248.0 | pls = -2.69 | vls = -2.79 | mu = -0.00145\n",
      "Train_score = 0.329 | Test_score = 0.304\n",
      "Epoch = 16 Evidence =  11196.0 | pls = -2.69 | vls = -2.8 | mu = -0.00146\n",
      "Train_score = 0.332 | Test_score = 0.31\n",
      "Epoch = 17 Evidence =  11153.0 | pls = -2.69 | vls = -2.8 | mu = -0.00146\n",
      "Train_score = 0.331 | Test_score = 0.309\n",
      "Epoch = 18 Evidence =  11185.0 | pls = -2.7 | vls = -2.8 | mu = -0.00149\n",
      "Train_score = 0.327 | Test_score = 0.308\n",
      "Epoch = 19 Evidence =  11215.0 | pls = -2.7 | vls = -2.8 | mu = -0.00149\n",
      "Train_score = 0.328 | Test_score = 0.305\n",
      "Epoch = 20 Evidence =  11171.0 | pls = -2.7 | vls = -2.8 | mu = -0.00151\n",
      "Train_score = 0.331 | Test_score = 0.307\n",
      "Epoch = 21 Evidence =  11218.0 | pls = -2.7 | vls = -2.81 | mu = -0.00152\n",
      "Train_score = 0.326 | Test_score = 0.31\n",
      "Early Stopping\n",
      "bits_per_weigth = 0.10426310812710839\n",
      "N_params = 4233\n",
      "initial_score = 0.316386273109\n",
      "Epoch = 0 Evidence =  11205.0 | pls = -2.61 | vls = -2.72 | mu = -0.0015\n",
      "Train_score = 0.33 | Test_score = 0.311\n",
      "Epoch = 1 Evidence =  11185.0 | pls = -2.62 | vls = -2.72 | mu = -0.00152\n",
      "Train_score = 0.33 | Test_score = 0.315\n",
      "Epoch = 2 Evidence =  11159.0 | pls = -2.62 | vls = -2.73 | mu = -0.00155\n",
      "Train_score = 0.33 | Test_score = 0.309\n",
      "Epoch = 3 Evidence =  11133.0 | pls = -2.62 | vls = -2.73 | mu = -0.00155\n",
      "Train_score = 0.329 | Test_score = 0.308\n",
      "Epoch = 4 Evidence =  11097.0 | pls = -2.62 | vls = -2.73 | mu = -0.00155\n",
      "Train_score = 0.33 | Test_score = 0.308\n",
      "Epoch = 5 Evidence =  11149.0 | pls = -2.63 | vls = -2.74 | mu = -0.00157\n",
      "Train_score = 0.329 | Test_score = 0.309\n",
      "Epoch = 6 Evidence =  11194.0 | pls = -2.63 | vls = -2.74 | mu = -0.00157\n",
      "Train_score = 0.329 | Test_score = 0.309\n",
      "Epoch = 7 Evidence =  11109.0 | pls = -2.63 | vls = -2.74 | mu = -0.00159\n",
      "Train_score = 0.33 | Test_score = 0.313\n",
      "Epoch = 8 Evidence =  11143.0 | pls = -2.64 | vls = -2.75 | mu = -0.00161\n",
      "Train_score = 0.327 | Test_score = 0.311\n",
      "Epoch = 9 Evidence =  11164.0 | pls = -2.64 | vls = -2.75 | mu = -0.00161\n",
      "Train_score = 0.334 | Test_score = 0.31\n",
      "Epoch = 10 Evidence =  11184.0 | pls = -2.64 | vls = -2.75 | mu = -0.00161\n",
      "Train_score = 0.332 | Test_score = 0.316\n",
      "Epoch = 11 Evidence =  11199.0 | pls = -2.64 | vls = -2.76 | mu = -0.00163\n",
      "Train_score = 0.333 | Test_score = 0.313\n",
      "Epoch = 12 Evidence =  11149.0 | pls = -2.65 | vls = -2.76 | mu = -0.00163\n",
      "Train_score = 0.332 | Test_score = 0.312\n",
      "Epoch = 13 Evidence =  11113.0 | pls = -2.65 | vls = -2.76 | mu = -0.00165\n",
      "Train_score = 0.33 | Test_score = 0.31\n",
      "Epoch = 14 Evidence =  11159.0 | pls = -2.65 | vls = -2.77 | mu = -0.00166\n",
      "Train_score = 0.33 | Test_score = 0.311\n",
      "Epoch = 15 Evidence =  11131.0 | pls = -2.65 | vls = -2.77 | mu = -0.00165\n",
      "Train_score = 0.33 | Test_score = 0.31\n",
      "Epoch = 16 Evidence =  11132.0 | pls = -2.65 | vls = -2.77 | mu = -0.00166\n",
      "Train_score = 0.333 | Test_score = 0.31\n",
      "Epoch = 17 Evidence =  11100.0 | pls = -2.66 | vls = -2.77 | mu = -0.00167\n",
      "Train_score = 0.332 | Test_score = 0.312\n",
      "Epoch = 18 Evidence =  11163.0 | pls = -2.66 | vls = -2.77 | mu = -0.00168\n",
      "Train_score = 0.336 | Test_score = 0.316\n",
      "Epoch = 19 Evidence =  11082.0 | pls = -2.66 | vls = -2.78 | mu = -0.00168\n",
      "Train_score = 0.333 | Test_score = 0.314\n",
      "Epoch = 20 Evidence =  11149.0 | pls = -2.66 | vls = -2.78 | mu = -0.0017\n",
      "Train_score = 0.334 | Test_score = 0.313\n",
      "Epoch = 21 Evidence =  11170.0 | pls = -2.66 | vls = -2.78 | mu = -0.00171\n",
      "Train_score = 0.332 | Test_score = 0.31\n",
      "Epoch = 22 Evidence =  11171.0 | pls = -2.67 | vls = -2.78 | mu = -0.00171\n",
      "Train_score = 0.335 | Test_score = 0.315\n",
      "Epoch = 23 Evidence =  11129.0 | pls = -2.67 | vls = -2.78 | mu = -0.00173\n",
      "Train_score = 0.334 | Test_score = 0.313\n",
      "Epoch = 24 Evidence =  11145.0 | pls = -2.67 | vls = -2.79 | mu = -0.00174\n",
      "Train_score = 0.332 | Test_score = 0.31\n",
      "Early Stopping\n",
      "bits_per_weigth = 0.11898946492159838\n",
      "N_params = 3020\n",
      "initial_score = 0.311440660883\n",
      "Epoch = 0 Evidence =  11078.0 | pls = -2.57 | vls = -2.72 | mu = -0.00209\n",
      "Train_score = 0.326 | Test_score = 0.307\n",
      "Epoch = 1 Evidence =  11072.0 | pls = -2.58 | vls = -2.72 | mu = -0.00212\n",
      "Train_score = 0.329 | Test_score = 0.308\n",
      "Epoch = 2 Evidence =  11061.0 | pls = -2.58 | vls = -2.72 | mu = -0.00216\n",
      "Train_score = 0.328 | Test_score = 0.311\n",
      "Epoch = 3 Evidence =  11082.0 | pls = -2.58 | vls = -2.72 | mu = -0.00218\n",
      "Train_score = 0.328 | Test_score = 0.312\n",
      "Epoch = 4 Evidence =  11047.0 | pls = -2.58 | vls = -2.72 | mu = -0.0022\n",
      "Train_score = 0.327 | Test_score = 0.308\n",
      "Epoch = 5 Evidence =  11037.0 | pls = -2.58 | vls = -2.72 | mu = -0.00223\n",
      "Train_score = 0.325 | Test_score = 0.311\n",
      "Epoch = 6 Evidence =  11042.0 | pls = -2.58 | vls = -2.73 | mu = -0.00224\n",
      "Train_score = 0.325 | Test_score = 0.305\n",
      "Epoch = 7 Evidence =  11102.0 | pls = -2.58 | vls = -2.73 | mu = -0.00225\n",
      "Train_score = 0.33 | Test_score = 0.31\n",
      "Epoch = 8 Evidence =  11072.0 | pls = -2.58 | vls = -2.73 | mu = -0.00226\n",
      "Train_score = 0.328 | Test_score = 0.312\n",
      "Epoch = 9 Evidence =  11043.0 | pls = -2.58 | vls = -2.73 | mu = -0.00228\n",
      "Train_score = 0.331 | Test_score = 0.313\n",
      "Epoch = 10 Evidence =  11059.0 | pls = -2.58 | vls = -2.73 | mu = -0.00229\n",
      "Train_score = 0.329 | Test_score = 0.31\n",
      "Epoch = 11 Evidence =  11013.0 | pls = -2.59 | vls = -2.73 | mu = -0.0023\n",
      "Train_score = 0.331 | Test_score = 0.31\n",
      "Epoch = 12 Evidence =  11055.0 | pls = -2.59 | vls = -2.73 | mu = -0.00231\n",
      "Train_score = 0.336 | Test_score = 0.314\n",
      "Epoch = 13 Evidence =  11050.0 | pls = -2.59 | vls = -2.74 | mu = -0.00234\n",
      "Train_score = 0.333 | Test_score = 0.312\n",
      "Epoch = 14 Evidence =  11013.0 | pls = -2.59 | vls = -2.74 | mu = -0.00235\n",
      "Train_score = 0.329 | Test_score = 0.307\n",
      "Epoch = 15 Evidence =  11093.0 | pls = -2.59 | vls = -2.74 | mu = -0.00236\n",
      "Train_score = 0.33 | Test_score = 0.308\n",
      "Epoch = 16 Evidence =  11017.0 | pls = -2.59 | vls = -2.74 | mu = -0.00238\n",
      "Train_score = 0.328 | Test_score = 0.308\n",
      "Epoch = 17 Evidence =  11055.0 | pls = -2.59 | vls = -2.74 | mu = -0.00239\n",
      "Train_score = 0.329 | Test_score = 0.307\n",
      "Epoch = 18 Evidence =  11065.0 | pls = -2.59 | vls = -2.75 | mu = -0.00241\n",
      "Train_score = 0.333 | Test_score = 0.311\n",
      "Epoch = 19 Evidence =  11071.0 | pls = -2.59 | vls = -2.75 | mu = -0.00242\n",
      "Train_score = 0.334 | Test_score = 0.313\n",
      "Epoch = 20 Evidence =  11042.0 | pls = -2.59 | vls = -2.75 | mu = -0.00244\n",
      "Train_score = 0.333 | Test_score = 0.31\n",
      "Epoch = 21 Evidence =  11024.0 | pls = -2.59 | vls = -2.75 | mu = -0.00245\n",
      "Train_score = 0.331 | Test_score = 0.311\n",
      "Epoch = 22 Evidence =  11074.0 | pls = -2.6 | vls = -2.75 | mu = -0.00246\n",
      "Train_score = 0.332 | Test_score = 0.31\n",
      "Epoch = 23 Evidence =  11018.0 | pls = -2.6 | vls = -2.75 | mu = -0.00247\n",
      "Train_score = 0.332 | Test_score = 0.306\n",
      "Epoch = 24 Evidence =  11005.0 | pls = -2.6 | vls = -2.75 | mu = -0.00249\n",
      "Train_score = 0.33 | Test_score = 0.304\n",
      "Epoch = 25 Evidence =  11028.0 | pls = -2.6 | vls = -2.75 | mu = -0.00248\n",
      "Train_score = 0.332 | Test_score = 0.304\n",
      "Epoch = 26 Evidence =  11040.0 | pls = -2.6 | vls = -2.75 | mu = -0.00249\n",
      "Train_score = 0.331 | Test_score = 0.307\n",
      "Epoch = 27 Evidence =  11011.0 | pls = -2.6 | vls = -2.75 | mu = -0.0025\n",
      "Train_score = 0.333 | Test_score = 0.304\n",
      "Epoch = 28 Evidence =  11082.0 | pls = -2.6 | vls = -2.76 | mu = -0.00251\n",
      "Train_score = 0.33 | Test_score = 0.304\n",
      "Epoch = 29 Evidence =  11031.0 | pls = -2.6 | vls = -2.76 | mu = -0.00252\n",
      "Train_score = 0.331 | Test_score = 0.303\n",
      "Epoch = 30 Evidence =  11037.0 | pls = -2.6 | vls = -2.76 | mu = -0.00253\n",
      "Train_score = 0.333 | Test_score = 0.306\n",
      "Epoch = 31 Evidence =  10989.0 | pls = -2.6 | vls = -2.76 | mu = -0.00254\n",
      "Train_score = 0.333 | Test_score = 0.301\n",
      "Early Stopping\n",
      "bits_per_weigth = 0.15672895949851953\n",
      "N_params = 1438\n",
      "initial_score = 0.299814796477\n",
      "Epoch = 0 Evidence =  11109.0 | pls = -2.47 | vls = -2.71 | mu = -0.00264\n",
      "Train_score = 0.319 | Test_score = 0.292\n",
      "Epoch = 1 Evidence =  10980.0 | pls = -2.46 | vls = -2.71 | mu = -0.00271\n",
      "Train_score = 0.32 | Test_score = 0.296\n",
      "Epoch = 2 Evidence =  10936.0 | pls = -2.46 | vls = -2.71 | mu = -0.00276\n",
      "Train_score = 0.318 | Test_score = 0.297\n",
      "Epoch = 3 Evidence =  10877.0 | pls = -2.45 | vls = -2.71 | mu = -0.00282\n",
      "Train_score = 0.32 | Test_score = 0.303\n",
      "Epoch = 4 Evidence =  10873.0 | pls = -2.45 | vls = -2.71 | mu = -0.00287\n",
      "Train_score = 0.318 | Test_score = 0.296\n",
      "Epoch = 5 Evidence =  10864.0 | pls = -2.44 | vls = -2.71 | mu = -0.00291\n",
      "Train_score = 0.317 | Test_score = 0.297\n",
      "Epoch = 6 Evidence =  10833.0 | pls = -2.44 | vls = -2.7 | mu = -0.00293\n",
      "Train_score = 0.319 | Test_score = 0.298\n",
      "Epoch = 7 Evidence =  10814.0 | pls = -2.44 | vls = -2.7 | mu = -0.00297\n",
      "Train_score = 0.321 | Test_score = 0.299\n",
      "Epoch = 8 Evidence =  10857.0 | pls = -2.44 | vls = -2.7 | mu = -0.00299\n",
      "Train_score = 0.323 | Test_score = 0.3\n",
      "Epoch = 9 Evidence =  10849.0 | pls = -2.44 | vls = -2.7 | mu = -0.00301\n",
      "Train_score = 0.321 | Test_score = 0.299\n",
      "Epoch = 10 Evidence =  10846.0 | pls = -2.44 | vls = -2.7 | mu = -0.00303\n",
      "Train_score = 0.324 | Test_score = 0.298\n",
      "Epoch = 11 Evidence =  10820.0 | pls = -2.44 | vls = -2.7 | mu = -0.00305\n",
      "Train_score = 0.324 | Test_score = 0.3\n",
      "Epoch = 12 Evidence =  10866.0 | pls = -2.44 | vls = -2.7 | mu = -0.00308\n",
      "Train_score = 0.324 | Test_score = 0.299\n",
      "Epoch = 13 Evidence =  10842.0 | pls = -2.44 | vls = -2.69 | mu = -0.0031\n",
      "Train_score = 0.324 | Test_score = 0.299\n",
      "Epoch = 14 Evidence =  10809.0 | pls = -2.43 | vls = -2.69 | mu = -0.00311\n",
      "Train_score = 0.325 | Test_score = 0.302\n",
      "Epoch = 15 Evidence =  10855.0 | pls = -2.43 | vls = -2.69 | mu = -0.00313\n",
      "Train_score = 0.323 | Test_score = 0.298\n",
      "Epoch = 16 Evidence =  10805.0 | pls = -2.43 | vls = -2.69 | mu = -0.00313\n",
      "Train_score = 0.325 | Test_score = 0.3\n",
      "Epoch = 17 Evidence =  10816.0 | pls = -2.43 | vls = -2.69 | mu = -0.00316\n",
      "Train_score = 0.325 | Test_score = 0.299\n",
      "Epoch = 18 Evidence =  10808.0 | pls = -2.43 | vls = -2.69 | mu = -0.00318\n",
      "Train_score = 0.325 | Test_score = 0.298\n",
      "Epoch = 19 Evidence =  10822.0 | pls = -2.43 | vls = -2.69 | mu = -0.0032\n",
      "Train_score = 0.327 | Test_score = 0.299\n",
      "Epoch = 20 Evidence =  10805.0 | pls = -2.43 | vls = -2.69 | mu = -0.00322\n",
      "Train_score = 0.328 | Test_score = 0.301\n",
      "Epoch = 21 Evidence =  10774.0 | pls = -2.43 | vls = -2.69 | mu = -0.00323\n",
      "Train_score = 0.327 | Test_score = 0.298\n",
      "Epoch = 22 Evidence =  10819.0 | pls = -2.43 | vls = -2.69 | mu = -0.00323\n",
      "Train_score = 0.329 | Test_score = 0.301\n",
      "Epoch = 23 Evidence =  10799.0 | pls = -2.43 | vls = -2.69 | mu = -0.00324\n",
      "Train_score = 0.328 | Test_score = 0.305\n",
      "Epoch = 24 Evidence =  10787.0 | pls = -2.43 | vls = -2.69 | mu = -0.00326\n",
      "Train_score = 0.329 | Test_score = 0.304\n",
      "Epoch = 25 Evidence =  10788.0 | pls = -2.43 | vls = -2.68 | mu = -0.00328\n",
      "Train_score = 0.329 | Test_score = 0.301\n",
      "Epoch = 26 Evidence =  10762.0 | pls = -2.42 | vls = -2.68 | mu = -0.00331\n",
      "Train_score = 0.329 | Test_score = 0.301\n",
      "Epoch = 27 Evidence =  10805.0 | pls = -2.42 | vls = -2.68 | mu = -0.00332\n",
      "Train_score = 0.329 | Test_score = 0.301\n",
      "Epoch = 28 Evidence =  10773.0 | pls = -2.42 | vls = -2.68 | mu = -0.00334\n",
      "Train_score = 0.329 | Test_score = 0.301\n",
      "Epoch = 29 Evidence =  10757.0 | pls = -2.42 | vls = -2.68 | mu = -0.00335\n",
      "Train_score = 0.33 | Test_score = 0.303\n",
      "Epoch = 30 Evidence =  10784.0 | pls = -2.42 | vls = -2.68 | mu = -0.00336\n",
      "Train_score = 0.33 | Test_score = 0.305\n",
      "Epoch = 31 Evidence =  10788.0 | pls = -2.42 | vls = -2.68 | mu = -0.00339\n",
      "Train_score = 0.33 | Test_score = 0.305\n",
      "Epoch = 32 Evidence =  10767.0 | pls = -2.42 | vls = -2.68 | mu = -0.00342\n",
      "Train_score = 0.329 | Test_score = 0.303\n",
      "Epoch = 33 Evidence =  10788.0 | pls = -2.42 | vls = -2.68 | mu = -0.00343\n",
      "Train_score = 0.331 | Test_score = 0.306\n",
      "Epoch = 34 Evidence =  10802.0 | pls = -2.42 | vls = -2.68 | mu = -0.00344\n",
      "Train_score = 0.331 | Test_score = 0.305\n",
      "Epoch = 35 Evidence =  10775.0 | pls = -2.42 | vls = -2.68 | mu = -0.00346\n",
      "Train_score = 0.331 | Test_score = 0.303\n",
      "Epoch = 36 Evidence =  10776.0 | pls = -2.42 | vls = -2.68 | mu = -0.00347\n",
      "Train_score = 0.332 | Test_score = 0.304\n",
      "Epoch = 37 Evidence =  10758.0 | pls = -2.42 | vls = -2.68 | mu = -0.00348\n",
      "Train_score = 0.332 | Test_score = 0.302\n",
      "Epoch = 38 Evidence =  10787.0 | pls = -2.42 | vls = -2.68 | mu = -0.00349\n",
      "Train_score = 0.332 | Test_score = 0.303\n",
      "Epoch = 39 Evidence =  10819.0 | pls = -2.42 | vls = -2.68 | mu = -0.00352\n",
      "Train_score = 0.332 | Test_score = 0.301\n",
      "Epoch = 40 Evidence =  10761.0 | pls = -2.42 | vls = -2.68 | mu = -0.00355\n",
      "Train_score = 0.332 | Test_score = 0.303\n",
      "Epoch = 41 Evidence =  10762.0 | pls = -2.42 | vls = -2.68 | mu = -0.00355\n",
      "Train_score = 0.333 | Test_score = 0.304\n",
      "Early Stopping\n",
      "bits_per_weigth = 0.2611439228841225\n",
      "N_params = 685\n",
      "initial_score = 0.301382930307\n",
      "Epoch = 0 Evidence =  11534.0 | pls = -2.36 | vls = -2.71 | mu = -0.00082\n",
      "Train_score = 0.315 | Test_score = 0.305\n",
      "Epoch = 1 Evidence =  11432.0 | pls = -2.35 | vls = -2.71 | mu = -0.00079\n",
      "Train_score = 0.312 | Test_score = 0.296\n",
      "Epoch = 2 Evidence =  11345.0 | pls = -2.33 | vls = -2.71 | mu = -0.00076\n",
      "Train_score = 0.309 | Test_score = 0.286\n",
      "Epoch = 3 Evidence =  11227.0 | pls = -2.32 | vls = -2.71 | mu = -0.00074\n",
      "Train_score = 0.305 | Test_score = 0.278\n",
      "Epoch = 4 Evidence =  11121.0 | pls = -2.31 | vls = -2.7 | mu = -0.00071\n",
      "Train_score = 0.302 | Test_score = 0.275\n",
      "Epoch = 5 Evidence =  11054.0 | pls = -2.29 | vls = -2.7 | mu = -0.0007\n",
      "Train_score = 0.301 | Test_score = 0.275\n",
      "Epoch = 6 Evidence =  10987.0 | pls = -2.28 | vls = -2.7 | mu = -0.00067\n",
      "Train_score = 0.301 | Test_score = 0.275\n",
      "Epoch = 7 Evidence =  10952.0 | pls = -2.27 | vls = -2.7 | mu = -0.00066\n",
      "Train_score = 0.3 | Test_score = 0.273\n",
      "Epoch = 8 Evidence =  10913.0 | pls = -2.27 | vls = -2.7 | mu = -0.00066\n",
      "Train_score = 0.301 | Test_score = 0.273\n",
      "Epoch = 9 Evidence =  10887.0 | pls = -2.26 | vls = -2.69 | mu = -0.00066\n",
      "Train_score = 0.304 | Test_score = 0.272\n",
      "Epoch = 10 Evidence =  10856.0 | pls = -2.25 | vls = -2.69 | mu = -0.00065\n",
      "Train_score = 0.306 | Test_score = 0.27\n",
      "Epoch = 11 Evidence =  10845.0 | pls = -2.25 | vls = -2.69 | mu = -0.00064\n",
      "Train_score = 0.307 | Test_score = 0.273\n",
      "Epoch = 12 Evidence =  10843.0 | pls = -2.24 | vls = -2.69 | mu = -0.00064\n",
      "Train_score = 0.308 | Test_score = 0.275\n",
      "Epoch = 13 Evidence =  10798.0 | pls = -2.24 | vls = -2.69 | mu = -0.00064\n",
      "Train_score = 0.309 | Test_score = 0.28\n",
      "Epoch = 14 Evidence =  10833.0 | pls = -2.24 | vls = -2.68 | mu = -0.00065\n",
      "Train_score = 0.311 | Test_score = 0.278\n",
      "Epoch = 15 Evidence =  10790.0 | pls = -2.23 | vls = -2.68 | mu = -0.00065\n",
      "Train_score = 0.311 | Test_score = 0.275\n",
      "Epoch = 16 Evidence =  10782.0 | pls = -2.23 | vls = -2.68 | mu = -0.00065\n",
      "Train_score = 0.311 | Test_score = 0.278\n",
      "Epoch = 17 Evidence =  10787.0 | pls = -2.23 | vls = -2.68 | mu = -0.00067\n",
      "Train_score = 0.311 | Test_score = 0.28\n",
      "Epoch = 18 Evidence =  10801.0 | pls = -2.23 | vls = -2.68 | mu = -0.00067\n",
      "Train_score = 0.31 | Test_score = 0.281\n",
      "Epoch = 19 Evidence =  10803.0 | pls = -2.22 | vls = -2.68 | mu = -0.00067\n",
      "Train_score = 0.31 | Test_score = 0.282\n",
      "Epoch = 20 Evidence =  10781.0 | pls = -2.22 | vls = -2.67 | mu = -0.00067\n",
      "Train_score = 0.31 | Test_score = 0.283\n",
      "Epoch = 21 Evidence =  10770.0 | pls = -2.22 | vls = -2.67 | mu = -0.00067\n",
      "Train_score = 0.309 | Test_score = 0.286\n",
      "Epoch = 22 Evidence =  10766.0 | pls = -2.22 | vls = -2.67 | mu = -0.00068\n",
      "Train_score = 0.309 | Test_score = 0.287\n",
      "Epoch = 23 Evidence =  10784.0 | pls = -2.22 | vls = -2.67 | mu = -0.00068\n",
      "Train_score = 0.312 | Test_score = 0.287\n",
      "Epoch = 24 Evidence =  10722.0 | pls = -2.21 | vls = -2.67 | mu = -0.00068\n",
      "Train_score = 0.313 | Test_score = 0.288\n",
      "Epoch = 25 Evidence =  10760.0 | pls = -2.21 | vls = -2.67 | mu = -0.00068\n",
      "Train_score = 0.313 | Test_score = 0.287\n",
      "Epoch = 26 Evidence =  10743.0 | pls = -2.21 | vls = -2.67 | mu = -0.00067\n",
      "Train_score = 0.312 | Test_score = 0.289\n",
      "Epoch = 27 Evidence =  10740.0 | pls = -2.21 | vls = -2.66 | mu = -0.00066\n",
      "Train_score = 0.313 | Test_score = 0.291\n",
      "Epoch = 28 Evidence =  10742.0 | pls = -2.21 | vls = -2.66 | mu = -0.00065\n",
      "Train_score = 0.313 | Test_score = 0.293\n",
      "Epoch = 29 Evidence =  10728.0 | pls = -2.21 | vls = -2.66 | mu = -0.00064\n",
      "Train_score = 0.313 | Test_score = 0.293\n",
      "Epoch = 30 Evidence =  10697.0 | pls = -2.21 | vls = -2.66 | mu = -0.00065\n",
      "Train_score = 0.313 | Test_score = 0.295\n",
      "Epoch = 31 Evidence =  10727.0 | pls = -2.2 | vls = -2.66 | mu = -0.00064\n",
      "Train_score = 0.313 | Test_score = 0.295\n",
      "Epoch = 32 Evidence =  10715.0 | pls = -2.2 | vls = -2.66 | mu = -0.00064\n",
      "Train_score = 0.314 | Test_score = 0.294\n",
      "Epoch = 33 Evidence =  10710.0 | pls = -2.2 | vls = -2.66 | mu = -0.00065\n",
      "Train_score = 0.314 | Test_score = 0.293\n",
      "Epoch = 34 Evidence =  10704.0 | pls = -2.2 | vls = -2.65 | mu = -0.00065\n",
      "Train_score = 0.315 | Test_score = 0.292\n",
      "Epoch = 35 Evidence =  10690.0 | pls = -2.2 | vls = -2.65 | mu = -0.00063\n",
      "Train_score = 0.315 | Test_score = 0.295\n",
      "Epoch = 36 Evidence =  10691.0 | pls = -2.2 | vls = -2.65 | mu = -0.00064\n",
      "Train_score = 0.316 | Test_score = 0.293\n",
      "Epoch = 37 Evidence =  10702.0 | pls = -2.19 | vls = -2.65 | mu = -0.00065\n",
      "Train_score = 0.316 | Test_score = 0.295\n",
      "Epoch = 38 Evidence =  10698.0 | pls = -2.19 | vls = -2.65 | mu = -0.00066\n",
      "Train_score = 0.316 | Test_score = 0.296\n",
      "Epoch = 39 Evidence =  10701.0 | pls = -2.19 | vls = -2.65 | mu = -0.00067\n",
      "Train_score = 0.318 | Test_score = 0.296\n",
      "Epoch = 40 Evidence =  10720.0 | pls = -2.19 | vls = -2.64 | mu = -0.00067\n",
      "Train_score = 0.318 | Test_score = 0.296\n",
      "Epoch = 41 Evidence =  10744.0 | pls = -2.19 | vls = -2.64 | mu = -0.00066\n",
      "Train_score = 0.318 | Test_score = 0.294\n",
      "Epoch = 42 Evidence =  10693.0 | pls = -2.19 | vls = -2.64 | mu = -0.00065\n",
      "Train_score = 0.318 | Test_score = 0.295\n",
      "Epoch = 43 Evidence =  10708.0 | pls = -2.19 | vls = -2.64 | mu = -0.00065\n",
      "Train_score = 0.318 | Test_score = 0.295\n",
      "Epoch = 44 Evidence =  10710.0 | pls = -2.19 | vls = -2.64 | mu = -0.00065\n",
      "Train_score = 0.319 | Test_score = 0.295\n",
      "Epoch = 45 Evidence =  10674.0 | pls = -2.19 | vls = -2.64 | mu = -0.00065\n",
      "Train_score = 0.318 | Test_score = 0.296\n",
      "Epoch = 46 Evidence =  10693.0 | pls = -2.19 | vls = -2.64 | mu = -0.00066\n",
      "Train_score = 0.318 | Test_score = 0.297\n",
      "Epoch = 47 Evidence =  10707.0 | pls = -2.18 | vls = -2.64 | mu = -0.00066\n",
      "Train_score = 0.319 | Test_score = 0.297\n",
      "Epoch = 48 Evidence =  10662.0 | pls = -2.18 | vls = -2.64 | mu = -0.00065\n",
      "Train_score = 0.318 | Test_score = 0.297\n",
      "Epoch = 49 Evidence =  10705.0 | pls = -2.18 | vls = -2.64 | mu = -0.00066\n",
      "Train_score = 0.318 | Test_score = 0.298\n",
      "Epoch = 50 Evidence =  10702.0 | pls = -2.18 | vls = -2.63 | mu = -0.00067\n",
      "Train_score = 0.319 | Test_score = 0.297\n",
      "Early Stopping\n",
      "bits_per_weigth = 0.4534619466277983\n",
      "N_params = 314\n",
      "initial_score = 0.259550270236\n",
      "Epoch = 0 Evidence =  11860.0 | pls = -2.24 | vls = -2.71 | mu = -0.005\n",
      "Train_score = 0.29 | Test_score = 0.266\n",
      "Epoch = 1 Evidence =  11833.0 | pls = -2.23 | vls = -2.71 | mu = -0.00509\n",
      "Train_score = 0.293 | Test_score = 0.269\n",
      "Epoch = 2 Evidence =  11789.0 | pls = -2.21 | vls = -2.71 | mu = -0.00518\n",
      "Train_score = 0.298 | Test_score = 0.27\n",
      "Epoch = 3 Evidence =  11760.0 | pls = -2.2 | vls = -2.71 | mu = -0.00527\n",
      "Train_score = 0.3 | Test_score = 0.276\n",
      "Epoch = 4 Evidence =  11707.0 | pls = -2.19 | vls = -2.71 | mu = -0.00537\n",
      "Train_score = 0.307 | Test_score = 0.285\n",
      "Epoch = 5 Evidence =  11664.0 | pls = -2.18 | vls = -2.7 | mu = -0.00547\n",
      "Train_score = 0.313 | Test_score = 0.286\n",
      "Epoch = 6 Evidence =  11651.0 | pls = -2.17 | vls = -2.7 | mu = -0.00556\n",
      "Train_score = 0.318 | Test_score = 0.287\n",
      "Epoch = 7 Evidence =  11603.0 | pls = -2.15 | vls = -2.7 | mu = -0.00566\n",
      "Train_score = 0.324 | Test_score = 0.296\n",
      "Epoch = 8 Evidence =  11555.0 | pls = -2.14 | vls = -2.7 | mu = -0.00577\n",
      "Train_score = 0.328 | Test_score = 0.298\n",
      "Epoch = 9 Evidence =  11510.0 | pls = -2.13 | vls = -2.7 | mu = -0.00588\n",
      "Train_score = 0.329 | Test_score = 0.303\n",
      "Epoch = 10 Evidence =  11488.0 | pls = -2.12 | vls = -2.7 | mu = -0.00598\n",
      "Train_score = 0.33 | Test_score = 0.305\n",
      "Epoch = 11 Evidence =  11437.0 | pls = -2.11 | vls = -2.69 | mu = -0.0061\n",
      "Train_score = 0.33 | Test_score = 0.304\n",
      "Epoch = 12 Evidence =  11407.0 | pls = -2.1 | vls = -2.69 | mu = -0.00622\n",
      "Train_score = 0.331 | Test_score = 0.304\n",
      "Epoch = 13 Evidence =  11373.0 | pls = -2.08 | vls = -2.69 | mu = -0.00632\n",
      "Train_score = 0.333 | Test_score = 0.31\n",
      "Epoch = 14 Evidence =  11327.0 | pls = -2.07 | vls = -2.69 | mu = -0.00644\n",
      "Train_score = 0.332 | Test_score = 0.314\n",
      "Epoch = 15 Evidence =  11310.0 | pls = -2.06 | vls = -2.69 | mu = -0.00655\n",
      "Train_score = 0.332 | Test_score = 0.309\n",
      "Epoch = 16 Evidence =  11258.0 | pls = -2.05 | vls = -2.69 | mu = -0.00665\n",
      "Train_score = 0.33 | Test_score = 0.308\n",
      "Epoch = 17 Evidence =  11252.0 | pls = -2.04 | vls = -2.68 | mu = -0.00674\n",
      "Train_score = 0.33 | Test_score = 0.304\n",
      "Epoch = 18 Evidence =  11222.0 | pls = -2.03 | vls = -2.68 | mu = -0.00683\n",
      "Train_score = 0.331 | Test_score = 0.306\n",
      "Epoch = 19 Evidence =  11190.0 | pls = -2.03 | vls = -2.68 | mu = -0.00693\n",
      "Train_score = 0.328 | Test_score = 0.306\n",
      "Epoch = 20 Evidence =  11151.0 | pls = -2.02 | vls = -2.68 | mu = -0.00703\n",
      "Train_score = 0.329 | Test_score = 0.309\n",
      "Epoch = 21 Evidence =  11127.0 | pls = -2.01 | vls = -2.68 | mu = -0.00712\n",
      "Train_score = 0.329 | Test_score = 0.304\n",
      "Epoch = 22 Evidence =  11104.0 | pls = -2.0 | vls = -2.68 | mu = -0.00717\n",
      "Train_score = 0.329 | Test_score = 0.306\n",
      "Epoch = 23 Evidence =  11086.0 | pls = -1.99 | vls = -2.68 | mu = -0.00723\n",
      "Train_score = 0.328 | Test_score = 0.305\n",
      "Epoch = 24 Evidence =  11055.0 | pls = -1.99 | vls = -2.68 | mu = -0.00728\n",
      "Train_score = 0.327 | Test_score = 0.31\n",
      "Epoch = 25 Evidence =  11064.0 | pls = -1.98 | vls = -2.68 | mu = -0.00733\n",
      "Train_score = 0.326 | Test_score = 0.308\n",
      "Epoch = 26 Evidence =  11043.0 | pls = -1.98 | vls = -2.67 | mu = -0.00737\n",
      "Train_score = 0.325 | Test_score = 0.311\n",
      "Epoch = 27 Evidence =  11016.0 | pls = -1.97 | vls = -2.67 | mu = -0.00741\n",
      "Train_score = 0.323 | Test_score = 0.309\n",
      "Epoch = 28 Evidence =  11001.0 | pls = -1.97 | vls = -2.67 | mu = -0.00744\n",
      "Train_score = 0.321 | Test_score = 0.301\n",
      "Epoch = 29 Evidence =  10998.0 | pls = -1.96 | vls = -2.67 | mu = -0.00746\n",
      "Train_score = 0.319 | Test_score = 0.296\n",
      "Epoch = 30 Evidence =  10988.0 | pls = -1.96 | vls = -2.67 | mu = -0.00748\n",
      "Train_score = 0.318 | Test_score = 0.292\n",
      "Epoch = 31 Evidence =  10964.0 | pls = -1.96 | vls = -2.67 | mu = -0.00749\n",
      "Train_score = 0.317 | Test_score = 0.286\n",
      "Epoch = 32 Evidence =  10942.0 | pls = -1.95 | vls = -2.67 | mu = -0.0075\n",
      "Train_score = 0.315 | Test_score = 0.284\n",
      "Epoch = 33 Evidence =  10939.0 | pls = -1.95 | vls = -2.67 | mu = -0.0075\n",
      "Train_score = 0.314 | Test_score = 0.282\n",
      "Epoch = 34 Evidence =  10934.0 | pls = -1.95 | vls = -2.66 | mu = -0.00751\n",
      "Train_score = 0.313 | Test_score = 0.282\n",
      "Epoch = 35 Evidence =  10927.0 | pls = -1.94 | vls = -2.66 | mu = -0.00751\n",
      "Train_score = 0.312 | Test_score = 0.282\n",
      "Epoch = 36 Evidence =  10921.0 | pls = -1.94 | vls = -2.66 | mu = -0.00752\n",
      "Train_score = 0.311 | Test_score = 0.277\n",
      "Epoch = 37 Evidence =  10897.0 | pls = -1.94 | vls = -2.66 | mu = -0.00751\n",
      "Train_score = 0.311 | Test_score = 0.281\n",
      "Epoch = 38 Evidence =  10910.0 | pls = -1.93 | vls = -2.66 | mu = -0.00749\n",
      "Train_score = 0.31 | Test_score = 0.283\n",
      "Epoch = 39 Evidence =  10882.0 | pls = -1.93 | vls = -2.66 | mu = -0.00748\n",
      "Train_score = 0.309 | Test_score = 0.283\n",
      "Epoch = 40 Evidence =  10882.0 | pls = -1.93 | vls = -2.66 | mu = -0.00748\n",
      "Train_score = 0.309 | Test_score = 0.286\n",
      "Epoch = 41 Evidence =  10862.0 | pls = -1.93 | vls = -2.66 | mu = -0.00748\n",
      "Train_score = 0.309 | Test_score = 0.283\n",
      "Epoch = 42 Evidence =  10871.0 | pls = -1.92 | vls = -2.66 | mu = -0.00747\n",
      "Train_score = 0.309 | Test_score = 0.279\n",
      "Epoch = 43 Evidence =  10868.0 | pls = -1.92 | vls = -2.66 | mu = -0.00746\n",
      "Train_score = 0.31 | Test_score = 0.281\n",
      "Epoch = 44 Evidence =  10866.0 | pls = -1.92 | vls = -2.65 | mu = -0.00746\n",
      "Train_score = 0.31 | Test_score = 0.285\n",
      "Epoch = 45 Evidence =  10861.0 | pls = -1.92 | vls = -2.65 | mu = -0.00743\n",
      "Train_score = 0.31 | Test_score = 0.285\n",
      "Epoch = 46 Evidence =  10869.0 | pls = -1.91 | vls = -2.65 | mu = -0.00742\n",
      "Train_score = 0.31 | Test_score = 0.288\n",
      "Epoch = 47 Evidence =  10856.0 | pls = -1.91 | vls = -2.65 | mu = -0.00742\n",
      "Train_score = 0.31 | Test_score = 0.287\n",
      "Epoch = 48 Evidence =  10842.0 | pls = -1.91 | vls = -2.65 | mu = -0.00743\n",
      "Train_score = 0.309 | Test_score = 0.285\n",
      "Epoch = 49 Evidence =  10821.0 | pls = -1.91 | vls = -2.65 | mu = -0.00742\n",
      "Train_score = 0.309 | Test_score = 0.285\n",
      "Epoch = 50 Evidence =  10809.0 | pls = -1.91 | vls = -2.65 | mu = -0.00742\n",
      "Train_score = 0.308 | Test_score = 0.282\n",
      "Epoch = 51 Evidence =  10832.0 | pls = -1.9 | vls = -2.65 | mu = -0.00743\n",
      "Train_score = 0.309 | Test_score = 0.285\n",
      "Epoch = 52 Evidence =  10811.0 | pls = -1.9 | vls = -2.65 | mu = -0.00743\n",
      "Train_score = 0.31 | Test_score = 0.282\n",
      "Epoch = 53 Evidence =  10824.0 | pls = -1.9 | vls = -2.65 | mu = -0.00741\n",
      "Train_score = 0.31 | Test_score = 0.283\n",
      "Epoch = 54 Evidence =  10805.0 | pls = -1.9 | vls = -2.65 | mu = -0.00741\n",
      "Train_score = 0.31 | Test_score = 0.283\n",
      "Epoch = 55 Evidence =  10798.0 | pls = -1.9 | vls = -2.64 | mu = -0.00742\n",
      "Train_score = 0.31 | Test_score = 0.285\n",
      "Epoch = 56 Evidence =  10790.0 | pls = -1.89 | vls = -2.64 | mu = -0.00743\n",
      "Train_score = 0.31 | Test_score = 0.284\n",
      "Epoch = 57 Evidence =  10802.0 | pls = -1.89 | vls = -2.64 | mu = -0.00743\n",
      "Train_score = 0.311 | Test_score = 0.283\n",
      "Epoch = 58 Evidence =  10800.0 | pls = -1.89 | vls = -2.64 | mu = -0.00742\n",
      "Train_score = 0.311 | Test_score = 0.284\n",
      "Epoch = 59 Evidence =  10791.0 | pls = -1.89 | vls = -2.64 | mu = -0.00742\n",
      "Train_score = 0.31 | Test_score = 0.282\n",
      "Epoch = 60 Evidence =  10771.0 | pls = -1.89 | vls = -2.64 | mu = -0.00742\n",
      "Train_score = 0.311 | Test_score = 0.28\n",
      "Epoch = 61 Evidence =  10780.0 | pls = -1.88 | vls = -2.64 | mu = -0.00743\n",
      "Train_score = 0.311 | Test_score = 0.28\n",
      "Epoch = 62 Evidence =  10798.0 | pls = -1.88 | vls = -2.64 | mu = -0.00743\n",
      "Train_score = 0.311 | Test_score = 0.282\n",
      "Epoch = 63 Evidence =  10779.0 | pls = -1.88 | vls = -2.64 | mu = -0.00744\n",
      "Train_score = 0.311 | Test_score = 0.282\n",
      "Epoch = 64 Evidence =  10770.0 | pls = -1.88 | vls = -2.64 | mu = -0.00745\n",
      "Train_score = 0.311 | Test_score = 0.283\n",
      "Epoch = 65 Evidence =  10757.0 | pls = -1.88 | vls = -2.64 | mu = -0.00746\n",
      "Train_score = 0.311 | Test_score = 0.285\n",
      "Epoch = 66 Evidence =  10752.0 | pls = -1.87 | vls = -2.64 | mu = -0.00749\n",
      "Train_score = 0.311 | Test_score = 0.285\n",
      "Epoch = 67 Evidence =  10736.0 | pls = -1.87 | vls = -2.64 | mu = -0.00751\n",
      "Train_score = 0.311 | Test_score = 0.289\n",
      "Epoch = 68 Evidence =  10725.0 | pls = -1.87 | vls = -2.63 | mu = -0.00751\n",
      "Train_score = 0.311 | Test_score = 0.288\n",
      "Epoch = 69 Evidence =  10744.0 | pls = -1.87 | vls = -2.63 | mu = -0.00754\n",
      "Train_score = 0.311 | Test_score = 0.291\n",
      "Early Stopping\n",
      "bits_per_weigth = 0.7675926144827907\n",
      "N_params = 179\n",
      "initial_score = 0.263091036433\n",
      "Epoch = 0 Evidence =  12028.0 | pls = -2.14 | vls = -2.71 | mu = -0.00325\n",
      "Train_score = 0.272 | Test_score = 0.261\n",
      "Epoch = 1 Evidence =  11987.0 | pls = -2.13 | vls = -2.71 | mu = -0.00327\n",
      "Train_score = 0.27 | Test_score = 0.261\n",
      "Epoch = 2 Evidence =  11975.0 | pls = -2.12 | vls = -2.71 | mu = -0.00328\n",
      "Train_score = 0.269 | Test_score = 0.258\n",
      "Epoch = 3 Evidence =  11943.0 | pls = -2.11 | vls = -2.71 | mu = -0.0033\n",
      "Train_score = 0.268 | Test_score = 0.255\n",
      "Epoch = 4 Evidence =  11909.0 | pls = -2.1 | vls = -2.71 | mu = -0.00331\n",
      "Train_score = 0.268 | Test_score = 0.253\n",
      "Epoch = 5 Evidence =  11893.0 | pls = -2.09 | vls = -2.71 | mu = -0.00333\n",
      "Train_score = 0.269 | Test_score = 0.254\n",
      "Epoch = 6 Evidence =  11877.0 | pls = -2.07 | vls = -2.71 | mu = -0.00334\n",
      "Train_score = 0.268 | Test_score = 0.255\n",
      "Epoch = 7 Evidence =  11845.0 | pls = -2.06 | vls = -2.71 | mu = -0.00335\n",
      "Train_score = 0.268 | Test_score = 0.254\n",
      "Epoch = 8 Evidence =  11818.0 | pls = -2.05 | vls = -2.71 | mu = -0.00336\n",
      "Train_score = 0.268 | Test_score = 0.254\n",
      "Epoch = 9 Evidence =  11799.0 | pls = -2.04 | vls = -2.7 | mu = -0.00336\n",
      "Train_score = 0.27 | Test_score = 0.251\n",
      "Epoch = 10 Evidence =  11776.0 | pls = -2.03 | vls = -2.7 | mu = -0.00337\n",
      "Train_score = 0.274 | Test_score = 0.254\n",
      "Epoch = 11 Evidence =  11753.0 | pls = -2.02 | vls = -2.7 | mu = -0.00338\n",
      "Train_score = 0.28 | Test_score = 0.264\n",
      "Epoch = 12 Evidence =  11742.0 | pls = -2.01 | vls = -2.7 | mu = -0.00337\n",
      "Train_score = 0.283 | Test_score = 0.272\n",
      "Epoch = 13 Evidence =  11724.0 | pls = -2.0 | vls = -2.7 | mu = -0.00338\n",
      "Train_score = 0.291 | Test_score = 0.267\n",
      "Epoch = 14 Evidence =  11687.0 | pls = -1.99 | vls = -2.7 | mu = -0.00339\n",
      "Train_score = 0.294 | Test_score = 0.271\n",
      "Epoch = 15 Evidence =  11672.0 | pls = -1.98 | vls = -2.7 | mu = -0.00339\n",
      "Train_score = 0.297 | Test_score = 0.271\n",
      "Epoch = 16 Evidence =  11652.0 | pls = -1.97 | vls = -2.7 | mu = -0.00339\n",
      "Train_score = 0.3 | Test_score = 0.27\n",
      "Epoch = 17 Evidence =  11625.0 | pls = -1.96 | vls = -2.7 | mu = -0.00338\n",
      "Train_score = 0.302 | Test_score = 0.266\n",
      "Epoch = 18 Evidence =  11610.0 | pls = -1.95 | vls = -2.69 | mu = -0.00336\n",
      "Train_score = 0.301 | Test_score = 0.264\n",
      "Epoch = 19 Evidence =  11601.0 | pls = -1.94 | vls = -2.69 | mu = -0.00334\n",
      "Train_score = 0.302 | Test_score = 0.266\n",
      "Epoch = 20 Evidence =  11571.0 | pls = -1.93 | vls = -2.69 | mu = -0.00333\n",
      "Train_score = 0.299 | Test_score = 0.262\n",
      "Epoch = 21 Evidence =  11573.0 | pls = -1.93 | vls = -2.69 | mu = -0.0033\n",
      "Train_score = 0.297 | Test_score = 0.264\n",
      "Epoch = 22 Evidence =  11539.0 | pls = -1.92 | vls = -2.69 | mu = -0.00326\n",
      "Train_score = 0.294 | Test_score = 0.263\n",
      "Epoch = 23 Evidence =  11520.0 | pls = -1.91 | vls = -2.69 | mu = -0.00325\n",
      "Train_score = 0.296 | Test_score = 0.262\n",
      "Epoch = 24 Evidence =  11509.0 | pls = -1.9 | vls = -2.69 | mu = -0.00322\n",
      "Train_score = 0.296 | Test_score = 0.263\n",
      "Epoch = 25 Evidence =  11492.0 | pls = -1.89 | vls = -2.69 | mu = -0.00319\n",
      "Train_score = 0.293 | Test_score = 0.261\n",
      "Epoch = 26 Evidence =  11484.0 | pls = -1.88 | vls = -2.69 | mu = -0.00315\n",
      "Train_score = 0.293 | Test_score = 0.263\n",
      "Epoch = 27 Evidence =  11464.0 | pls = -1.88 | vls = -2.69 | mu = -0.00313\n",
      "Train_score = 0.293 | Test_score = 0.265\n",
      "Epoch = 28 Evidence =  11430.0 | pls = -1.87 | vls = -2.68 | mu = -0.00309\n",
      "Train_score = 0.293 | Test_score = 0.264\n",
      "Epoch = 29 Evidence =  11438.0 | pls = -1.86 | vls = -2.68 | mu = -0.00305\n",
      "Train_score = 0.294 | Test_score = 0.261\n",
      "Epoch = 30 Evidence =  11426.0 | pls = -1.85 | vls = -2.68 | mu = -0.003\n",
      "Train_score = 0.294 | Test_score = 0.261\n",
      "Epoch = 31 Evidence =  11401.0 | pls = -1.85 | vls = -2.68 | mu = -0.00296\n",
      "Train_score = 0.294 | Test_score = 0.26\n",
      "Epoch = 32 Evidence =  11398.0 | pls = -1.84 | vls = -2.68 | mu = -0.00291\n",
      "Train_score = 0.293 | Test_score = 0.264\n",
      "Epoch = 33 Evidence =  11394.0 | pls = -1.83 | vls = -2.68 | mu = -0.00287\n",
      "Train_score = 0.293 | Test_score = 0.262\n",
      "Epoch = 34 Evidence =  11363.0 | pls = -1.83 | vls = -2.68 | mu = -0.00282\n",
      "Train_score = 0.292 | Test_score = 0.263\n",
      "Epoch = 35 Evidence =  11338.0 | pls = -1.82 | vls = -2.68 | mu = -0.00276\n",
      "Train_score = 0.291 | Test_score = 0.263\n",
      "Epoch = 36 Evidence =  11336.0 | pls = -1.81 | vls = -2.68 | mu = -0.0027\n",
      "Train_score = 0.292 | Test_score = 0.262\n",
      "Epoch = 37 Evidence =  11323.0 | pls = -1.81 | vls = -2.68 | mu = -0.00264\n",
      "Train_score = 0.292 | Test_score = 0.264\n",
      "Epoch = 38 Evidence =  11304.0 | pls = -1.8 | vls = -2.67 | mu = -0.00257\n",
      "Train_score = 0.291 | Test_score = 0.264\n",
      "Epoch = 39 Evidence =  11306.0 | pls = -1.8 | vls = -2.67 | mu = -0.00252\n",
      "Train_score = 0.292 | Test_score = 0.264\n",
      "Epoch = 40 Evidence =  11283.0 | pls = -1.79 | vls = -2.67 | mu = -0.00245\n",
      "Train_score = 0.292 | Test_score = 0.264\n",
      "Epoch = 41 Evidence =  11265.0 | pls = -1.78 | vls = -2.67 | mu = -0.00238\n",
      "Train_score = 0.29 | Test_score = 0.262\n",
      "Epoch = 42 Evidence =  11257.0 | pls = -1.78 | vls = -2.67 | mu = -0.00232\n",
      "Train_score = 0.29 | Test_score = 0.263\n",
      "Epoch = 43 Evidence =  11216.0 | pls = -1.77 | vls = -2.67 | mu = -0.00226\n",
      "Train_score = 0.289 | Test_score = 0.264\n",
      "Epoch = 44 Evidence =  11219.0 | pls = -1.77 | vls = -2.67 | mu = -0.00219\n",
      "Train_score = 0.29 | Test_score = 0.263\n",
      "Epoch = 45 Evidence =  11207.0 | pls = -1.76 | vls = -2.67 | mu = -0.00212\n",
      "Train_score = 0.29 | Test_score = 0.262\n",
      "Epoch = 46 Evidence =  11182.0 | pls = -1.76 | vls = -2.67 | mu = -0.00206\n",
      "Train_score = 0.29 | Test_score = 0.262\n",
      "Epoch = 47 Evidence =  11175.0 | pls = -1.75 | vls = -2.67 | mu = -0.00199\n",
      "Train_score = 0.29 | Test_score = 0.262\n",
      "Epoch = 48 Evidence =  11150.0 | pls = -1.75 | vls = -2.67 | mu = -0.00191\n",
      "Train_score = 0.291 | Test_score = 0.265\n",
      "Epoch = 49 Evidence =  11132.0 | pls = -1.74 | vls = -2.67 | mu = -0.00185\n",
      "Train_score = 0.292 | Test_score = 0.262\n",
      "Epoch = 50 Evidence =  11120.0 | pls = -1.74 | vls = -2.67 | mu = -0.00177\n",
      "Train_score = 0.291 | Test_score = 0.262\n",
      "Epoch = 51 Evidence =  11097.0 | pls = -1.73 | vls = -2.66 | mu = -0.0017\n",
      "Train_score = 0.291 | Test_score = 0.265\n",
      "Epoch = 52 Evidence =  11100.0 | pls = -1.73 | vls = -2.66 | mu = -0.00163\n",
      "Train_score = 0.289 | Test_score = 0.266\n",
      "Epoch = 53 Evidence =  11079.0 | pls = -1.72 | vls = -2.66 | mu = -0.00156\n",
      "Train_score = 0.29 | Test_score = 0.266\n",
      "Epoch = 54 Evidence =  11053.0 | pls = -1.72 | vls = -2.66 | mu = -0.0015\n",
      "Train_score = 0.292 | Test_score = 0.27\n",
      "Epoch = 55 Evidence =  11043.0 | pls = -1.71 | vls = -2.66 | mu = -0.00144\n",
      "Train_score = 0.292 | Test_score = 0.276\n",
      "Epoch = 56 Evidence =  11031.0 | pls = -1.71 | vls = -2.66 | mu = -0.00137\n",
      "Train_score = 0.291 | Test_score = 0.276\n",
      "Epoch = 57 Evidence =  11030.0 | pls = -1.71 | vls = -2.66 | mu = -0.00132\n",
      "Train_score = 0.291 | Test_score = 0.277\n",
      "Epoch = 58 Evidence =  11004.0 | pls = -1.7 | vls = -2.66 | mu = -0.00124\n",
      "Train_score = 0.291 | Test_score = 0.277\n",
      "Epoch = 59 Evidence =  11006.0 | pls = -1.7 | vls = -2.66 | mu = -0.00118\n",
      "Train_score = 0.291 | Test_score = 0.276\n",
      "Epoch = 60 Evidence =  10978.0 | pls = -1.7 | vls = -2.66 | mu = -0.00113\n",
      "Train_score = 0.294 | Test_score = 0.279\n",
      "Epoch = 61 Evidence =  10989.0 | pls = -1.69 | vls = -2.66 | mu = -0.00107\n",
      "Train_score = 0.293 | Test_score = 0.276\n",
      "Epoch = 62 Evidence =  10984.0 | pls = -1.69 | vls = -2.66 | mu = -0.00101\n",
      "Train_score = 0.293 | Test_score = 0.278\n",
      "Epoch = 63 Evidence =  10983.0 | pls = -1.69 | vls = -2.66 | mu = -0.00096\n",
      "Train_score = 0.293 | Test_score = 0.277\n",
      "Epoch = 64 Evidence =  10955.0 | pls = -1.69 | vls = -2.66 | mu = -0.00089\n",
      "Train_score = 0.294 | Test_score = 0.28\n",
      "Epoch = 65 Evidence =  10964.0 | pls = -1.68 | vls = -2.66 | mu = -0.00083\n",
      "Train_score = 0.295 | Test_score = 0.28\n",
      "Epoch = 66 Evidence =  10957.0 | pls = -1.68 | vls = -2.66 | mu = -0.00076\n",
      "Train_score = 0.294 | Test_score = 0.279\n",
      "Epoch = 67 Evidence =  10937.0 | pls = -1.68 | vls = -2.66 | mu = -0.00071\n",
      "Train_score = 0.295 | Test_score = 0.275\n",
      "Epoch = 68 Evidence =  10928.0 | pls = -1.68 | vls = -2.66 | mu = -0.00065\n",
      "Train_score = 0.296 | Test_score = 0.275\n",
      "Epoch = 69 Evidence =  10940.0 | pls = -1.68 | vls = -2.66 | mu = -0.00059\n",
      "Train_score = 0.297 | Test_score = 0.279\n",
      "Epoch = 70 Evidence =  10920.0 | pls = -1.67 | vls = -2.66 | mu = -0.00054\n",
      "Train_score = 0.298 | Test_score = 0.279\n",
      "Epoch = 71 Evidence =  10906.0 | pls = -1.67 | vls = -2.66 | mu = -0.00047\n",
      "Train_score = 0.299 | Test_score = 0.279\n",
      "Epoch = 72 Evidence =  10908.0 | pls = -1.67 | vls = -2.66 | mu = -0.00041\n",
      "Train_score = 0.3 | Test_score = 0.28\n",
      "Epoch = 73 Evidence =  10906.0 | pls = -1.67 | vls = -2.66 | mu = -0.00034\n",
      "Train_score = 0.302 | Test_score = 0.283\n",
      "Epoch = 74 Evidence =  10899.0 | pls = -1.67 | vls = -2.66 | mu = -0.00029\n",
      "Train_score = 0.303 | Test_score = 0.281\n",
      "Epoch = 75 Evidence =  10893.0 | pls = -1.67 | vls = -2.66 | mu = -0.00024\n",
      "Train_score = 0.303 | Test_score = 0.281\n",
      "Epoch = 76 Evidence =  10906.0 | pls = -1.66 | vls = -2.66 | mu = -0.00018\n",
      "Train_score = 0.304 | Test_score = 0.283\n",
      "Epoch = 77 Evidence =  10886.0 | pls = -1.66 | vls = -2.65 | mu = -0.00013\n",
      "Train_score = 0.303 | Test_score = 0.282\n",
      "Epoch = 78 Evidence =  10889.0 | pls = -1.66 | vls = -2.65 | mu = -6e-05\n",
      "Train_score = 0.303 | Test_score = 0.281\n",
      "Epoch = 79 Evidence =  10871.0 | pls = -1.66 | vls = -2.65 | mu = -1e-05\n",
      "Train_score = 0.303 | Test_score = 0.284\n",
      "Epoch = 80 Evidence =  10889.0 | pls = -1.66 | vls = -2.65 | mu = 5e-05\n",
      "Train_score = 0.303 | Test_score = 0.284\n",
      "Epoch = 81 Evidence =  10889.0 | pls = -1.66 | vls = -2.65 | mu = 0.00011\n",
      "Train_score = 0.303 | Test_score = 0.287\n",
      "Epoch = 82 Evidence =  10879.0 | pls = -1.66 | vls = -2.65 | mu = 0.00017\n",
      "Train_score = 0.303 | Test_score = 0.287\n",
      "Epoch = 83 Evidence =  10858.0 | pls = -1.65 | vls = -2.65 | mu = 0.00024\n",
      "Train_score = 0.303 | Test_score = 0.287\n",
      "Epoch = 84 Evidence =  10877.0 | pls = -1.65 | vls = -2.65 | mu = 0.0003\n",
      "Train_score = 0.303 | Test_score = 0.285\n",
      "Early Stopping\n",
      "bits_per_weigth = 0.9991187176092182\n",
      "N_params = 88\n",
      "initial_score = 0.21847126178\n",
      "Epoch = 0 Evidence =  12143.0 | pls = -2.01 | vls = -2.71 | mu = -0.01324\n",
      "Train_score = 0.23 | Test_score = 0.216\n",
      "Epoch = 1 Evidence =  12122.0 | pls = -2.0 | vls = -2.71 | mu = -0.01335\n",
      "Train_score = 0.231 | Test_score = 0.217\n",
      "Epoch = 2 Evidence =  12104.0 | pls = -1.99 | vls = -2.71 | mu = -0.01347\n",
      "Train_score = 0.231 | Test_score = 0.216\n",
      "Epoch = 3 Evidence =  12099.0 | pls = -1.98 | vls = -2.71 | mu = -0.0136\n",
      "Train_score = 0.23 | Test_score = 0.213\n",
      "Epoch = 4 Evidence =  12066.0 | pls = -1.97 | vls = -2.71 | mu = -0.01372\n",
      "Train_score = 0.23 | Test_score = 0.212\n",
      "Epoch = 5 Evidence =  12051.0 | pls = -1.96 | vls = -2.71 | mu = -0.01384\n",
      "Train_score = 0.229 | Test_score = 0.21\n",
      "Epoch = 6 Evidence =  12030.0 | pls = -1.95 | vls = -2.71 | mu = -0.01396\n",
      "Train_score = 0.228 | Test_score = 0.211\n",
      "Epoch = 7 Evidence =  12017.0 | pls = -1.94 | vls = -2.71 | mu = -0.01407\n",
      "Train_score = 0.228 | Test_score = 0.209\n",
      "Epoch = 8 Evidence =  11995.0 | pls = -1.93 | vls = -2.71 | mu = -0.01419\n",
      "Train_score = 0.228 | Test_score = 0.209\n",
      "Epoch = 9 Evidence =  11985.0 | pls = -1.92 | vls = -2.71 | mu = -0.01431\n",
      "Train_score = 0.228 | Test_score = 0.209\n",
      "Epoch = 10 Evidence =  11959.0 | pls = -1.91 | vls = -2.71 | mu = -0.01443\n",
      "Train_score = 0.227 | Test_score = 0.208\n",
      "Epoch = 11 Evidence =  11937.0 | pls = -1.9 | vls = -2.71 | mu = -0.01454\n",
      "Train_score = 0.227 | Test_score = 0.208\n",
      "Epoch = 12 Evidence =  11936.0 | pls = -1.89 | vls = -2.71 | mu = -0.01465\n",
      "Train_score = 0.227 | Test_score = 0.207\n",
      "Epoch = 13 Evidence =  11914.0 | pls = -1.88 | vls = -2.71 | mu = -0.01476\n",
      "Train_score = 0.227 | Test_score = 0.207\n",
      "Epoch = 14 Evidence =  11882.0 | pls = -1.87 | vls = -2.71 | mu = -0.01488\n",
      "Train_score = 0.226 | Test_score = 0.206\n",
      "Epoch = 15 Evidence =  11879.0 | pls = -1.86 | vls = -2.71 | mu = -0.01499\n",
      "Train_score = 0.225 | Test_score = 0.206\n",
      "Epoch = 16 Evidence =  11854.0 | pls = -1.85 | vls = -2.71 | mu = -0.0151\n",
      "Train_score = 0.225 | Test_score = 0.205\n",
      "Epoch = 17 Evidence =  11851.0 | pls = -1.84 | vls = -2.71 | mu = -0.01521\n",
      "Train_score = 0.224 | Test_score = 0.205\n",
      "Epoch = 18 Evidence =  11825.0 | pls = -1.83 | vls = -2.71 | mu = -0.01532\n",
      "Train_score = 0.224 | Test_score = 0.204\n",
      "Epoch = 19 Evidence =  11812.0 | pls = -1.82 | vls = -2.71 | mu = -0.01544\n",
      "Train_score = 0.224 | Test_score = 0.204\n",
      "Epoch = 20 Evidence =  11801.0 | pls = -1.81 | vls = -2.71 | mu = -0.01555\n",
      "Train_score = 0.224 | Test_score = 0.203\n",
      "Epoch = 21 Evidence =  11781.0 | pls = -1.8 | vls = -2.7 | mu = -0.01565\n",
      "Train_score = 0.223 | Test_score = 0.203\n",
      "Epoch = 22 Evidence =  11767.0 | pls = -1.79 | vls = -2.7 | mu = -0.01575\n",
      "Train_score = 0.223 | Test_score = 0.203\n",
      "Epoch = 23 Evidence =  11748.0 | pls = -1.78 | vls = -2.7 | mu = -0.01586\n",
      "Train_score = 0.223 | Test_score = 0.204\n",
      "Epoch = 24 Evidence =  11744.0 | pls = -1.77 | vls = -2.7 | mu = -0.01597\n",
      "Train_score = 0.223 | Test_score = 0.203\n",
      "Epoch = 25 Evidence =  11730.0 | pls = -1.76 | vls = -2.7 | mu = -0.01606\n",
      "Train_score = 0.223 | Test_score = 0.203\n",
      "Epoch = 26 Evidence =  11714.0 | pls = -1.75 | vls = -2.7 | mu = -0.01617\n",
      "Train_score = 0.223 | Test_score = 0.203\n",
      "Epoch = 27 Evidence =  11709.0 | pls = -1.74 | vls = -2.7 | mu = -0.01626\n",
      "Train_score = 0.223 | Test_score = 0.203\n",
      "Epoch = 28 Evidence =  11685.0 | pls = -1.73 | vls = -2.7 | mu = -0.01637\n",
      "Train_score = 0.223 | Test_score = 0.203\n",
      "Epoch = 29 Evidence =  11679.0 | pls = -1.73 | vls = -2.7 | mu = -0.01647\n",
      "Train_score = 0.223 | Test_score = 0.203\n",
      "Epoch = 30 Evidence =  11662.0 | pls = -1.72 | vls = -2.7 | mu = -0.01657\n",
      "Train_score = 0.223 | Test_score = 0.203\n",
      "Epoch = 31 Evidence =  11664.0 | pls = -1.71 | vls = -2.7 | mu = -0.01667\n",
      "Train_score = 0.223 | Test_score = 0.203\n",
      "Epoch = 32 Evidence =  11644.0 | pls = -1.7 | vls = -2.7 | mu = -0.01678\n",
      "Train_score = 0.223 | Test_score = 0.203\n",
      "Epoch = 33 Evidence =  11642.0 | pls = -1.7 | vls = -2.7 | mu = -0.01688\n",
      "Train_score = 0.223 | Test_score = 0.203\n",
      "Epoch = 34 Evidence =  11639.0 | pls = -1.69 | vls = -2.7 | mu = -0.01699\n",
      "Train_score = 0.223 | Test_score = 0.203\n",
      "Epoch = 35 Evidence =  11616.0 | pls = -1.68 | vls = -2.7 | mu = -0.0171\n",
      "Train_score = 0.223 | Test_score = 0.203\n",
      "Epoch = 36 Evidence =  11614.0 | pls = -1.68 | vls = -2.7 | mu = -0.0172\n",
      "Train_score = 0.223 | Test_score = 0.203\n",
      "Epoch = 37 Evidence =  11604.0 | pls = -1.67 | vls = -2.7 | mu = -0.01732\n",
      "Train_score = 0.223 | Test_score = 0.203\n",
      "Epoch = 38 Evidence =  11590.0 | pls = -1.66 | vls = -2.7 | mu = -0.01742\n",
      "Train_score = 0.223 | Test_score = 0.203\n",
      "Epoch = 39 Evidence =  11589.0 | pls = -1.66 | vls = -2.7 | mu = -0.01752\n",
      "Train_score = 0.223 | Test_score = 0.203\n",
      "Epoch = 40 Evidence =  11585.0 | pls = -1.65 | vls = -2.7 | mu = -0.01763\n",
      "Train_score = 0.223 | Test_score = 0.203\n",
      "Epoch = 41 Evidence =  11584.0 | pls = -1.64 | vls = -2.7 | mu = -0.01773\n",
      "Train_score = 0.223 | Test_score = 0.203\n",
      "Epoch = 42 Evidence =  11566.0 | pls = -1.64 | vls = -2.7 | mu = -0.01784\n",
      "Train_score = 0.223 | Test_score = 0.203\n",
      "Epoch = 43 Evidence =  11561.0 | pls = -1.63 | vls = -2.7 | mu = -0.01794\n",
      "Train_score = 0.223 | Test_score = 0.203\n",
      "Epoch = 44 Evidence =  11563.0 | pls = -1.63 | vls = -2.7 | mu = -0.01804\n",
      "Train_score = 0.223 | Test_score = 0.203\n",
      "Epoch = 45 Evidence =  11547.0 | pls = -1.62 | vls = -2.69 | mu = -0.01816\n",
      "Train_score = 0.224 | Test_score = 0.206\n",
      "Epoch = 46 Evidence =  11550.0 | pls = -1.62 | vls = -2.69 | mu = -0.01828\n",
      "Train_score = 0.224 | Test_score = 0.206\n",
      "Epoch = 47 Evidence =  11539.0 | pls = -1.61 | vls = -2.69 | mu = -0.01838\n",
      "Train_score = 0.225 | Test_score = 0.206\n",
      "Epoch = 48 Evidence =  11535.0 | pls = -1.61 | vls = -2.69 | mu = -0.01848\n",
      "Train_score = 0.225 | Test_score = 0.206\n",
      "Epoch = 49 Evidence =  11527.0 | pls = -1.6 | vls = -2.69 | mu = -0.01858\n",
      "Train_score = 0.227 | Test_score = 0.208\n",
      "Epoch = 50 Evidence =  11530.0 | pls = -1.6 | vls = -2.69 | mu = -0.01869\n",
      "Train_score = 0.227 | Test_score = 0.208\n",
      "Epoch = 51 Evidence =  11518.0 | pls = -1.59 | vls = -2.69 | mu = -0.01881\n",
      "Train_score = 0.228 | Test_score = 0.21\n",
      "Epoch = 52 Evidence =  11528.0 | pls = -1.59 | vls = -2.69 | mu = -0.01892\n",
      "Train_score = 0.228 | Test_score = 0.211\n",
      "Epoch = 53 Evidence =  11501.0 | pls = -1.58 | vls = -2.69 | mu = -0.01902\n",
      "Train_score = 0.229 | Test_score = 0.211\n",
      "Epoch = 54 Evidence =  11508.0 | pls = -1.58 | vls = -2.69 | mu = -0.01913\n",
      "Train_score = 0.23 | Test_score = 0.211\n",
      "Epoch = 55 Evidence =  11502.0 | pls = -1.58 | vls = -2.69 | mu = -0.01925\n",
      "Train_score = 0.23 | Test_score = 0.211\n",
      "Early Stopping\n",
      "bits_per_weigth = 1.1134207495257689\n",
      "N_params = 55\n",
      "initial_score = 0.217989544266\n",
      "Epoch = 0 Evidence =  12222.0 | pls = -1.92 | vls = -2.71 | mu = -0.0161\n",
      "Train_score = 0.228 | Test_score = 0.215\n",
      "Epoch = 1 Evidence =  12208.0 | pls = -1.91 | vls = -2.71 | mu = -0.0163\n",
      "Train_score = 0.226 | Test_score = 0.215\n",
      "Epoch = 2 Evidence =  12186.0 | pls = -1.9 | vls = -2.71 | mu = -0.01649\n",
      "Train_score = 0.225 | Test_score = 0.212\n",
      "Epoch = 3 Evidence =  12181.0 | pls = -1.9 | vls = -2.71 | mu = -0.01669\n",
      "Train_score = 0.225 | Test_score = 0.212\n",
      "Epoch = 4 Evidence =  12170.0 | pls = -1.89 | vls = -2.71 | mu = -0.01688\n",
      "Train_score = 0.225 | Test_score = 0.214\n",
      "Epoch = 5 Evidence =  12154.0 | pls = -1.88 | vls = -2.71 | mu = -0.01708\n",
      "Train_score = 0.225 | Test_score = 0.209\n",
      "Epoch = 6 Evidence =  12135.0 | pls = -1.87 | vls = -2.71 | mu = -0.01727\n",
      "Train_score = 0.225 | Test_score = 0.209\n",
      "Epoch = 7 Evidence =  12124.0 | pls = -1.86 | vls = -2.71 | mu = -0.01747\n",
      "Train_score = 0.224 | Test_score = 0.208\n",
      "Epoch = 8 Evidence =  12113.0 | pls = -1.85 | vls = -2.71 | mu = -0.01766\n",
      "Train_score = 0.223 | Test_score = 0.208\n",
      "Epoch = 9 Evidence =  12096.0 | pls = -1.84 | vls = -2.71 | mu = -0.01786\n",
      "Train_score = 0.223 | Test_score = 0.209\n",
      "Epoch = 10 Evidence =  12084.0 | pls = -1.83 | vls = -2.71 | mu = -0.01806\n",
      "Train_score = 0.222 | Test_score = 0.208\n",
      "Epoch = 11 Evidence =  12064.0 | pls = -1.82 | vls = -2.71 | mu = -0.01825\n",
      "Train_score = 0.222 | Test_score = 0.205\n",
      "Epoch = 12 Evidence =  12049.0 | pls = -1.81 | vls = -2.71 | mu = -0.01844\n",
      "Train_score = 0.222 | Test_score = 0.204\n",
      "Epoch = 13 Evidence =  12039.0 | pls = -1.8 | vls = -2.71 | mu = -0.01864\n",
      "Train_score = 0.222 | Test_score = 0.204\n",
      "Epoch = 14 Evidence =  12017.0 | pls = -1.79 | vls = -2.71 | mu = -0.01884\n",
      "Train_score = 0.222 | Test_score = 0.203\n",
      "Epoch = 15 Evidence =  12004.0 | pls = -1.78 | vls = -2.71 | mu = -0.01903\n",
      "Train_score = 0.221 | Test_score = 0.204\n",
      "Epoch = 16 Evidence =  12006.0 | pls = -1.77 | vls = -2.71 | mu = -0.01922\n",
      "Train_score = 0.221 | Test_score = 0.201\n",
      "Epoch = 17 Evidence =  11984.0 | pls = -1.76 | vls = -2.71 | mu = -0.0194\n",
      "Train_score = 0.221 | Test_score = 0.201\n",
      "Epoch = 18 Evidence =  11958.0 | pls = -1.75 | vls = -2.71 | mu = -0.01958\n",
      "Train_score = 0.221 | Test_score = 0.2\n",
      "Epoch = 19 Evidence =  11956.0 | pls = -1.74 | vls = -2.71 | mu = -0.01975\n",
      "Train_score = 0.221 | Test_score = 0.199\n",
      "Epoch = 20 Evidence =  11939.0 | pls = -1.73 | vls = -2.71 | mu = -0.01993\n",
      "Train_score = 0.221 | Test_score = 0.198\n",
      "Epoch = 21 Evidence =  11917.0 | pls = -1.72 | vls = -2.71 | mu = -0.02011\n",
      "Train_score = 0.221 | Test_score = 0.197\n",
      "Epoch = 22 Evidence =  11919.0 | pls = -1.71 | vls = -2.71 | mu = -0.02028\n",
      "Train_score = 0.22 | Test_score = 0.197\n",
      "Epoch = 23 Evidence =  11902.0 | pls = -1.7 | vls = -2.71 | mu = -0.02047\n",
      "Train_score = 0.22 | Test_score = 0.197\n",
      "Epoch = 24 Evidence =  11890.0 | pls = -1.69 | vls = -2.71 | mu = -0.02064\n",
      "Train_score = 0.22 | Test_score = 0.197\n",
      "Epoch = 25 Evidence =  11886.0 | pls = -1.68 | vls = -2.71 | mu = -0.02083\n",
      "Train_score = 0.22 | Test_score = 0.197\n",
      "Epoch = 26 Evidence =  11875.0 | pls = -1.68 | vls = -2.71 | mu = -0.021\n",
      "Train_score = 0.22 | Test_score = 0.197\n",
      "Epoch = 27 Evidence =  11855.0 | pls = -1.67 | vls = -2.71 | mu = -0.02117\n",
      "Train_score = 0.22 | Test_score = 0.197\n",
      "Epoch = 28 Evidence =  11850.0 | pls = -1.66 | vls = -2.71 | mu = -0.02136\n",
      "Train_score = 0.219 | Test_score = 0.197\n",
      "Epoch = 29 Evidence =  11826.0 | pls = -1.65 | vls = -2.71 | mu = -0.02153\n",
      "Train_score = 0.218 | Test_score = 0.196\n",
      "Epoch = 30 Evidence =  11820.0 | pls = -1.64 | vls = -2.71 | mu = -0.02169\n",
      "Train_score = 0.218 | Test_score = 0.195\n",
      "Epoch = 31 Evidence =  11803.0 | pls = -1.63 | vls = -2.71 | mu = -0.02187\n",
      "Train_score = 0.218 | Test_score = 0.195\n",
      "Epoch = 32 Evidence =  11808.0 | pls = -1.62 | vls = -2.71 | mu = -0.02203\n",
      "Train_score = 0.218 | Test_score = 0.195\n",
      "Epoch = 33 Evidence =  11794.0 | pls = -1.62 | vls = -2.71 | mu = -0.02221\n",
      "Train_score = 0.218 | Test_score = 0.195\n",
      "Epoch = 34 Evidence =  11771.0 | pls = -1.61 | vls = -2.71 | mu = -0.02237\n",
      "Train_score = 0.218 | Test_score = 0.195\n",
      "Epoch = 35 Evidence =  11768.0 | pls = -1.6 | vls = -2.71 | mu = -0.02254\n",
      "Train_score = 0.218 | Test_score = 0.195\n",
      "Epoch = 36 Evidence =  11760.0 | pls = -1.59 | vls = -2.71 | mu = -0.02271\n",
      "Train_score = 0.219 | Test_score = 0.195\n",
      "Epoch = 37 Evidence =  11748.0 | pls = -1.58 | vls = -2.71 | mu = -0.02287\n",
      "Train_score = 0.219 | Test_score = 0.195\n",
      "Epoch = 38 Evidence =  11751.0 | pls = -1.58 | vls = -2.71 | mu = -0.02302\n",
      "Train_score = 0.218 | Test_score = 0.195\n",
      "Epoch = 39 Evidence =  11732.0 | pls = -1.57 | vls = -2.71 | mu = -0.02318\n",
      "Train_score = 0.218 | Test_score = 0.196\n",
      "Epoch = 40 Evidence =  11728.0 | pls = -1.56 | vls = -2.71 | mu = -0.02334\n",
      "Train_score = 0.218 | Test_score = 0.196\n",
      "Epoch = 41 Evidence =  11723.0 | pls = -1.55 | vls = -2.71 | mu = -0.0235\n",
      "Train_score = 0.218 | Test_score = 0.196\n",
      "Epoch = 42 Evidence =  11711.0 | pls = -1.55 | vls = -2.71 | mu = -0.02367\n",
      "Train_score = 0.218 | Test_score = 0.196\n",
      "Epoch = 43 Evidence =  11704.0 | pls = -1.54 | vls = -2.71 | mu = -0.02382\n",
      "Train_score = 0.218 | Test_score = 0.196\n",
      "Epoch = 44 Evidence =  11696.0 | pls = -1.53 | vls = -2.71 | mu = -0.02397\n",
      "Train_score = 0.218 | Test_score = 0.196\n",
      "Epoch = 45 Evidence =  11680.0 | pls = -1.53 | vls = -2.71 | mu = -0.02413\n",
      "Train_score = 0.218 | Test_score = 0.196\n",
      "Epoch = 46 Evidence =  11678.0 | pls = -1.52 | vls = -2.7 | mu = -0.0243\n",
      "Train_score = 0.218 | Test_score = 0.196\n",
      "Epoch = 47 Evidence =  11671.0 | pls = -1.51 | vls = -2.7 | mu = -0.02445\n",
      "Train_score = 0.218 | Test_score = 0.196\n",
      "Epoch = 48 Evidence =  11669.0 | pls = -1.51 | vls = -2.7 | mu = -0.0246\n",
      "Train_score = 0.218 | Test_score = 0.196\n",
      "Epoch = 49 Evidence =  11656.0 | pls = -1.5 | vls = -2.7 | mu = -0.02475\n",
      "Train_score = 0.218 | Test_score = 0.196\n",
      "Epoch = 50 Evidence =  11652.0 | pls = -1.5 | vls = -2.7 | mu = -0.0249\n",
      "Train_score = 0.218 | Test_score = 0.196\n",
      "Epoch = 51 Evidence =  11654.0 | pls = -1.49 | vls = -2.7 | mu = -0.02506\n",
      "Train_score = 0.218 | Test_score = 0.196\n",
      "Epoch = 52 Evidence =  11635.0 | pls = -1.49 | vls = -2.7 | mu = -0.02521\n",
      "Train_score = 0.218 | Test_score = 0.196\n",
      "Epoch = 53 Evidence =  11630.0 | pls = -1.48 | vls = -2.7 | mu = -0.02536\n",
      "Train_score = 0.218 | Test_score = 0.196\n",
      "Epoch = 54 Evidence =  11625.0 | pls = -1.47 | vls = -2.7 | mu = -0.02551\n",
      "Train_score = 0.218 | Test_score = 0.196\n",
      "Early Stopping\n",
      "bits_per_weigth = 1.2291688102281926\n"
     ]
    }
   ],
   "source": [
    "# def pruning_retrain(ld_list,result_df):\n",
    "for ld_n, ld in enumerate(ld_list[:]):\n",
    "    history_evidence_tmp = []; history_score_train = []; history_score_test = []\n",
    "    name = 'ld_'+str(ld)\n",
    "    load_weights()\n",
    "\n",
    "    mask_new = pruning_mask(mean_tensor,ld,var_log_sigma)\n",
    "    mask_tensor.set_value(mask_new.astype('float32'))\n",
    "    \n",
    "    new_mean = mean_tensor.get_value()\n",
    "    new_mean[~mask_new] = 0\n",
    "    mean_tensor.set_value(new_mean.astype(fx))\n",
    "    \n",
    "    print('N_params =', N_params.eval())\n",
    "\n",
    "    initial_predict = np.argmax(predict_fn_det(X_test1, X_test2, M_test1, M_test2), axis=1)\n",
    "    initial_score = f1_score(Y_test, initial_predict, average=average_method)\n",
    "    print('initial_score =',initial_score)\n",
    "    initial_evidence = evidence_fn(X_train1,X_train2,M_train1,M_train2,Y_train)\n",
    "    retrain_evidence, retrain_score_train, retrain_score_test, retrain_epochs = train(n_epoches, esr,\\\n",
    "        batch_size,average_method=average_method,history_evidence=history_evidence_tmp,\\\n",
    "        history_score_train=history_score_train,history_score_test=history_score_test,border=border)\n",
    "\n",
    "    bits_per_weigth = (KLD/N_params).eval() # вычисляем Bits/Weight\n",
    "\n",
    "    result = pd.Series(name=name) # Систематизируем полученные данные\n",
    "    result['Lambda'] = ld\n",
    "    result['Weights_number'] = N_params.eval()\n",
    "    result['Portion_of_weights'] = N_params.eval()/N_params_unprunned\n",
    "    result['Initial_evidence'] = initial_evidence\n",
    "    result['Retrain_evidence'] = retrain_evidence\n",
    "    result['Initial_score'] = initial_score\n",
    "    result['Retrain_score'] = retrain_score_test\n",
    "    result['Retrain_epochs'] = retrain_epochs\n",
    "    result['Bits/weight'] = bits_per_weigth\n",
    "    result_df = result_df.append(result) # добавляем данные в таблицу\n",
    "\n",
    "    print('bits_per_weigth =',bits_per_weigth)\n",
    "\n",
    "    history_evidence_ld.update({name:history_evidence_tmp}); history_score_test_ld.update({name:history_score_test})\n",
    "    history_score_train_ld.update({name:history_score_train}) # обновляем историю\n",
    "#     return result_df"
   ]
  },
  {
   "cell_type": "markdown",
   "metadata": {},
   "source": [
    "Результаты в одной таблице:"
   ]
  },
  {
   "cell_type": "code",
   "execution_count": 70,
   "metadata": {
    "collapsed": true
   },
   "outputs": [],
   "source": [
    "n_iter = 2"
   ]
  },
  {
   "cell_type": "code",
   "execution_count": 74,
   "metadata": {
    "collapsed": false
   },
   "outputs": [],
   "source": [
    "# result_df = result_df.iloc[10:,:]"
   ]
  },
  {
   "cell_type": "code",
   "execution_count": 87,
   "metadata": {
    "collapsed": true
   },
   "outputs": [],
   "source": [
    "result_df = result_df.append(unprunned_result)"
   ]
  },
  {
   "cell_type": "code",
   "execution_count": 86,
   "metadata": {
    "collapsed": false
   },
   "outputs": [
    {
     "data": {
      "text/html": [
       "<div>\n",
       "<table border=\"1\" class=\"dataframe\">\n",
       "  <thead>\n",
       "    <tr style=\"text-align: right;\">\n",
       "      <th></th>\n",
       "      <th>Bits/weight</th>\n",
       "      <th>Initial_evidence</th>\n",
       "      <th>Initial_score</th>\n",
       "      <th>Lambda</th>\n",
       "      <th>Portion_of_weights</th>\n",
       "      <th>Retrain_epochs</th>\n",
       "      <th>Retrain_evidence</th>\n",
       "      <th>Retrain_score</th>\n",
       "      <th>Weights_number</th>\n",
       "    </tr>\n",
       "  </thead>\n",
       "  <tbody>\n",
       "    <tr>\n",
       "      <th>ld_0.05</th>\n",
       "      <td>0.10426310812710839</td>\n",
       "      <td>11247.10885508668</td>\n",
       "      <td>0.312359</td>\n",
       "      <td>0.05</td>\n",
       "      <td>0.869085</td>\n",
       "      <td>17.0</td>\n",
       "      <td>11153.477486</td>\n",
       "      <td>0.309475</td>\n",
       "      <td>4959</td>\n",
       "    </tr>\n",
       "    <tr>\n",
       "      <th>ld_0.1</th>\n",
       "      <td>0.11898946492159838</td>\n",
       "      <td>11198.142581174312</td>\n",
       "      <td>0.316386</td>\n",
       "      <td>0.10</td>\n",
       "      <td>0.741851</td>\n",
       "      <td>19.0</td>\n",
       "      <td>11081.716598</td>\n",
       "      <td>0.313610</td>\n",
       "      <td>4233</td>\n",
       "    </tr>\n",
       "    <tr>\n",
       "      <th>ld_0.2</th>\n",
       "      <td>0.15672895949851953</td>\n",
       "      <td>11117.204180739112</td>\n",
       "      <td>0.311441</td>\n",
       "      <td>0.20</td>\n",
       "      <td>0.529267</td>\n",
       "      <td>31.0</td>\n",
       "      <td>10989.129224</td>\n",
       "      <td>0.301260</td>\n",
       "      <td>3020</td>\n",
       "    </tr>\n",
       "    <tr>\n",
       "      <th>ld_0.4</th>\n",
       "      <td>0.2611439228841225</td>\n",
       "      <td>11190.85201303608</td>\n",
       "      <td>0.299815</td>\n",
       "      <td>0.40</td>\n",
       "      <td>0.252015</td>\n",
       "      <td>29.0</td>\n",
       "      <td>10757.050763</td>\n",
       "      <td>0.302638</td>\n",
       "      <td>1438</td>\n",
       "    </tr>\n",
       "    <tr>\n",
       "      <th>ld_0.6</th>\n",
       "      <td>0.4534619466277983</td>\n",
       "      <td>11628.73157463511</td>\n",
       "      <td>0.301383</td>\n",
       "      <td>0.60</td>\n",
       "      <td>0.120049</td>\n",
       "      <td>48.0</td>\n",
       "      <td>10662.448637</td>\n",
       "      <td>0.297071</td>\n",
       "      <td>685</td>\n",
       "    </tr>\n",
       "    <tr>\n",
       "      <th>ld_0.8</th>\n",
       "      <td>0.7675926144827907</td>\n",
       "      <td>11947.62487665054</td>\n",
       "      <td>0.259550</td>\n",
       "      <td>0.80</td>\n",
       "      <td>0.055030</td>\n",
       "      <td>68.0</td>\n",
       "      <td>10725.089122</td>\n",
       "      <td>0.288001</td>\n",
       "      <td>314</td>\n",
       "    </tr>\n",
       "    <tr>\n",
       "      <th>ld_1</th>\n",
       "      <td>0.9991187176092182</td>\n",
       "      <td>12096.577760435905</td>\n",
       "      <td>0.263091</td>\n",
       "      <td>1.00</td>\n",
       "      <td>0.031370</td>\n",
       "      <td>83.0</td>\n",
       "      <td>10857.717457</td>\n",
       "      <td>0.287336</td>\n",
       "      <td>179</td>\n",
       "    </tr>\n",
       "    <tr>\n",
       "      <th>ld_1.2</th>\n",
       "      <td>1.1134207495257689</td>\n",
       "      <td>12199.959316229493</td>\n",
       "      <td>0.218471</td>\n",
       "      <td>1.20</td>\n",
       "      <td>0.015422</td>\n",
       "      <td>53.0</td>\n",
       "      <td>11501.228703</td>\n",
       "      <td>0.211079</td>\n",
       "      <td>88</td>\n",
       "    </tr>\n",
       "    <tr>\n",
       "      <th>ld_1.4</th>\n",
       "      <td>1.2291688102281926</td>\n",
       "      <td>12267.682885162687</td>\n",
       "      <td>0.217990</td>\n",
       "      <td>1.40</td>\n",
       "      <td>0.009639</td>\n",
       "      <td>54.0</td>\n",
       "      <td>11625.466979</td>\n",
       "      <td>0.195832</td>\n",
       "      <td>55</td>\n",
       "    </tr>\n",
       "    <tr>\n",
       "      <th>unprunned</th>\n",
       "      <td>0.0813770663371188</td>\n",
       "      <td>11243.4</td>\n",
       "      <td>0.311083</td>\n",
       "      <td>0.00</td>\n",
       "      <td>1.000000</td>\n",
       "      <td>0.0</td>\n",
       "      <td>11243.400000</td>\n",
       "      <td>0.311083</td>\n",
       "      <td>5706</td>\n",
       "    </tr>\n",
       "  </tbody>\n",
       "</table>\n",
       "</div>"
      ],
      "text/plain": [
       "                   Bits/weight    Initial_evidence  Initial_score  Lambda  \\\n",
       "ld_0.05    0.10426310812710839   11247.10885508668       0.312359    0.05   \n",
       "ld_0.1     0.11898946492159838  11198.142581174312       0.316386    0.10   \n",
       "ld_0.2     0.15672895949851953  11117.204180739112       0.311441    0.20   \n",
       "ld_0.4      0.2611439228841225   11190.85201303608       0.299815    0.40   \n",
       "ld_0.6      0.4534619466277983   11628.73157463511       0.301383    0.60   \n",
       "ld_0.8      0.7675926144827907   11947.62487665054       0.259550    0.80   \n",
       "ld_1        0.9991187176092182  12096.577760435905       0.263091    1.00   \n",
       "ld_1.2      1.1134207495257689  12199.959316229493       0.218471    1.20   \n",
       "ld_1.4      1.2291688102281926  12267.682885162687       0.217990    1.40   \n",
       "unprunned   0.0813770663371188             11243.4       0.311083    0.00   \n",
       "\n",
       "           Portion_of_weights  Retrain_epochs  Retrain_evidence  \\\n",
       "ld_0.05              0.869085            17.0      11153.477486   \n",
       "ld_0.1               0.741851            19.0      11081.716598   \n",
       "ld_0.2               0.529267            31.0      10989.129224   \n",
       "ld_0.4               0.252015            29.0      10757.050763   \n",
       "ld_0.6               0.120049            48.0      10662.448637   \n",
       "ld_0.8               0.055030            68.0      10725.089122   \n",
       "ld_1                 0.031370            83.0      10857.717457   \n",
       "ld_1.2               0.015422            53.0      11501.228703   \n",
       "ld_1.4               0.009639            54.0      11625.466979   \n",
       "unprunned            1.000000             0.0      11243.400000   \n",
       "\n",
       "           Retrain_score Weights_number  \n",
       "ld_0.05         0.309475           4959  \n",
       "ld_0.1          0.313610           4233  \n",
       "ld_0.2          0.301260           3020  \n",
       "ld_0.4          0.302638           1438  \n",
       "ld_0.6          0.297071            685  \n",
       "ld_0.8          0.288001            314  \n",
       "ld_1            0.287336            179  \n",
       "ld_1.2          0.211079             88  \n",
       "ld_1.4          0.195832             55  \n",
       "unprunned       0.311083           5706  "
      ]
     },
     "execution_count": 86,
     "metadata": {},
     "output_type": "execute_result"
    }
   ],
   "source": [
    "result_df.append(unprunned_result)"
   ]
  },
  {
   "cell_type": "code",
   "execution_count": 104,
   "metadata": {
    "collapsed": false,
    "scrolled": true
   },
   "outputs": [
    {
     "data": {
      "text/html": [
       "<div>\n",
       "<table border=\"1\" class=\"dataframe\">\n",
       "  <thead>\n",
       "    <tr style=\"text-align: right;\">\n",
       "      <th></th>\n",
       "      <th>Lambda</th>\n",
       "      <th>Weights_number</th>\n",
       "      <th>Portion_of_weights</th>\n",
       "      <th>Initial_evidence</th>\n",
       "      <th>Retrain_evidence</th>\n",
       "      <th>Initial_score</th>\n",
       "      <th>Retrain_score</th>\n",
       "      <th>Retrain_epochs</th>\n",
       "      <th>Bits/weight</th>\n",
       "    </tr>\n",
       "  </thead>\n",
       "  <tbody>\n",
       "    <tr>\n",
       "      <th>unprunned</th>\n",
       "      <td>0.00</td>\n",
       "      <td>5706</td>\n",
       "      <td>1.000000</td>\n",
       "      <td>11243.4</td>\n",
       "      <td>11243.400000</td>\n",
       "      <td>0.311083</td>\n",
       "      <td>0.311083</td>\n",
       "      <td>0.0</td>\n",
       "      <td>0.0813770663371188</td>\n",
       "    </tr>\n",
       "    <tr>\n",
       "      <th>ld_0.05</th>\n",
       "      <td>0.05</td>\n",
       "      <td>4959</td>\n",
       "      <td>0.869085</td>\n",
       "      <td>11247.10885508668</td>\n",
       "      <td>11153.477486</td>\n",
       "      <td>0.312359</td>\n",
       "      <td>0.309475</td>\n",
       "      <td>17.0</td>\n",
       "      <td>0.10426310812710839</td>\n",
       "    </tr>\n",
       "    <tr>\n",
       "      <th>ld_0.1</th>\n",
       "      <td>0.10</td>\n",
       "      <td>4233</td>\n",
       "      <td>0.741851</td>\n",
       "      <td>11198.142581174312</td>\n",
       "      <td>11081.716598</td>\n",
       "      <td>0.316386</td>\n",
       "      <td>0.313610</td>\n",
       "      <td>19.0</td>\n",
       "      <td>0.11898946492159838</td>\n",
       "    </tr>\n",
       "    <tr>\n",
       "      <th>ld_0.2</th>\n",
       "      <td>0.20</td>\n",
       "      <td>3020</td>\n",
       "      <td>0.529267</td>\n",
       "      <td>11117.204180739112</td>\n",
       "      <td>10989.129224</td>\n",
       "      <td>0.311441</td>\n",
       "      <td>0.301260</td>\n",
       "      <td>31.0</td>\n",
       "      <td>0.15672895949851953</td>\n",
       "    </tr>\n",
       "    <tr>\n",
       "      <th>ld_0.4</th>\n",
       "      <td>0.40</td>\n",
       "      <td>1438</td>\n",
       "      <td>0.252015</td>\n",
       "      <td>11190.85201303608</td>\n",
       "      <td>10757.050763</td>\n",
       "      <td>0.299815</td>\n",
       "      <td>0.302638</td>\n",
       "      <td>29.0</td>\n",
       "      <td>0.2611439228841225</td>\n",
       "    </tr>\n",
       "    <tr>\n",
       "      <th>ld_0.6</th>\n",
       "      <td>0.60</td>\n",
       "      <td>685</td>\n",
       "      <td>0.120049</td>\n",
       "      <td>11628.73157463511</td>\n",
       "      <td>10662.448637</td>\n",
       "      <td>0.301383</td>\n",
       "      <td>0.297071</td>\n",
       "      <td>48.0</td>\n",
       "      <td>0.4534619466277983</td>\n",
       "    </tr>\n",
       "    <tr>\n",
       "      <th>ld_0.8</th>\n",
       "      <td>0.80</td>\n",
       "      <td>314</td>\n",
       "      <td>0.055030</td>\n",
       "      <td>11947.62487665054</td>\n",
       "      <td>10725.089122</td>\n",
       "      <td>0.259550</td>\n",
       "      <td>0.288001</td>\n",
       "      <td>68.0</td>\n",
       "      <td>0.7675926144827907</td>\n",
       "    </tr>\n",
       "    <tr>\n",
       "      <th>ld_1</th>\n",
       "      <td>1.00</td>\n",
       "      <td>179</td>\n",
       "      <td>0.031370</td>\n",
       "      <td>12096.577760435905</td>\n",
       "      <td>10857.717457</td>\n",
       "      <td>0.263091</td>\n",
       "      <td>0.287336</td>\n",
       "      <td>83.0</td>\n",
       "      <td>0.9991187176092182</td>\n",
       "    </tr>\n",
       "    <tr>\n",
       "      <th>ld_1.2</th>\n",
       "      <td>1.20</td>\n",
       "      <td>88</td>\n",
       "      <td>0.015422</td>\n",
       "      <td>12199.959316229493</td>\n",
       "      <td>11501.228703</td>\n",
       "      <td>0.218471</td>\n",
       "      <td>0.211079</td>\n",
       "      <td>53.0</td>\n",
       "      <td>1.1134207495257689</td>\n",
       "    </tr>\n",
       "    <tr>\n",
       "      <th>ld_1.4</th>\n",
       "      <td>1.40</td>\n",
       "      <td>55</td>\n",
       "      <td>0.009639</td>\n",
       "      <td>12267.682885162687</td>\n",
       "      <td>11625.466979</td>\n",
       "      <td>0.217990</td>\n",
       "      <td>0.195832</td>\n",
       "      <td>54.0</td>\n",
       "      <td>1.2291688102281926</td>\n",
       "    </tr>\n",
       "  </tbody>\n",
       "</table>\n",
       "</div>"
      ],
      "text/plain": [
       "           Lambda Weights_number  Portion_of_weights    Initial_evidence  \\\n",
       "unprunned    0.00           5706            1.000000             11243.4   \n",
       "ld_0.05      0.05           4959            0.869085   11247.10885508668   \n",
       "ld_0.1       0.10           4233            0.741851  11198.142581174312   \n",
       "ld_0.2       0.20           3020            0.529267  11117.204180739112   \n",
       "ld_0.4       0.40           1438            0.252015   11190.85201303608   \n",
       "ld_0.6       0.60            685            0.120049   11628.73157463511   \n",
       "ld_0.8       0.80            314            0.055030   11947.62487665054   \n",
       "ld_1         1.00            179            0.031370  12096.577760435905   \n",
       "ld_1.2       1.20             88            0.015422  12199.959316229493   \n",
       "ld_1.4       1.40             55            0.009639  12267.682885162687   \n",
       "\n",
       "           Retrain_evidence  Initial_score  Retrain_score  Retrain_epochs  \\\n",
       "unprunned      11243.400000       0.311083       0.311083             0.0   \n",
       "ld_0.05        11153.477486       0.312359       0.309475            17.0   \n",
       "ld_0.1         11081.716598       0.316386       0.313610            19.0   \n",
       "ld_0.2         10989.129224       0.311441       0.301260            31.0   \n",
       "ld_0.4         10757.050763       0.299815       0.302638            29.0   \n",
       "ld_0.6         10662.448637       0.301383       0.297071            48.0   \n",
       "ld_0.8         10725.089122       0.259550       0.288001            68.0   \n",
       "ld_1           10857.717457       0.263091       0.287336            83.0   \n",
       "ld_1.2         11501.228703       0.218471       0.211079            53.0   \n",
       "ld_1.4         11625.466979       0.217990       0.195832            54.0   \n",
       "\n",
       "                   Bits/weight  \n",
       "unprunned   0.0813770663371188  \n",
       "ld_0.05    0.10426310812710839  \n",
       "ld_0.1     0.11898946492159838  \n",
       "ld_0.2     0.15672895949851953  \n",
       "ld_0.4      0.2611439228841225  \n",
       "ld_0.6      0.4534619466277983  \n",
       "ld_0.8      0.7675926144827907  \n",
       "ld_1        0.9991187176092182  \n",
       "ld_1.2      1.1134207495257689  \n",
       "ld_1.4      1.2291688102281926  "
      ]
     },
     "execution_count": 104,
     "metadata": {},
     "output_type": "execute_result"
    }
   ],
   "source": [
    "result_df[['Lambda','Weights_number','Portion_of_weights','Initial_evidence','Retrain_evidence','Initial_score',\n",
    "           'Retrain_score','Retrain_epochs','Bits/weight']]"
   ]
  },
  {
   "cell_type": "code",
   "execution_count": 99,
   "metadata": {
    "collapsed": false
   },
   "outputs": [],
   "source": [
    "r = pd.DataFrame([unprunned_result],columns=unprunned_result.index)\n",
    "t = pd.concat([r, result_df],axis=0)"
   ]
  },
  {
   "cell_type": "code",
   "execution_count": 102,
   "metadata": {
    "collapsed": true
   },
   "outputs": [],
   "source": [
    "result_df_copy = result_df"
   ]
  },
  {
   "cell_type": "code",
   "execution_count": 103,
   "metadata": {
    "collapsed": false
   },
   "outputs": [],
   "source": [
    "result_df = t.iloc[:-1,:]"
   ]
  },
  {
   "cell_type": "code",
   "execution_count": null,
   "metadata": {
    "collapsed": true
   },
   "outputs": [],
   "source": [
    "# import matplotlib as mpl\n",
    "# plt.style.use('seaborn-paper')\n",
    "# mpl.rcParams['lines.linewidth'] = 2\n",
    "# mpl.rcParams['figure.figsize'] = (12, 10.8)\n",
    "# # mpl.rcParams['axes.titlesize'] = 24\n",
    "# # mpl.rcParams['axes.labelsize'] = 24\n",
    "# mpl.rcParams['xtick.labelsize'] = 15\n",
    "# mpl.rcParams['ytick.labelsize'] = 15\n",
    "# mpl.rcParams['legend.fontsize'] = 18\n",
    "# # mpl.rcParams['savefig.transparent'] = False\n",
    "# mpl.rcParams['savefig.format'] = 'eps'\n",
    "# # mpl.rcParams['savefig.facecolor'] = 'White'\n",
    "# # mpl.rcParams['lines.markersize'] = 6\n",
    "# # mpl.rcParams['legend.fontsize'] = 24\n",
    "# # mpl.rcParams['legend.fontsize'] = 24\n",
    "# # mpl.rcParams['legend.fontsize'] = 24"
   ]
  },
  {
   "cell_type": "markdown",
   "metadata": {},
   "source": [
    "Смотрим, как изменилась ошибка:"
   ]
  },
  {
   "cell_type": "code",
   "execution_count": 105,
   "metadata": {
    "collapsed": false
   },
   "outputs": [
    {
     "data": {
      "image/png": "[encoded data removed]",
      "text/plain": [
       "<matplotlib.figure.Figure at 0x7f1471f15240>"
      ]
     },
     "metadata": {},
     "output_type": "display_data"
    }
   ],
   "source": [
    "fig, ax = plt.subplots()\n",
    "line_1, = ax.plot(result_df.loc[:,'Lambda'].values,result_df.loc[:,'Retrain_evidence'].values, marker='o')\n",
    "ax.legend(['Retrain_evidence'],loc='upper left')\n",
    "plt.savefig('Pictures/evidence_lambda_'+suffix)"
   ]
  },
  {
   "cell_type": "code",
   "execution_count": 106,
   "metadata": {
    "collapsed": false
   },
   "outputs": [
    {
     "data": {
      "image/png": "[encoded data removed]",
      "text/plain": [
       "<matplotlib.figure.Figure at 0x7f146aa9be80>"
      ]
     },
     "metadata": {},
     "output_type": "display_data"
    }
   ],
   "source": [
    "fig, ax = plt.subplots()\n",
    "line_1, = ax.plot(result_df.loc[:,'Lambda'].values,result_df.loc[:,'Initial_score'].values, marker='o')\n",
    "line_2, = ax.plot(result_df.loc[:,'Lambda'].values,result_df.loc[:,'Retrain_score'].values, marker='o')\n",
    "ax.legend(['Initial_score','Retrain_score'])\n",
    "plt.savefig('Pictures/lambda_'+suffix)"
   ]
  },
  {
   "cell_type": "markdown",
   "metadata": {},
   "source": [
    "score(доля оставшихся весов)"
   ]
  },
  {
   "cell_type": "code",
   "execution_count": 107,
   "metadata": {
    "collapsed": false,
    "scrolled": false
   },
   "outputs": [
    {
     "data": {
      "image/png": "[encoded data removed]",
      "text/plain": [
       "<matplotlib.figure.Figure at 0x7f146ab17710>"
      ]
     },
     "metadata": {},
     "output_type": "display_data"
    }
   ],
   "source": [
    "fig, ax = plt.subplots()\n",
    "line_1, = ax.plot(1-result_df.loc[:,'Portion_of_weights'].values,result_df.loc[:,'Initial_score'].values,marker='o')\n",
    "line_2, = ax.plot(1-result_df.loc[:,'Portion_of_weights'].values,result_df.loc[:,'Retrain_score'].values,marker='o')\n",
    "ax.legend(['Initial_score','Retrain_score'],loc='lower left')\n",
    "plt.savefig('Pictures/portion_'+suffix)"
   ]
  },
  {
   "cell_type": "code",
   "execution_count": 108,
   "metadata": {
    "collapsed": false
   },
   "outputs": [
    {
     "data": {
      "image/png": "[encoded data removed]",
      "text/plain": [
       "<matplotlib.figure.Figure at 0x7f146ae2ca20>"
      ]
     },
     "metadata": {},
     "output_type": "display_data"
    }
   ],
   "source": [
    "fig, ax = plt.subplots()\n",
    "line_1, = ax.plot(result_df.loc[:,'Lambda'].values,result_df.loc[:,'Initial_evidence'].values, marker='o')\n",
    "line_2, = ax.plot(result_df.loc[:,'Lambda'].values,result_df.loc[:,'Retrain_evidence'].values, marker='o')\n",
    "ax.legend(['Initial_evidence','Retrain_evidence'],loc='upper left')\n",
    "plt.savefig('Pictures/pruning_evidence_'+suffix)"
   ]
  },
  {
   "cell_type": "markdown",
   "metadata": {},
   "source": [
    "Графики дообучения"
   ]
  },
  {
   "cell_type": "markdown",
   "metadata": {},
   "source": [
    "Итоговая таблица:"
   ]
  },
  {
   "cell_type": "code",
   "execution_count": 109,
   "metadata": {
    "collapsed": false
   },
   "outputs": [
    {
     "data": {
      "text/html": [
       "<div>\n",
       "<table border=\"1\" class=\"dataframe\">\n",
       "  <thead>\n",
       "    <tr style=\"text-align: right;\">\n",
       "      <th></th>\n",
       "      <th>Bits/weight</th>\n",
       "      <th>Initial_evidence</th>\n",
       "      <th>Initial_score</th>\n",
       "      <th>Lambda</th>\n",
       "      <th>Portion_of_weights</th>\n",
       "      <th>Retrain_epochs</th>\n",
       "      <th>Retrain_evidence</th>\n",
       "      <th>Retrain_score</th>\n",
       "      <th>Weights_number</th>\n",
       "    </tr>\n",
       "  </thead>\n",
       "  <tbody>\n",
       "    <tr>\n",
       "      <th>unprunned</th>\n",
       "      <td>0.0813770663371188</td>\n",
       "      <td>11243.4</td>\n",
       "      <td>0.311083</td>\n",
       "      <td>0.00</td>\n",
       "      <td>1.000000</td>\n",
       "      <td>0.0</td>\n",
       "      <td>11243.400000</td>\n",
       "      <td>0.311083</td>\n",
       "      <td>5706</td>\n",
       "    </tr>\n",
       "    <tr>\n",
       "      <th>ld_0.05</th>\n",
       "      <td>0.10426310812710839</td>\n",
       "      <td>11247.10885508668</td>\n",
       "      <td>0.312359</td>\n",
       "      <td>0.05</td>\n",
       "      <td>0.869085</td>\n",
       "      <td>17.0</td>\n",
       "      <td>11153.477486</td>\n",
       "      <td>0.309475</td>\n",
       "      <td>4959</td>\n",
       "    </tr>\n",
       "    <tr>\n",
       "      <th>ld_0.1</th>\n",
       "      <td>0.11898946492159838</td>\n",
       "      <td>11198.142581174312</td>\n",
       "      <td>0.316386</td>\n",
       "      <td>0.10</td>\n",
       "      <td>0.741851</td>\n",
       "      <td>19.0</td>\n",
       "      <td>11081.716598</td>\n",
       "      <td>0.313610</td>\n",
       "      <td>4233</td>\n",
       "    </tr>\n",
       "    <tr>\n",
       "      <th>ld_0.2</th>\n",
       "      <td>0.15672895949851953</td>\n",
       "      <td>11117.204180739112</td>\n",
       "      <td>0.311441</td>\n",
       "      <td>0.20</td>\n",
       "      <td>0.529267</td>\n",
       "      <td>31.0</td>\n",
       "      <td>10989.129224</td>\n",
       "      <td>0.301260</td>\n",
       "      <td>3020</td>\n",
       "    </tr>\n",
       "    <tr>\n",
       "      <th>ld_0.4</th>\n",
       "      <td>0.2611439228841225</td>\n",
       "      <td>11190.85201303608</td>\n",
       "      <td>0.299815</td>\n",
       "      <td>0.40</td>\n",
       "      <td>0.252015</td>\n",
       "      <td>29.0</td>\n",
       "      <td>10757.050763</td>\n",
       "      <td>0.302638</td>\n",
       "      <td>1438</td>\n",
       "    </tr>\n",
       "    <tr>\n",
       "      <th>ld_0.6</th>\n",
       "      <td>0.4534619466277983</td>\n",
       "      <td>11628.73157463511</td>\n",
       "      <td>0.301383</td>\n",
       "      <td>0.60</td>\n",
       "      <td>0.120049</td>\n",
       "      <td>48.0</td>\n",
       "      <td>10662.448637</td>\n",
       "      <td>0.297071</td>\n",
       "      <td>685</td>\n",
       "    </tr>\n",
       "    <tr>\n",
       "      <th>ld_0.8</th>\n",
       "      <td>0.7675926144827907</td>\n",
       "      <td>11947.62487665054</td>\n",
       "      <td>0.259550</td>\n",
       "      <td>0.80</td>\n",
       "      <td>0.055030</td>\n",
       "      <td>68.0</td>\n",
       "      <td>10725.089122</td>\n",
       "      <td>0.288001</td>\n",
       "      <td>314</td>\n",
       "    </tr>\n",
       "    <tr>\n",
       "      <th>ld_1</th>\n",
       "      <td>0.9991187176092182</td>\n",
       "      <td>12096.577760435905</td>\n",
       "      <td>0.263091</td>\n",
       "      <td>1.00</td>\n",
       "      <td>0.031370</td>\n",
       "      <td>83.0</td>\n",
       "      <td>10857.717457</td>\n",
       "      <td>0.287336</td>\n",
       "      <td>179</td>\n",
       "    </tr>\n",
       "    <tr>\n",
       "      <th>ld_1.2</th>\n",
       "      <td>1.1134207495257689</td>\n",
       "      <td>12199.959316229493</td>\n",
       "      <td>0.218471</td>\n",
       "      <td>1.20</td>\n",
       "      <td>0.015422</td>\n",
       "      <td>53.0</td>\n",
       "      <td>11501.228703</td>\n",
       "      <td>0.211079</td>\n",
       "      <td>88</td>\n",
       "    </tr>\n",
       "    <tr>\n",
       "      <th>ld_1.4</th>\n",
       "      <td>1.2291688102281926</td>\n",
       "      <td>12267.682885162687</td>\n",
       "      <td>0.217990</td>\n",
       "      <td>1.40</td>\n",
       "      <td>0.009639</td>\n",
       "      <td>54.0</td>\n",
       "      <td>11625.466979</td>\n",
       "      <td>0.195832</td>\n",
       "      <td>55</td>\n",
       "    </tr>\n",
       "  </tbody>\n",
       "</table>\n",
       "</div>"
      ],
      "text/plain": [
       "                   Bits/weight    Initial_evidence  Initial_score  Lambda  \\\n",
       "unprunned   0.0813770663371188             11243.4       0.311083    0.00   \n",
       "ld_0.05    0.10426310812710839   11247.10885508668       0.312359    0.05   \n",
       "ld_0.1     0.11898946492159838  11198.142581174312       0.316386    0.10   \n",
       "ld_0.2     0.15672895949851953  11117.204180739112       0.311441    0.20   \n",
       "ld_0.4      0.2611439228841225   11190.85201303608       0.299815    0.40   \n",
       "ld_0.6      0.4534619466277983   11628.73157463511       0.301383    0.60   \n",
       "ld_0.8      0.7675926144827907   11947.62487665054       0.259550    0.80   \n",
       "ld_1        0.9991187176092182  12096.577760435905       0.263091    1.00   \n",
       "ld_1.2      1.1134207495257689  12199.959316229493       0.218471    1.20   \n",
       "ld_1.4      1.2291688102281926  12267.682885162687       0.217990    1.40   \n",
       "\n",
       "           Portion_of_weights  Retrain_epochs  Retrain_evidence  \\\n",
       "unprunned            1.000000             0.0      11243.400000   \n",
       "ld_0.05              0.869085            17.0      11153.477486   \n",
       "ld_0.1               0.741851            19.0      11081.716598   \n",
       "ld_0.2               0.529267            31.0      10989.129224   \n",
       "ld_0.4               0.252015            29.0      10757.050763   \n",
       "ld_0.6               0.120049            48.0      10662.448637   \n",
       "ld_0.8               0.055030            68.0      10725.089122   \n",
       "ld_1                 0.031370            83.0      10857.717457   \n",
       "ld_1.2               0.015422            53.0      11501.228703   \n",
       "ld_1.4               0.009639            54.0      11625.466979   \n",
       "\n",
       "           Retrain_score Weights_number  \n",
       "unprunned       0.311083           5706  \n",
       "ld_0.05         0.309475           4959  \n",
       "ld_0.1          0.313610           4233  \n",
       "ld_0.2          0.301260           3020  \n",
       "ld_0.4          0.302638           1438  \n",
       "ld_0.6          0.297071            685  \n",
       "ld_0.8          0.288001            314  \n",
       "ld_1            0.287336            179  \n",
       "ld_1.2          0.211079             88  \n",
       "ld_1.4          0.195832             55  "
      ]
     },
     "execution_count": 109,
     "metadata": {},
     "output_type": "execute_result"
    }
   ],
   "source": [
    "result_df"
   ]
  },
  {
   "cell_type": "code",
   "execution_count": 110,
   "metadata": {
    "collapsed": false
   },
   "outputs": [
    {
     "data": {
      "text/plain": [
       "2"
      ]
     },
     "execution_count": 110,
     "metadata": {},
     "output_type": "execute_result"
    }
   ],
   "source": [
    "n_iter"
   ]
  },
  {
   "cell_type": "code",
   "execution_count": 111,
   "metadata": {
    "collapsed": false
   },
   "outputs": [
    {
     "data": {
      "text/plain": [
       "['History/result_df_I_I_2']"
      ]
     },
     "execution_count": 111,
     "metadata": {},
     "output_type": "execute_result"
    }
   ],
   "source": [
    "joblib.dump(result_df, 'History/result_df_'+suffix+'_'+str(n_iter))"
   ]
  },
  {
   "cell_type": "code",
   "execution_count": null,
   "metadata": {
    "collapsed": false
   },
   "outputs": [],
   "source": [
    "joblib.dump(history_score_train_ld,'History/history_score_train_ld_'+suffix)\n",
    "joblib.dump(history_score_test_ld,'History/history_score_test_ld_'+suffix)\n",
    "joblib.dump(history_evidence_ld,'History/history_evidence_ld_'+suffix)"
   ]
  },
  {
   "cell_type": "markdown",
   "metadata": {},
   "source": [
    "Меняем значения весов и масок в самой нейросети:"
   ]
  },
  {
   "cell_type": "code",
   "execution_count": 61,
   "metadata": {
    "collapsed": true
   },
   "outputs": [],
   "source": [
    "result_df_0 = joblib.load('History/result_df_I_I_0')"
   ]
  },
  {
   "cell_type": "code",
   "execution_count": 62,
   "metadata": {
    "collapsed": true
   },
   "outputs": [
    {
     "data": {
      "text/html": [
       "<div>\n",
       "<table border=\"1\" class=\"dataframe\">\n",
       "  <thead>\n",
       "    <tr style=\"text-align: right;\">\n",
       "      <th></th>\n",
       "      <th>Bits/weight</th>\n",
       "      <th>Initial_evidence</th>\n",
       "      <th>Initial_score</th>\n",
       "      <th>Lambda</th>\n",
       "      <th>Portion_of_weights</th>\n",
       "      <th>Retrain_epochs</th>\n",
       "      <th>Retrain_evidence</th>\n",
       "      <th>Retrain_score</th>\n",
       "      <th>Weights_number</th>\n",
       "    </tr>\n",
       "  </thead>\n",
       "  <tbody>\n",
       "    <tr>\n",
       "      <th>unprunned</th>\n",
       "      <td>0.08137707785343024</td>\n",
       "      <td>11243.4</td>\n",
       "      <td>0.311083</td>\n",
       "      <td>0.00</td>\n",
       "      <td>1.000000</td>\n",
       "      <td>0.0</td>\n",
       "      <td>11243.441719</td>\n",
       "      <td>0.311083</td>\n",
       "      <td>5706</td>\n",
       "    </tr>\n",
       "    <tr>\n",
       "      <th>ld_0.05</th>\n",
       "      <td>0.10116491931241334</td>\n",
       "      <td>11275.313394877327</td>\n",
       "      <td>0.312359</td>\n",
       "      <td>0.05</td>\n",
       "      <td>0.869085</td>\n",
       "      <td>20.0</td>\n",
       "      <td>11164.474311</td>\n",
       "      <td>0.303050</td>\n",
       "      <td>4959</td>\n",
       "    </tr>\n",
       "    <tr>\n",
       "      <th>ld_0.1</th>\n",
       "      <td>0.11393680156036659</td>\n",
       "      <td>11157.968454027792</td>\n",
       "      <td>0.316386</td>\n",
       "      <td>0.10</td>\n",
       "      <td>0.741851</td>\n",
       "      <td>21.0</td>\n",
       "      <td>11098.656124</td>\n",
       "      <td>0.311218</td>\n",
       "      <td>4233</td>\n",
       "    </tr>\n",
       "    <tr>\n",
       "      <th>ld_0.2</th>\n",
       "      <td>0.15526049598069577</td>\n",
       "      <td>11133.284408365485</td>\n",
       "      <td>0.311441</td>\n",
       "      <td>0.20</td>\n",
       "      <td>0.529267</td>\n",
       "      <td>30.0</td>\n",
       "      <td>10978.149273</td>\n",
       "      <td>0.305569</td>\n",
       "      <td>3020</td>\n",
       "    </tr>\n",
       "    <tr>\n",
       "      <th>ld_0.4</th>\n",
       "      <td>0.2711071853520595</td>\n",
       "      <td>11235.403167750763</td>\n",
       "      <td>0.299815</td>\n",
       "      <td>0.40</td>\n",
       "      <td>0.252015</td>\n",
       "      <td>31.0</td>\n",
       "      <td>10734.196110</td>\n",
       "      <td>0.303715</td>\n",
       "      <td>1438</td>\n",
       "    </tr>\n",
       "    <tr>\n",
       "      <th>ld_0.6</th>\n",
       "      <td>0.482307170962164</td>\n",
       "      <td>11625.486214370509</td>\n",
       "      <td>0.301383</td>\n",
       "      <td>0.60</td>\n",
       "      <td>0.120049</td>\n",
       "      <td>41.0</td>\n",
       "      <td>10666.833193</td>\n",
       "      <td>0.298439</td>\n",
       "      <td>685</td>\n",
       "    </tr>\n",
       "    <tr>\n",
       "      <th>ld_0.8</th>\n",
       "      <td>0.8379430564740786</td>\n",
       "      <td>11943.28684182018</td>\n",
       "      <td>0.259550</td>\n",
       "      <td>0.80</td>\n",
       "      <td>0.055030</td>\n",
       "      <td>72.0</td>\n",
       "      <td>10654.588660</td>\n",
       "      <td>0.286250</td>\n",
       "      <td>314</td>\n",
       "    </tr>\n",
       "    <tr>\n",
       "      <th>ld_1</th>\n",
       "      <td>1.046193743129084</td>\n",
       "      <td>12094.828747914189</td>\n",
       "      <td>0.263091</td>\n",
       "      <td>1.00</td>\n",
       "      <td>0.031370</td>\n",
       "      <td>67.0</td>\n",
       "      <td>10825.455566</td>\n",
       "      <td>0.288488</td>\n",
       "      <td>179</td>\n",
       "    </tr>\n",
       "    <tr>\n",
       "      <th>ld_1.2</th>\n",
       "      <td>1.1634663719985823</td>\n",
       "      <td>12205.804134878299</td>\n",
       "      <td>0.218471</td>\n",
       "      <td>1.20</td>\n",
       "      <td>0.015422</td>\n",
       "      <td>47.0</td>\n",
       "      <td>11466.177345</td>\n",
       "      <td>0.220006</td>\n",
       "      <td>88</td>\n",
       "    </tr>\n",
       "    <tr>\n",
       "      <th>ld_1.4</th>\n",
       "      <td>1.2919579510474035</td>\n",
       "      <td>12264.473398201942</td>\n",
       "      <td>0.217990</td>\n",
       "      <td>1.40</td>\n",
       "      <td>0.009639</td>\n",
       "      <td>47.0</td>\n",
       "      <td>11581.732318</td>\n",
       "      <td>0.196657</td>\n",
       "      <td>55</td>\n",
       "    </tr>\n",
       "  </tbody>\n",
       "</table>\n",
       "</div>"
      ],
      "text/plain": [
       "                   Bits/weight    Initial_evidence  Initial_score  Lambda  \\\n",
       "unprunned  0.08137707785343024             11243.4       0.311083    0.00   \n",
       "ld_0.05    0.10116491931241334  11275.313394877327       0.312359    0.05   \n",
       "ld_0.1     0.11393680156036659  11157.968454027792       0.316386    0.10   \n",
       "ld_0.2     0.15526049598069577  11133.284408365485       0.311441    0.20   \n",
       "ld_0.4      0.2711071853520595  11235.403167750763       0.299815    0.40   \n",
       "ld_0.6       0.482307170962164  11625.486214370509       0.301383    0.60   \n",
       "ld_0.8      0.8379430564740786   11943.28684182018       0.259550    0.80   \n",
       "ld_1         1.046193743129084  12094.828747914189       0.263091    1.00   \n",
       "ld_1.2      1.1634663719985823  12205.804134878299       0.218471    1.20   \n",
       "ld_1.4      1.2919579510474035  12264.473398201942       0.217990    1.40   \n",
       "\n",
       "           Portion_of_weights  Retrain_epochs  Retrain_evidence  \\\n",
       "unprunned            1.000000             0.0      11243.441719   \n",
       "ld_0.05              0.869085            20.0      11164.474311   \n",
       "ld_0.1               0.741851            21.0      11098.656124   \n",
       "ld_0.2               0.529267            30.0      10978.149273   \n",
       "ld_0.4               0.252015            31.0      10734.196110   \n",
       "ld_0.6               0.120049            41.0      10666.833193   \n",
       "ld_0.8               0.055030            72.0      10654.588660   \n",
       "ld_1                 0.031370            67.0      10825.455566   \n",
       "ld_1.2               0.015422            47.0      11466.177345   \n",
       "ld_1.4               0.009639            47.0      11581.732318   \n",
       "\n",
       "           Retrain_score Weights_number  \n",
       "unprunned       0.311083           5706  \n",
       "ld_0.05         0.303050           4959  \n",
       "ld_0.1          0.311218           4233  \n",
       "ld_0.2          0.305569           3020  \n",
       "ld_0.4          0.303715           1438  \n",
       "ld_0.6          0.298439            685  \n",
       "ld_0.8          0.286250            314  \n",
       "ld_1            0.288488            179  \n",
       "ld_1.2          0.220006             88  \n",
       "ld_1.4          0.196657             55  "
      ]
     },
     "execution_count": 62,
     "metadata": {},
     "output_type": "execute_result"
    }
   ],
   "source": [
    "result_df_0"
   ]
  },
  {
   "cell_type": "code",
   "execution_count": 63,
   "metadata": {
    "collapsed": true
   },
   "outputs": [],
   "source": [
    "result_df_1 = joblib.load('History/result_df_I_I_1')"
   ]
  },
  {
   "cell_type": "code",
   "execution_count": 64,
   "metadata": {
    "collapsed": true
   },
   "outputs": [
    {
     "data": {
      "text/html": [
       "<div>\n",
       "<table border=\"1\" class=\"dataframe\">\n",
       "  <thead>\n",
       "    <tr style=\"text-align: right;\">\n",
       "      <th></th>\n",
       "      <th>Bits/weight</th>\n",
       "      <th>Initial_evidence</th>\n",
       "      <th>Initial_score</th>\n",
       "      <th>Lambda</th>\n",
       "      <th>Portion_of_weights</th>\n",
       "      <th>Retrain_epochs</th>\n",
       "      <th>Retrain_evidence</th>\n",
       "      <th>Retrain_score</th>\n",
       "      <th>Weights_number</th>\n",
       "    </tr>\n",
       "  </thead>\n",
       "  <tbody>\n",
       "    <tr>\n",
       "      <th>unprunned</th>\n",
       "      <td>0.0813770663371188</td>\n",
       "      <td>11243.4</td>\n",
       "      <td>0.311083</td>\n",
       "      <td>0.00</td>\n",
       "      <td>1.000000</td>\n",
       "      <td>0.0</td>\n",
       "      <td>11243.400000</td>\n",
       "      <td>0.311083</td>\n",
       "      <td>5706</td>\n",
       "    </tr>\n",
       "    <tr>\n",
       "      <th>ld_0.05</th>\n",
       "      <td>0.11522769265981186</td>\n",
       "      <td>11234.872965189827</td>\n",
       "      <td>0.312359</td>\n",
       "      <td>0.05</td>\n",
       "      <td>0.869085</td>\n",
       "      <td>34.0</td>\n",
       "      <td>11130.736317</td>\n",
       "      <td>0.290965</td>\n",
       "      <td>4959</td>\n",
       "    </tr>\n",
       "    <tr>\n",
       "      <th>ld_0.1</th>\n",
       "      <td>0.12527263244861703</td>\n",
       "      <td>11165.953795665728</td>\n",
       "      <td>0.316386</td>\n",
       "      <td>0.10</td>\n",
       "      <td>0.741851</td>\n",
       "      <td>33.0</td>\n",
       "      <td>11026.583894</td>\n",
       "      <td>0.303372</td>\n",
       "      <td>4233</td>\n",
       "    </tr>\n",
       "    <tr>\n",
       "      <th>ld_0.2</th>\n",
       "      <td>0.15710874198584973</td>\n",
       "      <td>11080.851845407344</td>\n",
       "      <td>0.311441</td>\n",
       "      <td>0.20</td>\n",
       "      <td>0.529267</td>\n",
       "      <td>15.0</td>\n",
       "      <td>10983.873818</td>\n",
       "      <td>0.305307</td>\n",
       "      <td>3020</td>\n",
       "    </tr>\n",
       "    <tr>\n",
       "      <th>ld_0.4</th>\n",
       "      <td>0.26053066040944367</td>\n",
       "      <td>11236.81732095721</td>\n",
       "      <td>0.299815</td>\n",
       "      <td>0.40</td>\n",
       "      <td>0.252015</td>\n",
       "      <td>27.0</td>\n",
       "      <td>10743.243430</td>\n",
       "      <td>0.301082</td>\n",
       "      <td>1438</td>\n",
       "    </tr>\n",
       "    <tr>\n",
       "      <th>ld_0.6</th>\n",
       "      <td>0.46070309993054137</td>\n",
       "      <td>11625.746546322462</td>\n",
       "      <td>0.301383</td>\n",
       "      <td>0.60</td>\n",
       "      <td>0.120049</td>\n",
       "      <td>44.0</td>\n",
       "      <td>10629.712943</td>\n",
       "      <td>0.297023</td>\n",
       "      <td>685</td>\n",
       "    </tr>\n",
       "    <tr>\n",
       "      <th>ld_0.8</th>\n",
       "      <td>0.8074586496235874</td>\n",
       "      <td>11941.598135122258</td>\n",
       "      <td>0.259550</td>\n",
       "      <td>0.80</td>\n",
       "      <td>0.055030</td>\n",
       "      <td>74.0</td>\n",
       "      <td>10619.624967</td>\n",
       "      <td>0.283315</td>\n",
       "      <td>314</td>\n",
       "    </tr>\n",
       "    <tr>\n",
       "      <th>ld_1</th>\n",
       "      <td>1.0443123662877825</td>\n",
       "      <td>12094.603248513551</td>\n",
       "      <td>0.263091</td>\n",
       "      <td>1.00</td>\n",
       "      <td>0.031370</td>\n",
       "      <td>89.0</td>\n",
       "      <td>10742.457999</td>\n",
       "      <td>0.281738</td>\n",
       "      <td>179</td>\n",
       "    </tr>\n",
       "    <tr>\n",
       "      <th>ld_1.2</th>\n",
       "      <td>1.1906252619192883</td>\n",
       "      <td>12201.82723717091</td>\n",
       "      <td>0.218471</td>\n",
       "      <td>1.20</td>\n",
       "      <td>0.015422</td>\n",
       "      <td>63.0</td>\n",
       "      <td>11415.215264</td>\n",
       "      <td>0.229758</td>\n",
       "      <td>88</td>\n",
       "    </tr>\n",
       "    <tr>\n",
       "      <th>ld_1.4</th>\n",
       "      <td>1.340725241575777</td>\n",
       "      <td>12268.052172607175</td>\n",
       "      <td>0.217990</td>\n",
       "      <td>1.40</td>\n",
       "      <td>0.009639</td>\n",
       "      <td>59.0</td>\n",
       "      <td>11532.147535</td>\n",
       "      <td>0.197551</td>\n",
       "      <td>55</td>\n",
       "    </tr>\n",
       "  </tbody>\n",
       "</table>\n",
       "</div>"
      ],
      "text/plain": [
       "                   Bits/weight    Initial_evidence  Initial_score  Lambda  \\\n",
       "unprunned   0.0813770663371188             11243.4       0.311083    0.00   \n",
       "ld_0.05    0.11522769265981186  11234.872965189827       0.312359    0.05   \n",
       "ld_0.1     0.12527263244861703  11165.953795665728       0.316386    0.10   \n",
       "ld_0.2     0.15710874198584973  11080.851845407344       0.311441    0.20   \n",
       "ld_0.4     0.26053066040944367   11236.81732095721       0.299815    0.40   \n",
       "ld_0.6     0.46070309993054137  11625.746546322462       0.301383    0.60   \n",
       "ld_0.8      0.8074586496235874  11941.598135122258       0.259550    0.80   \n",
       "ld_1        1.0443123662877825  12094.603248513551       0.263091    1.00   \n",
       "ld_1.2      1.1906252619192883   12201.82723717091       0.218471    1.20   \n",
       "ld_1.4       1.340725241575777  12268.052172607175       0.217990    1.40   \n",
       "\n",
       "           Portion_of_weights  Retrain_epochs  Retrain_evidence  \\\n",
       "unprunned            1.000000             0.0      11243.400000   \n",
       "ld_0.05              0.869085            34.0      11130.736317   \n",
       "ld_0.1               0.741851            33.0      11026.583894   \n",
       "ld_0.2               0.529267            15.0      10983.873818   \n",
       "ld_0.4               0.252015            27.0      10743.243430   \n",
       "ld_0.6               0.120049            44.0      10629.712943   \n",
       "ld_0.8               0.055030            74.0      10619.624967   \n",
       "ld_1                 0.031370            89.0      10742.457999   \n",
       "ld_1.2               0.015422            63.0      11415.215264   \n",
       "ld_1.4               0.009639            59.0      11532.147535   \n",
       "\n",
       "           Retrain_score Weights_number  \n",
       "unprunned       0.311083           5706  \n",
       "ld_0.05         0.290965           4959  \n",
       "ld_0.1          0.303372           4233  \n",
       "ld_0.2          0.305307           3020  \n",
       "ld_0.4          0.301082           1438  \n",
       "ld_0.6          0.297023            685  \n",
       "ld_0.8          0.283315            314  \n",
       "ld_1            0.281738            179  \n",
       "ld_1.2          0.229758             88  \n",
       "ld_1.4          0.197551             55  "
      ]
     },
     "execution_count": 64,
     "metadata": {},
     "output_type": "execute_result"
    }
   ],
   "source": [
    "result_df_1"
   ]
  },
  {
   "cell_type": "code",
   "execution_count": 112,
   "metadata": {
    "collapsed": true
   },
   "outputs": [],
   "source": [
    "result_df_2 = joblib.load('History/result_df_I_I_2')"
   ]
  },
  {
   "cell_type": "code",
   "execution_count": 116,
   "metadata": {
    "collapsed": true
   },
   "outputs": [
    {
     "data": {
      "text/html": [
       "<div>\n",
       "<table border=\"1\" class=\"dataframe\">\n",
       "  <thead>\n",
       "    <tr style=\"text-align: right;\">\n",
       "      <th></th>\n",
       "      <th>Bits/weight</th>\n",
       "      <th>Initial_evidence</th>\n",
       "      <th>Initial_score</th>\n",
       "      <th>Lambda</th>\n",
       "      <th>Portion_of_weights</th>\n",
       "      <th>Retrain_epochs</th>\n",
       "      <th>Retrain_evidence</th>\n",
       "      <th>Retrain_score</th>\n",
       "      <th>Weights_number</th>\n",
       "    </tr>\n",
       "  </thead>\n",
       "  <tbody>\n",
       "    <tr>\n",
       "      <th>unprunned</th>\n",
       "      <td>0.0813770663371188</td>\n",
       "      <td>11243.4</td>\n",
       "      <td>0.311083</td>\n",
       "      <td>0.00</td>\n",
       "      <td>1.000000</td>\n",
       "      <td>0.0</td>\n",
       "      <td>11243.400000</td>\n",
       "      <td>0.311083</td>\n",
       "      <td>5706</td>\n",
       "    </tr>\n",
       "    <tr>\n",
       "      <th>ld_0.05</th>\n",
       "      <td>0.10426310812710839</td>\n",
       "      <td>11247.10885508668</td>\n",
       "      <td>0.312359</td>\n",
       "      <td>0.05</td>\n",
       "      <td>0.869085</td>\n",
       "      <td>17.0</td>\n",
       "      <td>11153.477486</td>\n",
       "      <td>0.309475</td>\n",
       "      <td>4959</td>\n",
       "    </tr>\n",
       "    <tr>\n",
       "      <th>ld_0.1</th>\n",
       "      <td>0.11898946492159838</td>\n",
       "      <td>11198.142581174312</td>\n",
       "      <td>0.316386</td>\n",
       "      <td>0.10</td>\n",
       "      <td>0.741851</td>\n",
       "      <td>19.0</td>\n",
       "      <td>11081.716598</td>\n",
       "      <td>0.313610</td>\n",
       "      <td>4233</td>\n",
       "    </tr>\n",
       "    <tr>\n",
       "      <th>ld_0.2</th>\n",
       "      <td>0.15672895949851953</td>\n",
       "      <td>11117.204180739112</td>\n",
       "      <td>0.311441</td>\n",
       "      <td>0.20</td>\n",
       "      <td>0.529267</td>\n",
       "      <td>31.0</td>\n",
       "      <td>10989.129224</td>\n",
       "      <td>0.301260</td>\n",
       "      <td>3020</td>\n",
       "    </tr>\n",
       "    <tr>\n",
       "      <th>ld_0.4</th>\n",
       "      <td>0.2611439228841225</td>\n",
       "      <td>11190.85201303608</td>\n",
       "      <td>0.299815</td>\n",
       "      <td>0.40</td>\n",
       "      <td>0.252015</td>\n",
       "      <td>29.0</td>\n",
       "      <td>10757.050763</td>\n",
       "      <td>0.302638</td>\n",
       "      <td>1438</td>\n",
       "    </tr>\n",
       "    <tr>\n",
       "      <th>ld_0.6</th>\n",
       "      <td>0.4534619466277983</td>\n",
       "      <td>11628.73157463511</td>\n",
       "      <td>0.301383</td>\n",
       "      <td>0.60</td>\n",
       "      <td>0.120049</td>\n",
       "      <td>48.0</td>\n",
       "      <td>10662.448637</td>\n",
       "      <td>0.297071</td>\n",
       "      <td>685</td>\n",
       "    </tr>\n",
       "    <tr>\n",
       "      <th>ld_0.8</th>\n",
       "      <td>0.7675926144827907</td>\n",
       "      <td>11947.62487665054</td>\n",
       "      <td>0.259550</td>\n",
       "      <td>0.80</td>\n",
       "      <td>0.055030</td>\n",
       "      <td>68.0</td>\n",
       "      <td>10725.089122</td>\n",
       "      <td>0.288001</td>\n",
       "      <td>314</td>\n",
       "    </tr>\n",
       "    <tr>\n",
       "      <th>ld_1</th>\n",
       "      <td>0.9991187176092182</td>\n",
       "      <td>12096.577760435905</td>\n",
       "      <td>0.263091</td>\n",
       "      <td>1.00</td>\n",
       "      <td>0.031370</td>\n",
       "      <td>83.0</td>\n",
       "      <td>10857.717457</td>\n",
       "      <td>0.287336</td>\n",
       "      <td>179</td>\n",
       "    </tr>\n",
       "    <tr>\n",
       "      <th>ld_1.2</th>\n",
       "      <td>1.1134207495257689</td>\n",
       "      <td>12199.959316229493</td>\n",
       "      <td>0.218471</td>\n",
       "      <td>1.20</td>\n",
       "      <td>0.015422</td>\n",
       "      <td>53.0</td>\n",
       "      <td>11501.228703</td>\n",
       "      <td>0.211079</td>\n",
       "      <td>88</td>\n",
       "    </tr>\n",
       "    <tr>\n",
       "      <th>ld_1.4</th>\n",
       "      <td>1.2291688102281926</td>\n",
       "      <td>12267.682885162687</td>\n",
       "      <td>0.217990</td>\n",
       "      <td>1.40</td>\n",
       "      <td>0.009639</td>\n",
       "      <td>54.0</td>\n",
       "      <td>11625.466979</td>\n",
       "      <td>0.195832</td>\n",
       "      <td>55</td>\n",
       "    </tr>\n",
       "  </tbody>\n",
       "</table>\n",
       "</div>"
      ],
      "text/plain": [
       "                   Bits/weight    Initial_evidence  Initial_score  Lambda  \\\n",
       "unprunned   0.0813770663371188             11243.4       0.311083    0.00   \n",
       "ld_0.05    0.10426310812710839   11247.10885508668       0.312359    0.05   \n",
       "ld_0.1     0.11898946492159838  11198.142581174312       0.316386    0.10   \n",
       "ld_0.2     0.15672895949851953  11117.204180739112       0.311441    0.20   \n",
       "ld_0.4      0.2611439228841225   11190.85201303608       0.299815    0.40   \n",
       "ld_0.6      0.4534619466277983   11628.73157463511       0.301383    0.60   \n",
       "ld_0.8      0.7675926144827907   11947.62487665054       0.259550    0.80   \n",
       "ld_1        0.9991187176092182  12096.577760435905       0.263091    1.00   \n",
       "ld_1.2      1.1134207495257689  12199.959316229493       0.218471    1.20   \n",
       "ld_1.4      1.2291688102281926  12267.682885162687       0.217990    1.40   \n",
       "\n",
       "           Portion_of_weights  Retrain_epochs  Retrain_evidence  \\\n",
       "unprunned            1.000000             0.0      11243.400000   \n",
       "ld_0.05              0.869085            17.0      11153.477486   \n",
       "ld_0.1               0.741851            19.0      11081.716598   \n",
       "ld_0.2               0.529267            31.0      10989.129224   \n",
       "ld_0.4               0.252015            29.0      10757.050763   \n",
       "ld_0.6               0.120049            48.0      10662.448637   \n",
       "ld_0.8               0.055030            68.0      10725.089122   \n",
       "ld_1                 0.031370            83.0      10857.717457   \n",
       "ld_1.2               0.015422            53.0      11501.228703   \n",
       "ld_1.4               0.009639            54.0      11625.466979   \n",
       "\n",
       "           Retrain_score Weights_number  \n",
       "unprunned       0.311083           5706  \n",
       "ld_0.05         0.309475           4959  \n",
       "ld_0.1          0.313610           4233  \n",
       "ld_0.2          0.301260           3020  \n",
       "ld_0.4          0.302638           1438  \n",
       "ld_0.6          0.297071            685  \n",
       "ld_0.8          0.288001            314  \n",
       "ld_1            0.287336            179  \n",
       "ld_1.2          0.211079             88  \n",
       "ld_1.4          0.195832             55  "
      ]
     },
     "execution_count": 116,
     "metadata": {},
     "output_type": "execute_result"
    }
   ],
   "source": [
    "result_df_2"
   ]
  },
  {
   "cell_type": "code",
   "execution_count": 127,
   "metadata": {
    "collapsed": false
   },
   "outputs": [],
   "source": [
    "result_df_all = pd.Panel({'df_0':result_df_0,'df_1':result_df_1,'df_2':result_df_2})"
   ]
  },
  {
   "cell_type": "code",
   "execution_count": 133,
   "metadata": {
    "collapsed": false
   },
   "outputs": [
    {
     "data": {
      "text/html": [
       "<div>\n",
       "<table border=\"1\" class=\"dataframe\">\n",
       "  <thead>\n",
       "    <tr style=\"text-align: right;\">\n",
       "      <th></th>\n",
       "      <th>Bits/weight</th>\n",
       "      <th>Initial_evidence</th>\n",
       "      <th>Initial_score</th>\n",
       "      <th>Lambda</th>\n",
       "      <th>Portion_of_weights</th>\n",
       "      <th>Retrain_epochs</th>\n",
       "      <th>Retrain_evidence</th>\n",
       "      <th>Retrain_score</th>\n",
       "      <th>Weights_number</th>\n",
       "    </tr>\n",
       "  </thead>\n",
       "  <tbody>\n",
       "    <tr>\n",
       "      <th>unprunned</th>\n",
       "      <td>0.081377</td>\n",
       "      <td>11243.413906</td>\n",
       "      <td>0.311083</td>\n",
       "      <td>0.00</td>\n",
       "      <td>1.000000</td>\n",
       "      <td>0.000000</td>\n",
       "      <td>11243.413906</td>\n",
       "      <td>0.311083</td>\n",
       "      <td>5706.0</td>\n",
       "    </tr>\n",
       "    <tr>\n",
       "      <th>ld_0.05</th>\n",
       "      <td>0.106885</td>\n",
       "      <td>11252.431738</td>\n",
       "      <td>0.312359</td>\n",
       "      <td>0.05</td>\n",
       "      <td>0.869085</td>\n",
       "      <td>23.666667</td>\n",
       "      <td>11149.562705</td>\n",
       "      <td>0.301163</td>\n",
       "      <td>4959.0</td>\n",
       "    </tr>\n",
       "    <tr>\n",
       "      <th>ld_0.1</th>\n",
       "      <td>0.119400</td>\n",
       "      <td>11174.021610</td>\n",
       "      <td>0.316386</td>\n",
       "      <td>0.10</td>\n",
       "      <td>0.741851</td>\n",
       "      <td>24.333333</td>\n",
       "      <td>11068.985539</td>\n",
       "      <td>0.309400</td>\n",
       "      <td>4233.0</td>\n",
       "    </tr>\n",
       "    <tr>\n",
       "      <th>ld_0.2</th>\n",
       "      <td>0.156366</td>\n",
       "      <td>11110.446812</td>\n",
       "      <td>0.311441</td>\n",
       "      <td>0.20</td>\n",
       "      <td>0.529267</td>\n",
       "      <td>25.333333</td>\n",
       "      <td>10983.717438</td>\n",
       "      <td>0.304045</td>\n",
       "      <td>3020.0</td>\n",
       "    </tr>\n",
       "    <tr>\n",
       "      <th>ld_0.4</th>\n",
       "      <td>0.264261</td>\n",
       "      <td>11221.024167</td>\n",
       "      <td>0.299815</td>\n",
       "      <td>0.40</td>\n",
       "      <td>0.252015</td>\n",
       "      <td>29.000000</td>\n",
       "      <td>10744.830101</td>\n",
       "      <td>0.302478</td>\n",
       "      <td>1438.0</td>\n",
       "    </tr>\n",
       "    <tr>\n",
       "      <th>ld_0.6</th>\n",
       "      <td>0.465491</td>\n",
       "      <td>11626.654778</td>\n",
       "      <td>0.301383</td>\n",
       "      <td>0.60</td>\n",
       "      <td>0.120049</td>\n",
       "      <td>44.333333</td>\n",
       "      <td>10652.998258</td>\n",
       "      <td>0.297511</td>\n",
       "      <td>685.0</td>\n",
       "    </tr>\n",
       "    <tr>\n",
       "      <th>ld_0.8</th>\n",
       "      <td>0.804331</td>\n",
       "      <td>11944.169951</td>\n",
       "      <td>0.259550</td>\n",
       "      <td>0.80</td>\n",
       "      <td>0.055030</td>\n",
       "      <td>71.333333</td>\n",
       "      <td>10666.434250</td>\n",
       "      <td>0.285855</td>\n",
       "      <td>314.0</td>\n",
       "    </tr>\n",
       "    <tr>\n",
       "      <th>ld_1</th>\n",
       "      <td>1.029875</td>\n",
       "      <td>12095.336586</td>\n",
       "      <td>0.263091</td>\n",
       "      <td>1.00</td>\n",
       "      <td>0.031370</td>\n",
       "      <td>79.666667</td>\n",
       "      <td>10808.543674</td>\n",
       "      <td>0.285854</td>\n",
       "      <td>179.0</td>\n",
       "    </tr>\n",
       "    <tr>\n",
       "      <th>ld_1.2</th>\n",
       "      <td>1.155837</td>\n",
       "      <td>12202.530229</td>\n",
       "      <td>0.218471</td>\n",
       "      <td>1.20</td>\n",
       "      <td>0.015422</td>\n",
       "      <td>54.333333</td>\n",
       "      <td>11460.873771</td>\n",
       "      <td>0.220281</td>\n",
       "      <td>88.0</td>\n",
       "    </tr>\n",
       "    <tr>\n",
       "      <th>ld_1.4</th>\n",
       "      <td>1.287284</td>\n",
       "      <td>12266.736152</td>\n",
       "      <td>0.217990</td>\n",
       "      <td>1.40</td>\n",
       "      <td>0.009639</td>\n",
       "      <td>53.333333</td>\n",
       "      <td>11579.782277</td>\n",
       "      <td>0.196680</td>\n",
       "      <td>55.0</td>\n",
       "    </tr>\n",
       "  </tbody>\n",
       "</table>\n",
       "</div>"
      ],
      "text/plain": [
       "           Bits/weight  Initial_evidence  Initial_score  Lambda  \\\n",
       "unprunned     0.081377      11243.413906       0.311083    0.00   \n",
       "ld_0.05       0.106885      11252.431738       0.312359    0.05   \n",
       "ld_0.1        0.119400      11174.021610       0.316386    0.10   \n",
       "ld_0.2        0.156366      11110.446812       0.311441    0.20   \n",
       "ld_0.4        0.264261      11221.024167       0.299815    0.40   \n",
       "ld_0.6        0.465491      11626.654778       0.301383    0.60   \n",
       "ld_0.8        0.804331      11944.169951       0.259550    0.80   \n",
       "ld_1          1.029875      12095.336586       0.263091    1.00   \n",
       "ld_1.2        1.155837      12202.530229       0.218471    1.20   \n",
       "ld_1.4        1.287284      12266.736152       0.217990    1.40   \n",
       "\n",
       "           Portion_of_weights  Retrain_epochs  Retrain_evidence  \\\n",
       "unprunned            1.000000        0.000000      11243.413906   \n",
       "ld_0.05              0.869085       23.666667      11149.562705   \n",
       "ld_0.1               0.741851       24.333333      11068.985539   \n",
       "ld_0.2               0.529267       25.333333      10983.717438   \n",
       "ld_0.4               0.252015       29.000000      10744.830101   \n",
       "ld_0.6               0.120049       44.333333      10652.998258   \n",
       "ld_0.8               0.055030       71.333333      10666.434250   \n",
       "ld_1                 0.031370       79.666667      10808.543674   \n",
       "ld_1.2               0.015422       54.333333      11460.873771   \n",
       "ld_1.4               0.009639       53.333333      11579.782277   \n",
       "\n",
       "           Retrain_score  Weights_number  \n",
       "unprunned       0.311083          5706.0  \n",
       "ld_0.05         0.301163          4959.0  \n",
       "ld_0.1          0.309400          4233.0  \n",
       "ld_0.2          0.304045          3020.0  \n",
       "ld_0.4          0.302478          1438.0  \n",
       "ld_0.6          0.297511           685.0  \n",
       "ld_0.8          0.285855           314.0  \n",
       "ld_1            0.285854           179.0  \n",
       "ld_1.2          0.220281            88.0  \n",
       "ld_1.4          0.196680            55.0  "
      ]
     },
     "execution_count": 133,
     "metadata": {},
     "output_type": "execute_result"
    }
   ],
   "source": [
    "result_df_all.mean(axis=0)"
   ]
  },
  {
   "cell_type": "code",
   "execution_count": 134,
   "metadata": {
    "collapsed": false
   },
   "outputs": [
    {
     "data": {
      "text/html": [
       "<div>\n",
       "<table border=\"1\" class=\"dataframe\">\n",
       "  <thead>\n",
       "    <tr style=\"text-align: right;\">\n",
       "      <th></th>\n",
       "      <th>Bits/weight</th>\n",
       "      <th>Initial_evidence</th>\n",
       "      <th>Initial_score</th>\n",
       "      <th>Lambda</th>\n",
       "      <th>Portion_of_weights</th>\n",
       "      <th>Retrain_epochs</th>\n",
       "      <th>Retrain_evidence</th>\n",
       "      <th>Retrain_score</th>\n",
       "      <th>Weights_number</th>\n",
       "    </tr>\n",
       "  </thead>\n",
       "  <tbody>\n",
       "    <tr>\n",
       "      <th>unprunned</th>\n",
       "      <td>6.648946e-09</td>\n",
       "      <td>0.024086</td>\n",
       "      <td>1.139385e-07</td>\n",
       "      <td>0.000000e+00</td>\n",
       "      <td>0.000000e+00</td>\n",
       "      <td>0.000000</td>\n",
       "      <td>0.024086</td>\n",
       "      <td>1.139385e-07</td>\n",
       "      <td>0.0</td>\n",
       "    </tr>\n",
       "    <tr>\n",
       "      <th>ld_0.05</th>\n",
       "      <td>7.388984e-03</td>\n",
       "      <td>20.739019</td>\n",
       "      <td>0.000000e+00</td>\n",
       "      <td>8.498375e-18</td>\n",
       "      <td>0.000000e+00</td>\n",
       "      <td>9.073772</td>\n",
       "      <td>17.206313</td>\n",
       "      <td>9.398052e-03</td>\n",
       "      <td>0.0</td>\n",
       "    </tr>\n",
       "    <tr>\n",
       "      <th>ld_0.1</th>\n",
       "      <td>5.679035e-03</td>\n",
       "      <td>21.267519</td>\n",
       "      <td>0.000000e+00</td>\n",
       "      <td>1.699675e-17</td>\n",
       "      <td>1.359740e-16</td>\n",
       "      <td>7.571878</td>\n",
       "      <td>37.685030</td>\n",
       "      <td>5.355812e-03</td>\n",
       "      <td>0.0</td>\n",
       "    </tr>\n",
       "    <tr>\n",
       "      <th>ld_0.2</th>\n",
       "      <td>9.761005e-04</td>\n",
       "      <td>26.861496</td>\n",
       "      <td>0.000000e+00</td>\n",
       "      <td>3.399350e-17</td>\n",
       "      <td>0.000000e+00</td>\n",
       "      <td>8.962886</td>\n",
       "      <td>5.491646</td>\n",
       "      <td>2.415536e-03</td>\n",
       "      <td>0.0</td>\n",
       "    </tr>\n",
       "    <tr>\n",
       "      <th>ld_0.4</th>\n",
       "      <td>5.937249e-03</td>\n",
       "      <td>26.139417</td>\n",
       "      <td>0.000000e+00</td>\n",
       "      <td>6.798700e-17</td>\n",
       "      <td>0.000000e+00</td>\n",
       "      <td>2.000000</td>\n",
       "      <td>11.509645</td>\n",
       "      <td>1.323312e-03</td>\n",
       "      <td>0.0</td>\n",
       "    </tr>\n",
       "    <tr>\n",
       "      <th>ld_0.6</th>\n",
       "      <td>1.500676e-02</td>\n",
       "      <td>1.803262</td>\n",
       "      <td>0.000000e+00</td>\n",
       "      <td>0.000000e+00</td>\n",
       "      <td>0.000000e+00</td>\n",
       "      <td>3.511885</td>\n",
       "      <td>20.284489</td>\n",
       "      <td>8.039066e-04</td>\n",
       "      <td>0.0</td>\n",
       "    </tr>\n",
       "    <tr>\n",
       "      <th>ld_0.8</th>\n",
       "      <td>3.527932e-02</td>\n",
       "      <td>3.108909</td>\n",
       "      <td>0.000000e+00</td>\n",
       "      <td>1.359740e-16</td>\n",
       "      <td>0.000000e+00</td>\n",
       "      <td>3.055050</td>\n",
       "      <td>53.720671</td>\n",
       "      <td>2.367564e-03</td>\n",
       "      <td>0.0</td>\n",
       "    </tr>\n",
       "    <tr>\n",
       "      <th>ld_1</th>\n",
       "      <td>2.665228e-02</td>\n",
       "      <td>1.080786</td>\n",
       "      <td>0.000000e+00</td>\n",
       "      <td>0.000000e+00</td>\n",
       "      <td>0.000000e+00</td>\n",
       "      <td>11.372481</td>\n",
       "      <td>59.461708</td>\n",
       "      <td>3.610515e-03</td>\n",
       "      <td>0.0</td>\n",
       "    </tr>\n",
       "    <tr>\n",
       "      <th>ld_1.2</th>\n",
       "      <td>3.916356e-02</td>\n",
       "      <td>2.985151</td>\n",
       "      <td>0.000000e+00</td>\n",
       "      <td>0.000000e+00</td>\n",
       "      <td>0.000000e+00</td>\n",
       "      <td>8.082904</td>\n",
       "      <td>43.251287</td>\n",
       "      <td>9.342190e-03</td>\n",
       "      <td>0.0</td>\n",
       "    </tr>\n",
       "    <tr>\n",
       "      <th>ld_1.4</th>\n",
       "      <td>5.592489e-02</td>\n",
       "      <td>1.968282</td>\n",
       "      <td>0.000000e+00</td>\n",
       "      <td>2.719480e-16</td>\n",
       "      <td>0.000000e+00</td>\n",
       "      <td>6.027714</td>\n",
       "      <td>46.690274</td>\n",
       "      <td>8.594654e-04</td>\n",
       "      <td>0.0</td>\n",
       "    </tr>\n",
       "  </tbody>\n",
       "</table>\n",
       "</div>"
      ],
      "text/plain": [
       "            Bits/weight  Initial_evidence  Initial_score        Lambda  \\\n",
       "unprunned  6.648946e-09          0.024086   1.139385e-07  0.000000e+00   \n",
       "ld_0.05    7.388984e-03         20.739019   0.000000e+00  8.498375e-18   \n",
       "ld_0.1     5.679035e-03         21.267519   0.000000e+00  1.699675e-17   \n",
       "ld_0.2     9.761005e-04         26.861496   0.000000e+00  3.399350e-17   \n",
       "ld_0.4     5.937249e-03         26.139417   0.000000e+00  6.798700e-17   \n",
       "ld_0.6     1.500676e-02          1.803262   0.000000e+00  0.000000e+00   \n",
       "ld_0.8     3.527932e-02          3.108909   0.000000e+00  1.359740e-16   \n",
       "ld_1       2.665228e-02          1.080786   0.000000e+00  0.000000e+00   \n",
       "ld_1.2     3.916356e-02          2.985151   0.000000e+00  0.000000e+00   \n",
       "ld_1.4     5.592489e-02          1.968282   0.000000e+00  2.719480e-16   \n",
       "\n",
       "           Portion_of_weights  Retrain_epochs  Retrain_evidence  \\\n",
       "unprunned        0.000000e+00        0.000000          0.024086   \n",
       "ld_0.05          0.000000e+00        9.073772         17.206313   \n",
       "ld_0.1           1.359740e-16        7.571878         37.685030   \n",
       "ld_0.2           0.000000e+00        8.962886          5.491646   \n",
       "ld_0.4           0.000000e+00        2.000000         11.509645   \n",
       "ld_0.6           0.000000e+00        3.511885         20.284489   \n",
       "ld_0.8           0.000000e+00        3.055050         53.720671   \n",
       "ld_1             0.000000e+00       11.372481         59.461708   \n",
       "ld_1.2           0.000000e+00        8.082904         43.251287   \n",
       "ld_1.4           0.000000e+00        6.027714         46.690274   \n",
       "\n",
       "           Retrain_score  Weights_number  \n",
       "unprunned   1.139385e-07             0.0  \n",
       "ld_0.05     9.398052e-03             0.0  \n",
       "ld_0.1      5.355812e-03             0.0  \n",
       "ld_0.2      2.415536e-03             0.0  \n",
       "ld_0.4      1.323312e-03             0.0  \n",
       "ld_0.6      8.039066e-04             0.0  \n",
       "ld_0.8      2.367564e-03             0.0  \n",
       "ld_1        3.610515e-03             0.0  \n",
       "ld_1.2      9.342190e-03             0.0  \n",
       "ld_1.4      8.594654e-04             0.0  "
      ]
     },
     "execution_count": 134,
     "metadata": {},
     "output_type": "execute_result"
    }
   ],
   "source": [
    "result_df_all.std(axis=0)"
   ]
  },
  {
   "cell_type": "code",
   "execution_count": null,
   "metadata": {
    "collapsed": true
   },
   "outputs": [],
   "source": []
  },
  {
   "cell_type": "code",
   "execution_count": 174,
   "metadata": {
    "collapsed": false
   },
   "outputs": [
    {
     "data": {
      "image/png": "[encoded data removed]",
      "text/plain": [
       "<matplotlib.figure.Figure at 0x7f146810f358>"
      ]
     },
     "metadata": {},
     "output_type": "display_data"
    }
   ],
   "source": [
    "fig, ax = plt.subplots()\n",
    "# line_1, = ax.plot(result_df_all.mean(axis=0).loc[:,'Lambda'].values,result_df_all.mean(axis=0).loc[:,'Retrain_evidence'].values, marker='o')\n",
    "x = result_df_all.mean(axis=0).loc[:,'Lambda'].values\n",
    "y = result_df_all.mean(axis=0).loc[:,'Retrain_evidence'].values\n",
    "xerr = result_df_all.std(axis=0).loc[:,'Lambda'].values\n",
    "yerr = result_df_all.std(axis=0).loc[:,'Retrain_evidence'].values\n",
    "\n",
    "line_1 = ax.errorbar(x=x,y=y,xerr=xerr,yerr=yerr,marker='o')\n",
    "ax.legend(['Retrain_evidence'],loc='upper left')\n",
    "ax.fill_between(x, y-yerr, y+yerr,color='#eeeeff')\n",
    "plt.savefig('Pictures/evidence_lambda_'+suffix)"
   ]
  },
  {
   "cell_type": "code",
   "execution_count": 196,
   "metadata": {
    "collapsed": false
   },
   "outputs": [
    {
     "data": {
      "image/png": "[encoded data removed]",
      "text/plain": [
       "<matplotlib.figure.Figure at 0x7f14655900b8>"
      ]
     },
     "metadata": {},
     "output_type": "display_data"
    }
   ],
   "source": [
    "fig, ax = plt.subplots()\n",
    "x = result_df_all.mean(axis=0).loc[:,'Lambda'].values\n",
    "y_1 = result_df_all.mean(axis=0).loc[:,'Initial_score'].values\n",
    "y_2 = result_df_all.mean(axis=0).loc[:,'Retrain_score'].values\n",
    "x_err = result_df_all.std(axis=0).loc[:,'Lambda'].values\n",
    "y_1_err = result_df_all.std(axis=0).loc[:,'Initial_score'].values\n",
    "y_2_err = result_df_all.std(axis=0).loc[:,'Retrain_score'].values\n",
    "\n",
    "line_1 = ax.errorbar(x=x,y=y_1,xerr=x_err,yerr=y_1_err, marker='o')\n",
    "line_2 = ax.errorbar(x=x,y=y_2,xerr=x_err,yerr=y_2_err, marker='o')\n",
    "ax.legend(['Initial_score','Retrain_score'])\n",
    "\n",
    "ax.fill_between(x, y_2-y_2_err, y_2+y_2_err,color='#eeffee')\n",
    "\n",
    "plt.xlabel('$\\lambda$')\n",
    "plt.ylabel('F1-score')\n",
    "\n",
    "plt.savefig('Pictures/lambda_'+suffix)"
   ]
  },
  {
   "cell_type": "markdown",
   "metadata": {},
   "source": [
    "score(доля оставшихся весов)"
   ]
  },
  {
   "cell_type": "code",
   "execution_count": 197,
   "metadata": {
    "collapsed": false,
    "scrolled": false
   },
   "outputs": [
    {
     "data": {
      "image/png": "[encoded data removed]",
      "text/plain": [
       "<matplotlib.figure.Figure at 0x7f146545b080>"
      ]
     },
     "metadata": {},
     "output_type": "display_data"
    }
   ],
   "source": [
    "fig, ax = plt.subplots()\n",
    "\n",
    "x = 1-result_df_all.mean(axis=0).loc[:,'Portion_of_weights'].values\n",
    "y_1 = result_df_all.mean(axis=0).loc[:,'Initial_score'].values\n",
    "y_2 = result_df_all.mean(axis=0).loc[:,'Retrain_score'].values\n",
    "x_err = result_df_all.std(axis=0).loc[:,'Portion_of_weights'].values\n",
    "y_1_err = result_df_all.std(axis=0).loc[:,'Initial_score'].values\n",
    "y_2_err = result_df_all.std(axis=0).loc[:,'Retrain_score'].values\n",
    "\n",
    "line_1 = ax.errorbar(x=x,y=y_1,xerr=x_err,yerr=y_1_err, marker='o')\n",
    "line_2 = ax.errorbar(x=x,y=y_2,xerr=x_err,yerr=y_2_err, marker='o')\n",
    "\n",
    "ax.legend(['Initial_score','Retrain_score'],loc='lower left')\n",
    "\n",
    "ax.fill_between(x, y_2-y_2_err, y_2+y_2_err,color='#eeffee')\n",
    "\n",
    "plt.xlabel('Proportion of weights')\n",
    "plt.ylabel('F1-score')\n",
    "\n",
    "plt.savefig('Pictures/portion_'+suffix)"
   ]
  },
  {
   "cell_type": "code",
   "execution_count": 198,
   "metadata": {
    "collapsed": false
   },
   "outputs": [
    {
     "data": {
      "image/png": "[encoded data removed]",
      "text/plain": [
       "<matplotlib.figure.Figure at 0x7f146533bcf8>"
      ]
     },
     "metadata": {},
     "output_type": "display_data"
    }
   ],
   "source": [
    "fig, ax = plt.subplots()\n",
    "\n",
    "x = result_df_all.mean(axis=0).loc[:,'Lambda'].values\n",
    "y_1 = result_df_all.mean(axis=0).loc[:,'Initial_evidence'].values\n",
    "y_2 = result_df_all.mean(axis=0).loc[:,'Retrain_evidence'].values\n",
    "x_err = result_df_all.std(axis=0).loc[:,'Lambda'].values\n",
    "y_1_err = result_df_all.std(axis=0).loc[:,'Initial_evidence'].values\n",
    "y_2_err = result_df_all.std(axis=0).loc[:,'Retrain_evidence'].values\n",
    "\n",
    "line_1 = ax.errorbar(x=x,y=y_1,xerr=x_err,yerr=y_1_err, marker='o')\n",
    "line_2 = ax.errorbar(x=x,y=y_2,xerr=x_err,yerr=y_2_err, marker='o')\n",
    "\n",
    "ax.legend(['Initial_evidence','Retrain_evidence'],loc='upper left')\n",
    "ax.fill_between(x, y_2-y_2_err, y_2+y_2_err,color='#eeffee')\n",
    "\n",
    "plt.xlabel('$\\lambda$')\n",
    "plt.ylabel('-Evidence')\n",
    "\n",
    "plt.savefig('Pictures/pruning_evidence_'+suffix)"
   ]
  }
 ],
 "metadata": {
  "kernelspec": {
   "display_name": "Python 3",
   "language": "python",
   "name": "python3"
  },
  "language_info": {
   "codemirror_mode": {
    "name": "ipython",
    "version": 3
   },
   "file_extension": ".py",
   "mimetype": "text/x-python",
   "name": "python",
   "nbconvert_exporter": "python",
   "pygments_lexer": "ipython3",
   "version": "3.6.0"
  }
 },
 "nbformat": 4,
 "nbformat_minor": 0
}
