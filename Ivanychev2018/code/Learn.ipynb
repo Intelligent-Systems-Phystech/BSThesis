{
 "cells": [
  {
   "cell_type": "code",
   "execution_count": 105,
   "metadata": {},
   "outputs": [],
   "source": [
    "import functools\n",
    "import importlib\n",
    "import pickle\n",
    "\n",
    "import keras\n",
    "import numpy as np\n",
    "import matplotlib.pyplot as plt\n",
    "import sklearn.linear_model\n",
    "import sklearn.pipeline\n",
    "import sklearn.preprocessing\n",
    "import sklearn.metrics\n",
    "import sklearn.model_selection\n",
    "import sklearn.multiclass\n",
    "import tqdm\n",
    "\n",
    "import lapprox.misc.utils as utils\n",
    "import lapprox.models.ssa as ssa\n",
    "import lapprox.models.ar as ar\n",
    "import lapprox.models.arma as arma\n",
    "import lapprox.models.fft as fft\n",
    "import lapprox.models.semor as semor\n",
    "import lapprox.joint.joint_mapping as joint_mapping\n",
    "import lapprox.segments.normalize as normalize\n",
    "import lapprox.misc.namespace_cutter as namespace_cutter\n",
    "\n",
    "importlib.reload(joint_mapping)\n",
    "\n",
    "%matplotlib inline"
   ]
  },
  {
   "cell_type": "code",
   "execution_count": 106,
   "metadata": {},
   "outputs": [],
   "source": [
    "with open(\"data/semor_profiles.pickle\", \"rb\") as f:\n",
    "    semor_profiles = pickle.load(f)\n",
    "\n",
    "for key, profile in semor_profiles.items():\n",
    "    semor_profiles[key] = normalize.shrink_segment(profile, 20)\n",
    "\n",
    "with open(\"data/segments.pickle\", \"rb\") as f:\n",
    "    segments_dict = pickle.load(f) "
   ]
  },
  {
   "cell_type": "markdown",
   "metadata": {},
   "source": [
    "## Подготавливаем данные"
   ]
  },
  {
   "cell_type": "code",
   "execution_count": 107,
   "metadata": {},
   "outputs": [],
   "source": [
    "action_and_segment = []\n",
    "\n",
    "for key, segments_array in segments_dict.items():\n",
    "    action_and_segment.extend([(key, s) for s in segments_array if s.size > 30])\n",
    "\n",
    "segments = [pair[1] for pair in action_and_segment]\n",
    "actions = [pair[0] for pair in action_and_segment]"
   ]
  },
  {
   "cell_type": "code",
   "execution_count": 108,
   "metadata": {},
   "outputs": [],
   "source": [
    "normalized_segments = normalize.normalize_segments(segments)\n",
    "action_and_norm_segment = [(pair[0][0], pair[1])\n",
    "                           for pair in zip(action_and_segment, normalized_segments)]\n",
    "le = sklearn.preprocessing.LabelEncoder()\n",
    "Y = le.fit_transform(actions)\n",
    "X = np.array(normalized_segments)"
   ]
  },
  {
   "cell_type": "code",
   "execution_count": 109,
   "metadata": {},
   "outputs": [],
   "source": [
    "models = {\n",
    "    \"ssa_5\": ssa.Ssa(5),\n",
    "    \"ssa_10\": ssa.Ssa(10),\n",
    "    \"ar_2\": ar.Ar(2),\n",
    "    \"ar_4\": ar.Ar(4),\n",
    "#     \"arma_2_2\": arma.Arma(2, 2),\n",
    "    \"fft_2\": fft.Fft(2),\n",
    "    \"fft_5\": fft.Fft(5),\n",
    "    \"semor_run\": semor.Semor(semor_profiles['run']),\n",
    "    \"semor_walk\": semor.Semor(semor_profiles['walk']),\n",
    "    \"semor_up\": semor.Semor(semor_profiles['up']),\n",
    "    \"semor_down\": semor.Semor(semor_profiles['down'])\n",
    "}\n",
    "mapper = joint_mapping.JointMapping(models)\n",
    "X_intermediate = mapper.fit_transform(X)"
   ]
  },
  {
   "cell_type": "code",
   "execution_count": 110,
   "metadata": {},
   "outputs": [],
   "source": [
    "def grid_search_using_mapping(X_intermediate, Y, mapper, clf, clf_grid, cv=10, n_jobs=-1):\n",
    "    cutter = namespace_cutter.CutNamespacesTransformer(namespaces=[], mapping=mapper)\n",
    "\n",
    "    pipeline = sklearn.pipeline.Pipeline([\n",
    "        ('namespace_cutter', cutter),\n",
    "        ('clf', clf)\n",
    "    ])\n",
    "    grid = dict({'namespace_cutter__namespaces': utils.all_combinations(list(models))}, **clf_grid)\n",
    "    gs = sklearn.model_selection.GridSearchCV(pipeline, grid, scoring='neg_log_loss', cv=cv, n_jobs=n_jobs, verbose=1,\n",
    "                                              return_train_score=True)\n",
    "    gs.fit(X_intermediate, Y)\n",
    "    return gs\n",
    "\n",
    "gss_clojure = functools.partial(grid_search_using_mapping, X_intermediate, Y, mapper)\n",
    "\n",
    "grids = {}\n",
    "clfs = {}\n",
    "grid_search_results = {}\n",
    "\n",
    "# Logistic regression, l2-regularization.\n",
    "clfs['lr_l2'] = sklearn.linear_model.LogisticRegressionCV(multi_class='multinomial',\n",
    "                                                          scoring='neg_log_loss')\n",
    "grids['lr_l2'] = {}\n",
    "# Logistic regression, l1-regularization.\n",
    "clfs['lr_l1'] = sklearn.linear_model.LogisticRegressionCV(solver='liblinear', penalty='l1',\n",
    "                                                          scoring='neg_log_loss')\n",
    "grids['lr_l1'] = {}\n",
    "\n",
    "# Elastic-net\n",
    "clfs['en'] = sklearn.linear_model.ElasticNetCV()\n",
    "grids['en'] = {}"
   ]
  },
  {
   "cell_type": "code",
   "execution_count": 111,
   "metadata": {},
   "outputs": [],
   "source": [
    "# gss_clojure(clfs['en'], grids['en'], n_jobs=1)"
   ]
  },
  {
   "cell_type": "code",
   "execution_count": null,
   "metadata": {},
   "outputs": [
    {
     "name": "stdout",
     "output_type": "stream",
     "text": [
      "Fitting 10 folds for each of 1022 candidates, totalling 10220 fits\n"
     ]
    },
    {
     "name": "stderr",
     "output_type": "stream",
     "text": [
      "[Parallel(n_jobs=-1)]: Done  34 tasks      | elapsed:    4.1s\n",
      "[Parallel(n_jobs=-1)]: Done 184 tasks      | elapsed:   19.5s\n",
      "[Parallel(n_jobs=-1)]: Done 434 tasks      | elapsed:   45.3s\n",
      "[Parallel(n_jobs=-1)]: Done 784 tasks      | elapsed:  1.6min\n",
      "[Parallel(n_jobs=-1)]: Done 1234 tasks      | elapsed:  2.5min\n",
      "[Parallel(n_jobs=-1)]: Done 1784 tasks      | elapsed:  3.7min\n",
      "[Parallel(n_jobs=-1)]: Done 2434 tasks      | elapsed:  5.2min\n",
      "[Parallel(n_jobs=-1)]: Done 3184 tasks      | elapsed:  6.9min\n",
      "[Parallel(n_jobs=-1)]: Done 4034 tasks      | elapsed:  8.8min\n",
      "[Parallel(n_jobs=-1)]: Done 4984 tasks      | elapsed: 11.2min\n",
      "[Parallel(n_jobs=-1)]: Done 6034 tasks      | elapsed: 13.4min\n",
      "[Parallel(n_jobs=-1)]: Done 7184 tasks      | elapsed: 15.8min\n",
      "[Parallel(n_jobs=-1)]: Done 8434 tasks      | elapsed: 18.6min\n"
     ]
    }
   ],
   "source": [
    "grid_search_results['lr_l2'] = gss_clojure(clfs['lr_l2'], grids['lr_l2'], n_jobs=-1)\n",
    "grid_search_results['lr_l1'] = gss_clojure(clfs['lr_l1'], grids['lr_l1'], n_jobs=-1)"
   ]
  },
  {
   "cell_type": "code",
   "execution_count": null,
   "metadata": {},
   "outputs": [],
   "source": [
    "grid_search_results['lr_l1'].best_score_\n",
    "grid_search_results['lr_l2'].best_score_"
   ]
  },
  {
   "cell_type": "markdown",
   "metadata": {},
   "source": [
    "# Нейронная сеть"
   ]
  },
  {
   "cell_type": "code",
   "execution_count": 10,
   "metadata": {},
   "outputs": [],
   "source": [
    "def transform_to_inputs(Y, n_classes):\n",
    "    Y_binary = np.zeros((Y.shape[0], n_classes))\n",
    "    for i in range(n_classes):\n",
    "        Y_binary[:, i] = (Y == i)\n",
    "    \n",
    "    return Y_binary\n",
    "\n",
    "def test_neural_network(X, Y, units, cv=10):\n",
    "    n_classes = len(set(Y))\n",
    "    kfold = sklearn.model_selection.StratifiedKFold(n_splits=cv, random_state=1)\n",
    "    \n",
    "    scores = []\n",
    "    for train_index, test_index in kfold.split(X, Y):\n",
    "        X_train, X_test = X[train_index], X[test_index]\n",
    "        y_train, y_test = (transform_to_inputs(Y[train_index], n_classes),\n",
    "                           transform_to_inputs(Y[test_index], n_classes))\n",
    "        \n",
    "        model = keras.models.Sequential()\n",
    "        model.add(keras.layers.Dense(units, activation='relu', input_dim=X_train.shape[1]))\n",
    "        model.add(keras.layers.Dense(n_classes, activation='sigmoid'))\n",
    "        model.compile(loss='categorical_crossentropy',\n",
    "                      optimizer='rmsprop')\n",
    "        model.fit(X_train, y_train, epochs=20, verbose=0)\n",
    "        scores.append(model.evaluate(X_test, y_test, verbose=0))\n",
    "    \n",
    "    return np.array(scores)"
   ]
  },
  {
   "cell_type": "code",
   "execution_count": 11,
   "metadata": {},
   "outputs": [
    {
     "name": "stderr",
     "output_type": "stream",
     "text": [
      "100%|██████████| 19/19 [07:48<00:00, 24.66s/it]\n"
     ]
    }
   ],
   "source": [
    "scores = {}\n",
    "for i in tqdm.trange(5, 100, 5):\n",
    "    scores[i] = test_neural_network(X, Y, i)"
   ]
  },
  {
   "cell_type": "markdown",
   "metadata": {},
   "source": [
    "## Логистическая регрессия на всех признаках"
   ]
  },
  {
   "cell_type": "code",
   "execution_count": 65,
   "metadata": {},
   "outputs": [
    {
     "name": "stdout",
     "output_type": "stream",
     "text": [
      "Fitting 10 folds for each of 40 candidates, totalling 400 fits\n"
     ]
    },
    {
     "name": "stderr",
     "output_type": "stream",
     "text": [
      "[Parallel(n_jobs=-1)]: Done 400 out of 400 | elapsed:    7.4s finished\n"
     ]
    },
    {
     "data": {
      "text/plain": [
       "GridSearchCV(cv=10, error_score='raise',\n",
       "       estimator=LogisticRegression(C=1.0, class_weight=None, dual=False, fit_intercept=True,\n",
       "          intercept_scaling=1, max_iter=100, multi_class='ovr', n_jobs=1,\n",
       "          penalty='l1', random_state=None, solver='liblinear', tol=0.0001,\n",
       "          verbose=0, warm_start=False),\n",
       "       fit_params=None, iid=True, n_jobs=-1,\n",
       "       param_grid={'C': array([1.00000e-03, 1.51178e-03, 2.28546e-03, 3.45511e-03, 5.22335e-03,\n",
       "       7.89652e-03, 1.19378e-02, 1.80472e-02, 2.72833e-02, 4.12463e-02,\n",
       "       6.23551e-02, 9.42668e-02, 1.42510e-01, 2.15443e-01, 3.25702e-01,\n",
       "       4.92388e-01, 7.44380e-01, 1.12534e+00, 1.70125e+00, 2.57191e... 8.37678e+02, 1.26638e+03,\n",
       "       1.91448e+03, 2.89427e+03, 4.37548e+03, 6.61474e+03, 1.00000e+04])},\n",
       "       pre_dispatch='2*n_jobs', refit=True, return_train_score=True,\n",
       "       scoring='neg_log_loss', verbose=1)"
      ]
     },
     "execution_count": 65,
     "metadata": {},
     "output_type": "execute_result"
    }
   ],
   "source": [
    "grid = {\n",
    "    'C': 10 ** np.linspace(-3, 4, 40)\n",
    "}\n",
    "clf = sklearn.linear_model.LogisticRegression(penalty='l1', solver='liblinear')\n",
    "gs = sklearn.model_selection.GridSearchCV(clf, grid, scoring='neg_log_loss', cv=10, n_jobs=-1, verbose=1,\n",
    "                                          return_train_score=True`)\n",
    "gs.fit(X_intermediate, Y)"
   ]
  },
  {
   "cell_type": "code",
   "execution_count": 91,
   "metadata": {},
   "outputs": [
    {
     "data": {
      "image/png": "[encoded data removed]",
      "text/plain": [
       "<Figure size 720x576 with 1 Axes>"
      ]
     },
     "metadata": {},
     "output_type": "display_data"
    }
   ],
   "source": [
    "plt.figure(figsize=(10, 8))\n",
    "c_grid = gs.param_grid['C']\n",
    "plt.errorbar(np.log10(c_grid), gs.cv_results_['mean_test_score'], gs.cv_results_['std_test_score'])\n",
    "plt.xlabel('log10(C)')\n",
    "plt.ylabel('Negative log-loss')\n",
    "plt.title(\"Quality as function of C\")\n",
    "plt.savefig(\"../pics/lr_quality_C.png\", dpi=200)"
   ]
  },
  {
   "cell_type": "code",
   "execution_count": 87,
   "metadata": {},
   "outputs": [],
   "source": [
    "C_to_feature_count = []\n",
    "\n",
    "for C in grid['C']:\n",
    "    clf = sklearn.linear_model.LogisticRegression(penalty='l1', solver='liblinear', C=C)\n",
    "    clf.fit(X_intermediate, Y)\n",
    "    C_to_feature_count.append((C, np.sum(np.isclose(clf.coef_, 0.0))))"
   ]
  },
  {
   "cell_type": "code",
   "execution_count": 92,
   "metadata": {},
   "outputs": [
    {
     "data": {
      "image/png": "[encoded data removed]",
      "text/plain": [
       "<Figure size 720x576 with 1 Axes>"
      ]
     },
     "metadata": {},
     "output_type": "display_data"
    }
   ],
   "source": [
    "plt.figure(figsize=(10, 8))\n",
    "plt.plot(np.log10([t[0] for t in C_to_feature_count]), [t[1] for t in C_to_feature_count])\n",
    "plt.xlabel('log10(C)')\n",
    "plt.ylabel('Number of features chosen')\n",
    "plt.title(\"Number of features of C\")\n",
    "plt.savefig(\"../pics/lr_n_features_C.png\", dpi=200)"
   ]
  },
  {
   "cell_type": "markdown",
   "metadata": {},
   "source": [
    "# Графики"
   ]
  },
  {
   "cell_type": "code",
   "execution_count": null,
   "metadata": {},
   "outputs": [],
   "source": []
  },
  {
   "cell_type": "markdown",
   "metadata": {},
   "source": [
    "## Модель с промежуточным пространством"
   ]
  },
  {
   "cell_type": "code",
   "execution_count": 34,
   "metadata": {},
   "outputs": [
    {
     "data": {
      "text/plain": [
       "-0.1895112268157099"
      ]
     },
     "execution_count": 34,
     "metadata": {},
     "output_type": "execute_result"
    }
   ],
   "source": [
    "grid_search_results['lr_l2'].best_score_"
   ]
  },
  {
   "cell_type": "markdown",
   "metadata": {},
   "source": [
    "## Качество на нейронке"
   ]
  },
  {
   "cell_type": "code",
   "execution_count": 22,
   "metadata": {},
   "outputs": [],
   "source": [
    "score_tuples = [(k, v) for k, v in scores.items()]\n",
    "score_tuples = sorted(score_tuples, key = lambda x: x[0])\n",
    "X = np.array([t[0] for t in score_tuples])\n",
    "score_arrays = np.array([t[1] for t in score_tuples])"
   ]
  },
  {
   "cell_type": "code",
   "execution_count": 30,
   "metadata": {},
   "outputs": [
    {
     "data": {
      "text/plain": [
       "Text(0,0.5,'Negative log-loss')"
      ]
     },
     "execution_count": 30,
     "metadata": {},
     "output_type": "execute_result"
    },
    {
     "data": {
      "image/png": "[encoded data removed]",
      "text/plain": [
       "<Figure size 720x576 with 1 Axes>"
      ]
     },
     "metadata": {},
     "output_type": "display_data"
    }
   ],
   "source": [
    "plt.figure(figsize=(10, 8))\n",
    "plt.errorbar(X, np.mean(score_arrays, axis=1), yerr=np.std(score_arrays, axis=1))\n",
    "plt.xlabel(\"Hidden layer neurons count\")\n",
    "plt.ylabel(\"Negative log-loss\")"
   ]
  }
 ],
 "metadata": {
  "kernelspec": {
   "display_name": "Python 3",
   "language": "python",
   "name": "python3"
  },
  "language_info": {
   "codemirror_mode": {
    "name": "ipython",
    "version": 3
   },
   "file_extension": ".py",
   "mimetype": "text/x-python",
   "name": "python",
   "nbconvert_exporter": "python",
   "pygments_lexer": "ipython3",
   "version": "3.6.5"
  }
 },
 "nbformat": 4,
 "nbformat_minor": 2
}
